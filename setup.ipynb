{
 "cells": [
  {
   "cell_type": "markdown",
   "id": "8d91dd73-5936-4aa4-85c9-a5023bb05756",
   "metadata": {},
   "source": [
    "## Weaviate Setup"
   ]
  },
  {
   "cell_type": "code",
   "execution_count": 21,
   "id": "9f6b34eb-31ee-472c-9dd1-f3551a344a3c",
   "metadata": {
    "tags": []
   },
   "outputs": [],
   "source": [
    "%reload_ext dotenv\n",
    "%dotenv"
   ]
  },
  {
   "cell_type": "code",
   "execution_count": 15,
   "id": "59aef7c4-6d9b-40db-bfc3-6a3c4b62d441",
   "metadata": {
    "tags": []
   },
   "outputs": [],
   "source": [
    "import json\n",
    "\n",
    "def jprint(schema):\n",
    "    print(json.dumps(schema, indent=4))"
   ]
  },
  {
   "cell_type": "code",
   "execution_count": 17,
   "id": "f66d5c41-97f4-4f82-a69b-c65fa3f51d9d",
   "metadata": {
    "tags": []
   },
   "outputs": [],
   "source": [
    "import os\n",
    "import weaviate\n",
    "from weaviate.util import generate_uuid5\n",
    "\n",
    "weaviate_api_key = os.environ['WEAVIATE_API_KEY']\n",
    "weaviate_url = os.environ['WEAVIATE_URL']\n",
    "openai_api_key = os.environ['OPENAI_API_KEY']\n",
    "\n",
    "auth_config = weaviate.AuthApiKey(api_key=weaviate_api_key)\n",
    "\n",
    "# set up the client\n",
    "CLIENT = weaviate.Client(\n",
    "    url=weaviate_url,\n",
    "    auth_client_secret=auth_config,\n",
    "    additional_headers={\n",
    "        \"X-OpenAI-Api-Key\": openai_api_key\n",
    "    }\n",
    ")"
   ]
  },
  {
   "cell_type": "code",
   "execution_count": 20,
   "id": "a8a2c954-e126-4f21-b7ce-6c42b6985bd2",
   "metadata": {
    "tags": []
   },
   "outputs": [
    {
     "name": "stdout",
     "output_type": "stream",
     "text": [
      "Setup Complete. Use CLIENT to access Weaviate.\n"
     ]
    }
   ],
   "source": [
    "if CLIENT.is_live():\n",
    "    print(\"Setup Complete. Use CLIENT to access Weaviate.\")\n",
    "else:\n",
    "    print(\"Error connecting to Weaviate.\")"
   ]
  }
 ],
 "metadata": {
  "kernelspec": {
   "display_name": "weaviate:Python",
   "language": "python",
   "name": "conda-env-weaviate-py"
  },
  "language_info": {
   "codemirror_mode": {
    "name": "ipython",
    "version": 3
   },
   "file_extension": ".py",
   "mimetype": "text/x-python",
   "name": "python",
   "nbconvert_exporter": "python",
   "pygments_lexer": "ipython3",
   "version": "3.9.16"
  }
 },
 "nbformat": 4,
 "nbformat_minor": 5
}
