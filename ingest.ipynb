{
 "cells": [
  {
   "cell_type": "code",
   "execution_count": 9,
   "id": "8e21d1bf-ea3f-4f5b-b7f9-4210cc674946",
   "metadata": {
    "tags": []
   },
   "outputs": [
    {
     "name": "stdout",
     "output_type": "stream",
     "text": [
      "Setup Complete. Use CLIENT to access Weaviate.\n"
     ]
    }
   ],
   "source": [
    "%run \"./setup.ipynb\"\n",
    "if CLIENT == None:\n",
    "    print(\"Failed to create CLIENT.\")"
   ]
  },
  {
   "cell_type": "code",
   "execution_count": null,
   "id": "ff2ed0f5-f431-476c-b1f4-b9315543d2ee",
   "metadata": {
    "tags": []
   },
   "outputs": [],
   "source": [
    "# flush the schema and data\n",
    "# CLIENT.schema.delete_all()"
   ]
  },
  {
   "cell_type": "code",
   "execution_count": 10,
   "id": "b395fadf-7795-4e65-b9d4-a92628d49679",
   "metadata": {
    "tags": []
   },
   "outputs": [],
   "source": [
    "# create the schema\n",
    "schema = {\n",
    "    \"classes\": [\n",
    "        {\n",
    "            \"class\": \"Work\",\n",
    "            \"vectorizer\": \"text2vec-transformers\",\n",
    "            \"moduleConfig\": {\n",
    "                \"text2vec-transformers\": {\n",
    "                    \"vectorizeClassName\": True,\n",
    "                    \"resourceName\": os.getenv(\"AZURE_OPENAI_RESOURCE_NAME\"),\n",
    "                    \"deploymentId\": os.getenv(\"AZURE_OPENAI_DEPLOYMENT_ID\"),\n",
    "                },\n",
    "                \"generative-openai\": {\n",
    "                    \"vectorizeClassName\": True,\n",
    "                    \"resourceName\": os.getenv(\"AZURE_OPENAI_RESOURCE_NAME\"),\n",
    "                    \"deploymentId\": os.getenv(\"AZURE_OPENAI_DEPLOYMENT_ID\"),\n",
    "                }\n",
    "            },\n",
    "            \"properties\": [\n",
    "                {\"dataType\": [\"text\"], \"name\": \"title\"},\n",
    "                {\"dataType\": [\"text\"], \"name\": \"accession_number\"},\n",
    "                {\"dataType\": [\"text[]\"], \"name\": \"alternate_title\"},\n",
    "                {\"dataType\": [\"text\"], \"name\": \"api_model\"},\n",
    "                {\"dataType\": [\"text\"], \"name\": \"catalog_key\"},\n",
    "                {\"dataType\": [\"text\"], \"name\": \"collection\"},\n",
    "                {\"dataType\": [\"field\"], \"name\": \"collection_field\"},\n",
    "                {\"dataType\": [\"text[]\"], \"name\": \"contributor\"},\n",
    "                {\"dataType\": [\"text\"], \"name\": \"create_date\"},\n",
    "                {\"dataType\": [\"text[]\"], \"name\": \"creator\"},\n",
    "                {\"dataType\": [\"text[]\"], \"name\": \"date_created\"},\n",
    "                {\"dataType\": [\"text[]\"], \"name\": \"description\"},\n",
    "                {\"dataType\": [\"text[]\"], \"name\": \"genre\"},\n",
    "                {\"dataType\": [\"text\"], \"name\": \"identifier\"},\n",
    "                {\"dataType\": [\"text\"], \"name\": \"identifier_human_readable\"},\n",
    "                {\"dataType\": [\"text\"], \"name\": \"keywords\"},\n",
    "                {\"dataType\": [\"text[]\"], \"name\": \"language\"},\n",
    "                {\"dataType\": [\"text\"], \"name\": \"library_unit\"},\n",
    "                {\"dataType\": [\"text[]\"], \"name\": \"location\"},\n",
    "                {\"dataType\": [\"text[]\"], \"name\": \"physical_description_material\"},\n",
    "                {\"dataType\": [\"text[]\"], \"name\": \"physical_description_size\"},\n",
    "                {\"dataType\": [\"text\"], \"name\": \"preservation_level\"},\n",
    "                {\"dataType\": [\"boolean\"], \"name\": \"published\"},\n",
    "                {\"dataType\": [\"text[]\"], \"name\": \"related_material\"},\n",
    "                {\"dataType\": [\"text[]\"], \"name\": \"related_url\"},\n",
    "                {\"dataType\": [\"text\"], \"name\": \"rights_holder\"},\n",
    "                {\"dataType\": [\"text\"], \"name\": \"rights_statement\"},\n",
    "                {\"dataType\": [\"text\"], \"name\": \"scope_and_contents\"},\n",
    "                {\"dataType\": [\"text[]\"], \"name\": \"series\"},\n",
    "                {\"dataType\": [\"text[]\"], \"name\": \"source\"},\n",
    "                {\"dataType\": [\"text\"], \"name\": \"status\"},\n",
    "                {\"dataType\": [\"text[]\"], \"name\": \"style_period\"},\n",
    "                {\"dataType\": [\"text[]\"], \"name\": \"subject\"},\n",
    "                {\"dataType\": [\"text\"], \"name\": \"table_of_contents\"},\n",
    "                {\"dataType\": [\"text[]\"], \"name\": \"technique\"},\n",
    "                {\"dataType\": [\"text\"], \"name\": \"visibility\"},\n",
    "                {\"dataType\": [\"text\"], \"name\": \"work_type\"},\n",
    "            ]\n",
    "        }\n",
    "    ]\n",
    "}"
   ]
  },
  {
   "cell_type": "code",
   "execution_count": 12,
   "id": "a9a40867-e8af-4518-9d62-915836c9a9d4",
   "metadata": {
    "tags": []
   },
   "outputs": [
    {
     "ename": "UnexpectedStatusCodeException",
     "evalue": "Create class! Unexpected status code: 422, with response body: {'error': [{'message': 'vectorizer: no module with name \"text2vec-openai\" present'}]}.",
     "output_type": "error",
     "traceback": [
      "\u001b[0;31m---------------------------------------------------------------------------\u001b[0m",
      "\u001b[0;31mUnexpectedStatusCodeException\u001b[0m             Traceback (most recent call last)",
      "Cell \u001b[0;32mIn[12], line 2\u001b[0m\n\u001b[1;32m      1\u001b[0m CLIENT\u001b[39m.\u001b[39mschema\u001b[39m.\u001b[39mdelete_class(\u001b[39m\"\u001b[39m\u001b[39mWork\u001b[39m\u001b[39m\"\u001b[39m)\n\u001b[0;32m----> 2\u001b[0m CLIENT\u001b[39m.\u001b[39;49mschema\u001b[39m.\u001b[39;49mcreate(schema)\n",
      "File \u001b[0;32m~/.conda/envs/weaviate/lib/python3.9/site-packages/weaviate/schema/crud_schema.py:130\u001b[0m, in \u001b[0;36mSchema.create\u001b[0;34m(self, schema)\u001b[0m\n\u001b[1;32m    128\u001b[0m \u001b[39m# validate the schema before loading\u001b[39;00m\n\u001b[1;32m    129\u001b[0m validate_schema(loaded_schema)\n\u001b[0;32m--> 130\u001b[0m \u001b[39mself\u001b[39;49m\u001b[39m.\u001b[39;49m_create_classes_with_primitives(loaded_schema[\u001b[39m\"\u001b[39;49m\u001b[39mclasses\u001b[39;49m\u001b[39m\"\u001b[39;49m])\n\u001b[1;32m    131\u001b[0m \u001b[39mself\u001b[39m\u001b[39m.\u001b[39m_create_complex_properties_from_classes(loaded_schema[\u001b[39m\"\u001b[39m\u001b[39mclasses\u001b[39m\u001b[39m\"\u001b[39m])\n",
      "File \u001b[0;32m~/.conda/envs/weaviate/lib/python3.9/site-packages/weaviate/schema/crud_schema.py:765\u001b[0m, in \u001b[0;36mSchema._create_classes_with_primitives\u001b[0;34m(self, schema_classes_list)\u001b[0m\n\u001b[1;32m    753\u001b[0m \u001b[39m\u001b[39m\u001b[39m\"\"\"\u001b[39;00m\n\u001b[1;32m    754\u001b[0m \u001b[39mCreate all the classes in the list and primitive properties.\u001b[39;00m\n\u001b[1;32m    755\u001b[0m \u001b[39mThis function does not create references,\u001b[39;00m\n\u001b[0;32m   (...)\u001b[0m\n\u001b[1;32m    761\u001b[0m \u001b[39m    A list of classes as they are found in a schema JSON description.\u001b[39;00m\n\u001b[1;32m    762\u001b[0m \u001b[39m\"\"\"\u001b[39;00m\n\u001b[1;32m    764\u001b[0m \u001b[39mfor\u001b[39;00m weaviate_class \u001b[39min\u001b[39;00m schema_classes_list:\n\u001b[0;32m--> 765\u001b[0m     \u001b[39mself\u001b[39;49m\u001b[39m.\u001b[39;49m_create_class_with_primitives(weaviate_class)\n",
      "File \u001b[0;32m~/.conda/envs/weaviate/lib/python3.9/site-packages/weaviate/schema/crud_schema.py:750\u001b[0m, in \u001b[0;36mSchema._create_class_with_primitives\u001b[0;34m(self, weaviate_class)\u001b[0m\n\u001b[1;32m    748\u001b[0m     \u001b[39mraise\u001b[39;00m RequestsConnectionError(\u001b[39m\"\u001b[39m\u001b[39mClass may not have been created properly.\u001b[39m\u001b[39m\"\u001b[39m) \u001b[39mfrom\u001b[39;00m \u001b[39mconn_err\u001b[39;00m\n\u001b[1;32m    749\u001b[0m \u001b[39mif\u001b[39;00m response\u001b[39m.\u001b[39mstatus_code \u001b[39m!=\u001b[39m \u001b[39m200\u001b[39m:\n\u001b[0;32m--> 750\u001b[0m     \u001b[39mraise\u001b[39;00m UnexpectedStatusCodeException(\u001b[39m\"\u001b[39m\u001b[39mCreate class\u001b[39m\u001b[39m\"\u001b[39m, response)\n",
      "\u001b[0;31mUnexpectedStatusCodeException\u001b[0m: Create class! Unexpected status code: 422, with response body: {'error': [{'message': 'vectorizer: no module with name \"text2vec-openai\" present'}]}."
     ]
    }
   ],
   "source": [
    "CLIENT.schema.delete_class(\"Work\")\n",
    "CLIENT.schema.create(schema)"
   ]
  },
  {
   "cell_type": "code",
   "execution_count": null,
   "id": "e3a05df5-1003-408b-8f65-ddfd91f4ae16",
   "metadata": {
    "tags": []
   },
   "outputs": [],
   "source": [
    "%pip install pandas\n",
    "import pandas as pd"
   ]
  },
  {
   "cell_type": "code",
   "execution_count": null,
   "id": "a8b1e82b-4d1a-464e-a824-d81bb62a9432",
   "metadata": {
    "tags": []
   },
   "outputs": [],
   "source": [
    "# Read the csv file\n",
    "data = pd.read_pickle(\"./data/nuldc_06_07_filtered_with_lists_(fixed_identifiers).pkl\")\n",
    "print(f'Number of records: {len(data)}')\n",
    "first_record = data.iloc[0].to_dict()\n",
    "print(\"Sample record: \")\n",
    "for key, value in first_record.items():\n",
    "    print(f'    {key}: {value}')"
   ]
  },
  {
   "cell_type": "code",
   "execution_count": null,
   "id": "d22efd44-bcc9-4527-83dc-2d8ec2daf86d",
   "metadata": {
    "tags": []
   },
   "outputs": [],
   "source": [
    "CLIENT.batch.configure(\n",
    "    batch_size=20,\n",
    "    callback=weaviate.util.check_batch_result,\n",
    "    dynamic=True,\n",
    "    timeout_retries=5,\n",
    "    connection_error_retries=5,\n",
    ")\n",
    "\n",
    "with CLIENT.batch as batch:\n",
    "    for i, d in enumerate(data.iloc):\n",
    "        filtered = d.dropna().to_dict()\n",
    "        uuid = filtered['identifier']\n",
    "        print(f\"{i} / 110160 ({round(i / 110160 * 100, 1)}%) -- {uuid}\")\n",
    "        batch.add_data_object(data_object=filtered, class_name=\"Work\", uuid=uuid)"
   ]
  }
 ],
 "metadata": {
  "kernelspec": {
   "display_name": "weaviate",
   "language": "python",
   "name": "python3"
  },
  "language_info": {
   "codemirror_mode": {
    "name": "ipython",
    "version": 3
   },
   "file_extension": ".py",
   "mimetype": "text/x-python",
   "name": "python",
   "nbconvert_exporter": "python",
   "pygments_lexer": "ipython3",
   "version": "3.9.16"
  }
 },
 "nbformat": 4,
 "nbformat_minor": 5
}
