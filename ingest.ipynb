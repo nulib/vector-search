{
 "cells": [
  {
   "cell_type": "code",
   "execution_count": 2,
   "id": "b395fadf-7795-4e65-b9d4-a92628d49679",
   "metadata": {
    "tags": []
   },
   "outputs": [],
   "source": [
    "import os\n",
    "import weaviate\n",
    "from weaviate.util import generate_uuid5\n",
    "from dotenv import load_dotenv\n",
    "\n",
    "load_dotenv()\n",
    "\n",
    "weaviate_api_key = os.environ['WEAVIATE_API_KEY']\n",
    "weaviate_url = os.environ['WEAVIATE_URL']\n",
    "openai_api_key = os.environ['OPENAI_API_KEY']\n",
    "\n",
    "auth_config = weaviate.AuthApiKey(api_key=weaviate_api_key)\n",
    "\n",
    "# set up the client\n",
    "CLIENT = weaviate.Client(\n",
    "    url=weaviate_url,\n",
    "    auth_client_secret=auth_config,\n",
    "    additional_headers={\n",
    "        \"X-OpenAI-Api-Key\": openai_api_key\n",
    "    }\n",
    ")\n",
    "\n",
    "# flush the schema and data\n",
    "CLIENT.schema.delete_all()\n",
    "\n",
    "# create the schema\n",
    "schema = {\n",
    "    \"classes\": [\n",
    "        {\n",
    "            \"class\": \"Work\",\n",
    "            \"vectorizer\": \"text2vec-openai\",\n",
    "                \"moduleConfig\": {\n",
    "                \"text2vec-openai\": {\n",
    "                    \"vectorizeClassName\": True\n",
    "                }\n",
    "            },\n",
    "            \"properties\": [\n",
    "                {\"dataType\": [\"text\"], \"name\": \"title\"},\n",
    "                {\"dataType\": [\"text\"], \"name\": \"accession_number\"},\n",
    "                {\"dataType\": [\"text\"], \"name\": \"alternate_title\"},\n",
    "                {\"dataType\": [\"text\"], \"name\": \"api_model\"},\n",
    "                {\"dataType\": [\"number\"], \"name\": \"catalog_key\"},\n",
    "                {\"dataType\": [\"text\"], \"name\": \"collection\"},\n",
    "                {\"dataType\": [\"text\"], \"name\": \"contributor\"},\n",
    "                {\"dataType\": [\"text\"], \"name\": \"create_date\"},\n",
    "                {\"dataType\": [\"text\"], \"name\": \"creator\"},\n",
    "                {\"dataType\": [\"text\"], \"name\": \"date_created\"},\n",
    "                {\"dataType\": [\"text\"], \"name\": \"description\"},\n",
    "                {\"dataType\": [\"text\"], \"name\": \"genre\"},\n",
    "                {\"dataType\": [\"text\"], \"name\": \"identifier\"},\n",
    "                {\"dataType\": [\"text\"], \"name\": \"identifier_human_readable\"},\n",
    "                {\"dataType\": [\"text\"], \"name\": \"keywords\"},\n",
    "                {\"dataType\": [\"text\"], \"name\": \"language\"},\n",
    "                {\"dataType\": [\"text\"], \"name\": \"library_unit\"},\n",
    "                {\"dataType\": [\"text\"], \"name\": \"location\"},\n",
    "                {\"dataType\": [\"text\"], \"name\": \"physical_description_material\"},\n",
    "                {\"dataType\": [\"text\"], \"name\": \"physical_description_size\"},\n",
    "                {\"dataType\": [\"text\"], \"name\": \"preservation_level\"},\n",
    "                {\"dataType\": [\"boolean\"], \"name\": \"published\"},\n",
    "                {\"dataType\": [\"text\"], \"name\": \"related_material\"},\n",
    "                {\"dataType\": [\"text\"], \"name\": \"related_url\"},\n",
    "                {\"dataType\": [\"text\"], \"name\": \"rights_holder\"},\n",
    "                {\"dataType\": [\"text\"], \"name\": \"rights_statement\"},\n",
    "                {\"dataType\": [\"text\"], \"name\": \"scope_and_contents\"},\n",
    "                {\"dataType\": [\"text\"], \"name\": \"series\"},\n",
    "                {\"dataType\": [\"text\"], \"name\": \"source\"},\n",
    "                {\"dataType\": [\"text\"], \"name\": \"status\"},\n",
    "                {\"dataType\": [\"text\"], \"name\": \"style_period\"},\n",
    "                {\"dataType\": [\"text\"], \"name\": \"subject\"},\n",
    "                {\"dataType\": [\"text\"], \"name\": \"table_of_contents\"},\n",
    "                {\"dataType\": [\"text\"], \"name\": \"technique\"},\n",
    "                {\"dataType\": [\"text\"], \"name\": \"visibility\"},\n",
    "                {\"dataType\": [\"text\"], \"name\": \"work_type\"},\n",
    "            ],\n",
    "        }\n",
    "    ]\n",
    "}\n",
    "\n",
    "\n",
    "CLIENT.schema.create(schema)"
   ]
  },
  {
   "cell_type": "code",
   "execution_count": 3,
   "id": "d1fc73b2-8d0d-45f0-b805-630cf211c91c",
   "metadata": {},
   "outputs": [],
   "source": [
    "import json\n",
    "\n",
    "def jprint(schema):\n",
    "    print(json.dumps(schema, indent=4))"
   ]
  },
  {
   "cell_type": "code",
   "execution_count": 4,
   "id": "e3a05df5-1003-408b-8f65-ddfd91f4ae16",
   "metadata": {
    "tags": []
   },
   "outputs": [
    {
     "name": "stdout",
     "output_type": "stream",
     "text": [
      "Requirement already satisfied: pandas in /home/studio-lab-user/.conda/envs/default/lib/python3.9/site-packages (2.0.2)\n",
      "Requirement already satisfied: python-dateutil>=2.8.2 in /home/studio-lab-user/.conda/envs/default/lib/python3.9/site-packages (from pandas) (2.8.2)\n",
      "Requirement already satisfied: numpy>=1.20.3 in /home/studio-lab-user/.conda/envs/default/lib/python3.9/site-packages (from pandas) (1.24.3)\n",
      "Requirement already satisfied: tzdata>=2022.1 in /home/studio-lab-user/.conda/envs/default/lib/python3.9/site-packages (from pandas) (2023.3)\n",
      "Requirement already satisfied: pytz>=2020.1 in /home/studio-lab-user/.conda/envs/default/lib/python3.9/site-packages (from pandas) (2023.3)\n",
      "Requirement already satisfied: six>=1.5 in /home/studio-lab-user/.conda/envs/default/lib/python3.9/site-packages (from python-dateutil>=2.8.2->pandas) (1.16.0)\n",
      "Note: you may need to restart the kernel to use updated packages.\n"
     ]
    }
   ],
   "source": [
    "%pip install pandas\n",
    "import pandas as pd"
   ]
  },
  {
   "cell_type": "code",
   "execution_count": 5,
   "id": "a8b1e82b-4d1a-464e-a824-d81bb62a9432",
   "metadata": {
    "tags": []
   },
   "outputs": [
    {
     "name": "stdout",
     "output_type": "stream",
     "text": [
      "Number of records: 9995\n",
      "Sample record: \n",
      "    accession_number: P0402_nubaa_s2_df2_112\n",
      "    alternate_title: nan\n",
      "    api_model: Work\n",
      "    catalog_key: nan\n",
      "    collection: Records of Northwestern University Black Alumni Association (NUBAA) \n",
      "    contributor: Northwestern University Black Alumni Association\n",
      "    create_date: 2022-08-01T16:31:55.476329Z\n",
      "    creator: nan\n",
      "    date_created: 1968 to 2002\n",
      "    description: nan\n",
      "    genre: born digital|CD-Rs\n",
      "    identifier: 18f90cdd-0dfe-41a3-8596-ee6b1358261c\n",
      "    identifier_human_readable: Series 2, digital folder 2\n",
      "    keywords: nan\n",
      "    language: nan\n",
      "    library_unit: University Archives\n",
      "    location: nan\n",
      "    physical_description_material: From Compact Disc Recordable (CD-R)\n",
      "    physical_description_size: nan\n",
      "    preservation_level: Level 1\n",
      "    published: True\n",
      "    related_material: nan\n",
      "    related_url: Finding Aid\n",
      "    rights_holder: nan\n",
      "    rights_statement: In Copyright\n",
      "    scope_and_contents: nan\n",
      "    series: Records of Northwestern University Black Alumni Association (NUBAA)--Photographs, 1968-2002 and undated\n",
      "    source: nan\n",
      "    status: Done\n",
      "    style_period: nan\n",
      "    subject: Northwestern University Black Alumni Association|African American college students|Northwestern University (Evanston, Ill.)|Universities and colleges--Alumni and alumnae--Societies, etc.\n",
      "    table_of_contents: nan\n",
      "    technique: nan\n",
      "    title: young Pat Broussard\n",
      "    visibility: Public\n",
      "    work_type: Image\n"
     ]
    }
   ],
   "source": [
    "# Read the csv file\n",
    "data = pd.read_csv('./data/nuldc_06_01_23_random_10k_filtered.csv').rename(columns={'identifier': 'identifier_human_readable', 'id': 'identifier'})\n",
    "print(f'Number of records: {len(data)}')\n",
    "first_record = data.iloc[0].to_dict()\n",
    "print(\"Sample record: \")\n",
    "for key, value in first_record.items():\n",
    "    print(f'    {key}: {value}')"
   ]
  },
  {
   "cell_type": "code",
   "execution_count": 41,
   "id": "d22efd44-bcc9-4527-83dc-2d8ec2daf86d",
   "metadata": {
    "tags": []
   },
   "outputs": [],
   "source": [
    "from weaviate.util import generate_uuid5\n",
    "\n",
    "def check_batch_result(results: dict):\n",
    "  \"\"\"\n",
    "  Check batch results for errors.\n",
    "\n",
    "  Parameters\n",
    "  ----------\n",
    "  results : dict\n",
    "      The Weaviate batch creation return value.\n",
    "  \"\"\"\n",
    "\n",
    "  if results is not None:\n",
    "    for result in results:\n",
    "      if \"result\" in result and \"errors\" in result[\"result\"]:\n",
    "        if \"error\" in result[\"result\"][\"errors\"]:\n",
    "          print(result[\"result\"])\n",
    "\n",
    "\n",
    "\n",
    "CLIENT.batch.configure(\n",
    "    batch_size=50\n",
    ")\n",
    "\n",
    "with CLIENT.batch as batch:\n",
    "    for i, d in enumerate(data.iloc):\n",
    "        filtered = d.dropna().to_dict()\n",
    "        uuid_work = generate_uuid5(filtered, \"Work\")\n",
    "        result = batch.add_data_object(\n",
    "            data_object=filtered,\n",
    "            class_name=\"Work\",\n",
    "            uuid=uuid_work\n",
    "        )\n",
    "        check_batch_result(result)"
   ]
  }
 ],
 "metadata": {
  "kernelspec": {
   "display_name": "weaviate:Python",
   "language": "python",
   "name": "conda-env-weaviate-py"
  },
  "language_info": {
   "codemirror_mode": {
    "name": "ipython",
    "version": 3
   },
   "file_extension": ".py",
   "mimetype": "text/x-python",
   "name": "python",
   "nbconvert_exporter": "python",
   "pygments_lexer": "ipython3",
   "version": "3.9.16"
  }
 },
 "nbformat": 4,
 "nbformat_minor": 5
}
