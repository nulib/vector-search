{
 "cells": [
  {
   "cell_type": "markdown",
   "id": "9eb1f530-1696-4784-b0db-c6d3952bd329",
   "metadata": {
    "tags": []
   },
   "source": [
    "# RDC Query Notebook"
   ]
  },
  {
   "cell_type": "code",
   "execution_count": 2,
   "id": "143ec3fd-6cb6-4f3e-9e99-d673d81211e3",
   "metadata": {
    "tags": []
   },
   "outputs": [],
   "source": [
    "%run \"../setup.ipynb\"\n",
    "if CLIENT == None:\n",
    "    print(\"Failed to create CLIENT.\")"
   ]
  },
  {
   "cell_type": "code",
   "execution_count": 18,
   "id": "cbadf0ee-e582-450a-854c-6e2a7696e375",
   "metadata": {
    "tags": []
   },
   "outputs": [
    {
     "name": "stdout",
     "output_type": "stream",
     "text": [
      "{'data': {'Aggregate': {'Work': [{'meta': {'count': 92552}}]}}}\n"
     ]
    }
   ],
   "source": [
    "class_name = \"Work\"\n",
    "count = CLIENT.query.aggregate(class_name).with_meta_count().do()\n",
    "print(count)"
   ]
  },
  {
   "cell_type": "code",
   "execution_count": 7,
   "id": "34fca574-3a13-4eb3-a202-299d72d8de9e",
   "metadata": {
    "tags": []
   },
   "outputs": [
    {
     "data": {
      "text/plain": [
       "{'data': {'Get': {'Work': [{'title': 'Santa Maria della Pace. Plan and renderings (with Baroque alterations)'},\n",
       "    {'title': 'Tomb of Doge Niccolo Marchello (d. 1474). female virtue, architectural detail at left, from below left front'},\n",
       "    {'title': 'Corcovado; Meditation; The Girl from Ipanema'},\n",
       "    {'title': 'Armor. Helmets, their kinds and development during the centuries'},\n",
       "    {'title': 'Alte Pinakothek. Interior'},\n",
       "    {'title': 'Mens suits. One button Fairfax. Three button double breasted sack. The Cambria. The Hillhurst.'},\n",
       "    {'title': 'Memo from Barry Olivier about priority list'},\n",
       "    {'title': 'Johnny Rivers, Monterey Pop Festival'},\n",
       "    {'title': 'Sacsayhuaman. view showing doorway from lower to second tier'},\n",
       "    {'title': 'Tomb of Pope Innocent XII Pignatelli (b.Naples, 242nd Pope, r.1691-1700). General view from below right'},\n",
       "    {'title': 'Information for U.C. - P.I.O. clip sheet'},\n",
       "    {'title': 'Big Brother and the Holding Company, Monterey Pop Festival'},\n",
       "    {'title': 'Byodoin. Exterior: entrance gallery on north, from north east'},\n",
       "    {'title': 'Abdomen fragment'},\n",
       "    {'title': 'Correspondence from Emile De Antonio to John Cage'}]}}}"
      ]
     },
     "execution_count": 7,
     "metadata": {},
     "output_type": "execute_result"
    }
   ],
   "source": [
    "nearText = {\"concepts\": [\"artsy\"]}\n",
    "CLIENT.query.get(class_name=\"Work\", properties=[\"title\"]).with_limit(15).do()"
   ]
  },
  {
   "cell_type": "code",
   "execution_count": 8,
   "id": "1dc899cc-59cd-4304-b634-3c4682125ff6",
   "metadata": {
    "tags": []
   },
   "outputs": [
    {
     "data": {
      "text/plain": [
       "{'data': {'Get': {'Work': [{'_additional': {'certainty': 0.888251543045044,\n",
       "      'id': '72548990-ddae-5831-889a-4eec44186844'},\n",
       "     'subject': 'Painting',\n",
       "     'title': \"Jupiter, Mercury and 'Virtus'. Jupiter drawing\"},\n",
       "    {'_additional': {'certainty': 0.8881722390651703,\n",
       "      'id': '2daca3ab-0714-5670-9ee0-73b01097d159'},\n",
       "     'subject': 'Painting',\n",
       "     'title': 'Apollo, Phaeton with Saturn and the Four Seasons. principal detail at upper right'},\n",
       "    {'_additional': {'certainty': 0.8869102299213409,\n",
       "      'id': '3e9acec7-3c9e-5577-bfc0-3ac807fe2494'},\n",
       "     'subject': 'Painting|Sleep|Mythology, Classical|Apollo (Greek deity)|Muses (Greek deities)',\n",
       "     'title': 'The Sleeping Apollo and the Muses'},\n",
       "    {'_additional': {'certainty': 0.8862119317054749,\n",
       "      'id': '43df8d57-01a6-59a3-9c95-a637381ee3c4'},\n",
       "     'subject': 'Painting',\n",
       "     'title': 'To JFK: a thousand roots did die with thee'},\n",
       "    {'_additional': {'certainty': 0.8855119347572327,\n",
       "      'id': '798cdc12-e665-5fcb-82b2-c75dc9a8b34d'},\n",
       "     'subject': 'Painting',\n",
       "     'title': 'Venus and Satyr'},\n",
       "    {'_additional': {'certainty': 0.8853397965431213,\n",
       "      'id': 'c006cfb7-b28b-502e-838d-1a7a6dc9c7ea'},\n",
       "     'subject': 'Painting|19th century',\n",
       "     'title': 'Apollo and Daphne. Apollo reaching for Daphne'},\n",
       "    {'_additional': {'certainty': 0.8853190243244171,\n",
       "      'id': '3a8ce7df-35dc-5a21-aaf7-226d548c793f'},\n",
       "     'subject': 'Painting',\n",
       "     'title': 'Perseus and Andromeda. Perseus with Andromeda'},\n",
       "    {'_additional': {'certainty': 0.8853017687797546,\n",
       "      'id': 'eb17a17e-c1d1-5f70-9a29-8e99720d2ee9'},\n",
       "     'subject': 'Mythology, Classical|Artemis (Greek deity)',\n",
       "     'title': 'Artemis'},\n",
       "    {'_additional': {'certainty': 0.8848735690116882,\n",
       "      'id': '485ccecc-4b3c-5748-9b28-c3a7c25acd43'},\n",
       "     'subject': 'Painting',\n",
       "     'title': 'The Exaltation of the Holy Cross. angels above the cross in heaven'},\n",
       "    {'_additional': {'certainty': 0.8846574425697327,\n",
       "      'id': 'a496b31c-e6a0-59bd-9d5a-9768bc9cc61b'},\n",
       "     'subject': 'Painting',\n",
       "     'title': 'Mercury and Pandora, red vessel and landscape'}]}}}"
      ]
     },
     "execution_count": 8,
     "metadata": {},
     "output_type": "execute_result"
    }
   ],
   "source": [
    "CLIENT.query.get(\"Work\", [\"title\", \"subject\"]).with_near_text({\"concepts\": [\"exoplanetary orbits\"]}).with_limit(10).with_additional([\"certainty\", \"id\"]).do()"
   ]
  },
  {
   "cell_type": "code",
   "execution_count": 9,
   "id": "83c39905-472c-439e-a862-90e120f0c18f",
   "metadata": {
    "tags": []
   },
   "outputs": [
    {
     "name": "stdout",
     "output_type": "stream",
     "text": [
      "{\n",
      "    \"data\": {\n",
      "        \"Get\": {\n",
      "            \"Work\": [\n",
      "                {\n",
      "                    \"_additional\": {\n",
      "                        \"group\": {\n",
      "                            \"count\": 3,\n",
      "                            \"groupedBy\": {\n",
      "                                \"path\": [\n",
      "                                    \"collection\"\n",
      "                                ],\n",
      "                                \"value\": \"Architecture Collection, Records of the Art History Department\"\n",
      "                            },\n",
      "                            \"hits\": [\n",
      "                                {\n",
      "                                    \"creator\": \"unknown (unknown cultural designation)\",\n",
      "                                    \"description\": null,\n",
      "                                    \"identifier\": \"268b233d-2586-4d20-b7db-5c9f8d2c20be\",\n",
      "                                    \"subject\": \"Architecture--Gothic--France|Art, Gothic\",\n",
      "                                    \"title\": \"Strasbourg Cathedral. Exterior; south transept; tympanum of left doorway; detail: Death of the Virgin\"\n",
      "                                },\n",
      "                                {\n",
      "                                    \"creator\": \"Team X\",\n",
      "                                    \"description\": null,\n",
      "                                    \"identifier\": \"e3bff3d6-a9f8-4b91-8043-82b088872966\",\n",
      "                                    \"subject\": \"Architecture--20th century--France|City planning|Pickles\",\n",
      "                                    \"title\": \"Universite de Toulouse-Le Mirail. Plan of the new town\"\n",
      "                                },\n",
      "                                {\n",
      "                                    \"creator\": \"Glaziou, Auguste Francois Marie\",\n",
      "                                    \"description\": null,\n",
      "                                    \"identifier\": \"2b9ac1e8-01de-42db-8201-2f406667ea84\",\n",
      "                                    \"subject\": \"Architecture|Pickles\",\n",
      "                                    \"title\": \"Lake Frei Leandro, Jardimn Botanico. Aspect of the garden containing indigenous plants of Brazil\"\n",
      "                                }\n",
      "                            ],\n",
      "                            \"id\": 0,\n",
      "                            \"maxDistance\": 0.14515442,\n",
      "                            \"minDistance\": 0.1439243\n",
      "                        }\n",
      "                    },\n",
      "                    \"title\": \"Strasbourg Cathedral. Exterior; south transept; tympanum of left doorway; detail: Death of the Virgin\"\n",
      "                }\n",
      "            ]\n",
      "        }\n",
      "    }\n",
      "}\n"
     ]
    }
   ],
   "source": [
    "max_groups = 10\n",
    "max_objects_per_group = 3\n",
    "response = (\n",
    "    CLIENT.query\n",
    "    .get(\"Work\", [\"title\"])\n",
    "    .with_near_text({\n",
    "        \"concepts\": [\"architecture\"]})\n",
    "    .with_limit(10)\n",
    "    .with_group_by(\n",
    "        [\"collection\"],\n",
    "        groups=max_groups,\n",
    "        objects_per_group=max_objects_per_group\n",
    "    )\n",
    "    .with_additional([\n",
    "        \"\"\"\n",
    "        group {\n",
    "            id\n",
    "            groupedBy {\n",
    "                path\n",
    "                value\n",
    "            }\n",
    "            count\n",
    "            minDistance\n",
    "            maxDistance\n",
    "            hits {\n",
    "                title\n",
    "                identifier\n",
    "                creator\n",
    "                description\n",
    "                subject\n",
    "            }\n",
    "        }\n",
    "        \"\"\"\n",
    "    ])\n",
    "    .do()\n",
    ")\n",
    "\n",
    "jprint(response)"
   ]
  }
 ],
 "metadata": {
  "kernelspec": {
   "display_name": "weaviate:Python",
   "language": "python",
   "name": "conda-env-weaviate-py"
  },
  "language_info": {
   "codemirror_mode": {
    "name": "ipython",
    "version": 3
   },
   "file_extension": ".py",
   "mimetype": "text/x-python",
   "name": "python",
   "nbconvert_exporter": "python",
   "pygments_lexer": "ipython3",
   "version": "3.9.16"
  }
 },
 "nbformat": 4,
 "nbformat_minor": 5
}
