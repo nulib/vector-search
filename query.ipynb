{
 "cells": [
  {
   "cell_type": "code",
   "execution_count": 2,
   "id": "f4568f1a-8c95-493d-b93f-3982a9549226",
   "metadata": {
    "tags": []
   },
   "outputs": [
    {
     "name": "stdout",
     "output_type": "stream",
     "text": [
      "Requirement already satisfied: weaviate-client in /home/studio-lab-user/.conda/envs/default/lib/python3.9/site-packages (3.19.2)\n",
      "Requirement already satisfied: python-dotenv in /home/studio-lab-user/.conda/envs/default/lib/python3.9/site-packages (1.0.0)\n",
      "Requirement already satisfied: authlib>=1.1.0 in /home/studio-lab-user/.conda/envs/default/lib/python3.9/site-packages (from weaviate-client) (1.2.0)\n",
      "Requirement already satisfied: requests<2.29.0,>=2.28.0 in /home/studio-lab-user/.conda/envs/default/lib/python3.9/site-packages (from weaviate-client) (2.28.2)\n",
      "Requirement already satisfied: tqdm<5.0.0,>=4.59.0 in /home/studio-lab-user/.conda/envs/default/lib/python3.9/site-packages (from weaviate-client) (4.65.0)\n",
      "Requirement already satisfied: validators<=0.21.0,>=0.18.2 in /home/studio-lab-user/.conda/envs/default/lib/python3.9/site-packages (from weaviate-client) (0.20.0)\n",
      "Requirement already satisfied: cryptography>=3.2 in /home/studio-lab-user/.conda/envs/default/lib/python3.9/site-packages (from authlib>=1.1.0->weaviate-client) (41.0.1)\n",
      "Requirement already satisfied: cffi>=1.12 in /home/studio-lab-user/.conda/envs/default/lib/python3.9/site-packages (from cryptography>=3.2->authlib>=1.1.0->weaviate-client) (1.15.1)\n",
      "Requirement already satisfied: pycparser in /home/studio-lab-user/.conda/envs/default/lib/python3.9/site-packages (from cffi>=1.12->cryptography>=3.2->authlib>=1.1.0->weaviate-client) (2.21)\n",
      "Requirement already satisfied: urllib3<1.27,>=1.21.1 in /home/studio-lab-user/.conda/envs/default/lib/python3.9/site-packages (from requests<2.29.0,>=2.28.0->weaviate-client) (1.26.16)\n",
      "Requirement already satisfied: idna<4,>=2.5 in /home/studio-lab-user/.conda/envs/default/lib/python3.9/site-packages (from requests<2.29.0,>=2.28.0->weaviate-client) (3.4)\n",
      "Requirement already satisfied: certifi>=2017.4.17 in /home/studio-lab-user/.conda/envs/default/lib/python3.9/site-packages (from requests<2.29.0,>=2.28.0->weaviate-client) (2023.5.7)\n",
      "Requirement already satisfied: charset-normalizer<4,>=2 in /home/studio-lab-user/.conda/envs/default/lib/python3.9/site-packages (from requests<2.29.0,>=2.28.0->weaviate-client) (3.1.0)\n",
      "Requirement already satisfied: decorator>=3.4.0 in /home/studio-lab-user/.conda/envs/default/lib/python3.9/site-packages (from validators<=0.21.0,>=0.18.2->weaviate-client) (5.1.1)\n",
      "Note: you may need to restart the kernel to use updated packages.\n"
     ]
    }
   ],
   "source": [
    "%pip install weaviate-client python-dotenv"
   ]
  },
  {
   "cell_type": "code",
   "execution_count": 17,
   "id": "f6257421-0071-45e0-988c-86bd6e22ac97",
   "metadata": {
    "tags": []
   },
   "outputs": [],
   "source": [
    "import json\n",
    "\n",
    "def jprint(schema):\n",
    "    print(json.dumps(schema, indent=4))"
   ]
  },
  {
   "cell_type": "code",
   "execution_count": 9,
   "id": "f3b5fbd3-8032-4fb0-920a-c65b3b2d74fa",
   "metadata": {
    "tags": []
   },
   "outputs": [],
   "source": [
    "import os\n",
    "import weaviate\n",
    "from weaviate.util import generate_uuid5\n",
    "from dotenv import load_dotenv\n",
    "\n",
    "load_dotenv()\n",
    "\n",
    "weaviate_api_key = os.environ['WEAVIATE_API_KEY']\n",
    "weaviate_url = os.environ['WEAVIATE_URL']\n",
    "openai_api_key = os.environ['OPENAI_API_KEY']\n",
    "\n",
    "auth_config = weaviate.AuthApiKey(api_key=weaviate_api_key)\n",
    "\n",
    "# set up the client\n",
    "CLIENT = weaviate.Client(\n",
    "    url=weaviate_url,\n",
    "    auth_client_secret=auth_config,\n",
    "    additional_headers={\n",
    "        \"X-OpenAI-Api-Key\": openai_api_key\n",
    "    }\n",
    ")"
   ]
  },
  {
   "cell_type": "code",
   "execution_count": 11,
   "id": "cbadf0ee-e582-450a-854c-6e2a7696e375",
   "metadata": {
    "tags": []
   },
   "outputs": [
    {
     "name": "stdout",
     "output_type": "stream",
     "text": [
      "{'data': {'Aggregate': {'Work': [{'meta': {'count': 9995}}]}}}\n"
     ]
    }
   ],
   "source": [
    "class_name = \"Work\"\n",
    "count = CLIENT.query.aggregate(class_name).with_meta_count().do()\n",
    "print(count)"
   ]
  },
  {
   "cell_type": "code",
   "execution_count": 12,
   "id": "34fca574-3a13-4eb3-a202-299d72d8de9e",
   "metadata": {
    "tags": []
   },
   "outputs": [
    {
     "data": {
      "text/plain": [
       "{'data': {'Get': {'Work': [{'title': 'Santa Maria della Pace. Plan and renderings (with Baroque alterations)'},\n",
       "    {'title': 'Tomb of Doge Niccolo Marchello (d. 1474). female virtue, architectural detail at left, from below left front'},\n",
       "    {'title': 'Corcovado; Meditation; The Girl from Ipanema'},\n",
       "    {'title': 'Armor. Helmets, their kinds and development during the centuries'},\n",
       "    {'title': 'Alte Pinakothek. Interior'},\n",
       "    {'title': 'Mens suits. One button Fairfax. Three button double breasted sack. The Cambria. The Hillhurst.'},\n",
       "    {'title': 'Memo from Barry Olivier about priority list'},\n",
       "    {'title': 'Johnny Rivers, Monterey Pop Festival'},\n",
       "    {'title': 'Sacsayhuaman. view showing doorway from lower to second tier'},\n",
       "    {'title': 'Tomb of Pope Innocent XII Pignatelli (b.Naples, 242nd Pope, r.1691-1700). General view from below right'},\n",
       "    {'title': 'Information for U.C. - P.I.O. clip sheet'},\n",
       "    {'title': 'Big Brother and the Holding Company, Monterey Pop Festival'},\n",
       "    {'title': 'Byodoin. Exterior: entrance gallery on north, from north east'},\n",
       "    {'title': 'Abdomen fragment'},\n",
       "    {'title': 'Correspondence from Emile De Antonio to John Cage'}]}}}"
      ]
     },
     "execution_count": 12,
     "metadata": {},
     "output_type": "execute_result"
    }
   ],
   "source": [
    "nearText = {\"concepts\": [\"art\"]}\n",
    "CLIENT.query.get(class_name=\"Work\", properties=[\"title\"]).with_limit(15).do()"
   ]
  },
  {
   "cell_type": "code",
   "execution_count": 15,
   "id": "1dc899cc-59cd-4304-b634-3c4682125ff6",
   "metadata": {
    "tags": []
   },
   "outputs": [
    {
     "data": {
      "text/plain": [
       "{'data': {'Get': {'Work': [{'_additional': {'certainty': 0.8882298767566681,\n",
       "      'id': '72548990-ddae-5831-889a-4eec44186844'},\n",
       "     'subject': 'Painting',\n",
       "     'title': \"Jupiter, Mercury and 'Virtus'. Jupiter drawing\"},\n",
       "    {'_additional': {'certainty': 0.8881542086601257,\n",
       "      'id': '2daca3ab-0714-5670-9ee0-73b01097d159'},\n",
       "     'subject': 'Painting',\n",
       "     'title': 'Apollo, Phaeton with Saturn and the Four Seasons. principal detail at upper right'},\n",
       "    {'_additional': {'certainty': 0.8869164288043976,\n",
       "      'id': '3e9acec7-3c9e-5577-bfc0-3ac807fe2494'},\n",
       "     'subject': 'Painting|Sleep|Mythology, Classical|Apollo (Greek deity)|Muses (Greek deities)',\n",
       "     'title': 'The Sleeping Apollo and the Muses'},\n",
       "    {'_additional': {'certainty': 0.8861933946609497,\n",
       "      'id': '43df8d57-01a6-59a3-9c95-a637381ee3c4'},\n",
       "     'subject': 'Painting',\n",
       "     'title': 'To JFK: a thousand roots did die with thee'},\n",
       "    {'_additional': {'certainty': 0.8854801058769226,\n",
       "      'id': '798cdc12-e665-5fcb-82b2-c75dc9a8b34d'},\n",
       "     'subject': 'Painting',\n",
       "     'title': 'Venus and Satyr'},\n",
       "    {'_additional': {'certainty': 0.8853157162666321,\n",
       "      'id': 'c006cfb7-b28b-502e-838d-1a7a6dc9c7ea'},\n",
       "     'subject': 'Painting|19th century',\n",
       "     'title': 'Apollo and Daphne. Apollo reaching for Daphne'},\n",
       "    {'_additional': {'certainty': 0.8852851986885071,\n",
       "      'id': '3a8ce7df-35dc-5a21-aaf7-226d548c793f'},\n",
       "     'subject': 'Painting',\n",
       "     'title': 'Perseus and Andromeda. Perseus with Andromeda'},\n",
       "    {'_additional': {'certainty': 0.8852654099464417,\n",
       "      'id': 'eb17a17e-c1d1-5f70-9a29-8e99720d2ee9'},\n",
       "     'subject': 'Mythology, Classical|Artemis (Greek deity)',\n",
       "     'title': 'Artemis'},\n",
       "    {'_additional': {'certainty': 0.8848789930343628,\n",
       "      'id': '485ccecc-4b3c-5748-9b28-c3a7c25acd43'},\n",
       "     'subject': 'Painting',\n",
       "     'title': 'The Exaltation of the Holy Cross. angels above the cross in heaven'},\n",
       "    {'_additional': {'certainty': 0.8846334517002106,\n",
       "      'id': 'a496b31c-e6a0-59bd-9d5a-9768bc9cc61b'},\n",
       "     'subject': 'Painting',\n",
       "     'title': 'Mercury and Pandora, red vessel and landscape'}]}}}"
      ]
     },
     "execution_count": 15,
     "metadata": {},
     "output_type": "execute_result"
    }
   ],
   "source": [
    "CLIENT.query.get(\"Work\", [\"title\", \"subject\"]).with_near_text({\"concepts\": [\"exoplanetary orbits\"]}).with_limit(10).with_additional([\"certainty\", \"id\"]).do()"
   ]
  },
  {
   "cell_type": "code",
   "execution_count": 18,
   "id": "83c39905-472c-439e-a862-90e120f0c18f",
   "metadata": {
    "tags": []
   },
   "outputs": [
    {
     "name": "stdout",
     "output_type": "stream",
     "text": [
      "{\n",
      "    \"data\": {\n",
      "        \"Get\": {\n",
      "            \"Work\": [\n",
      "                {\n",
      "                    \"_additional\": {\n",
      "                        \"group\": {\n",
      "                            \"count\": 3,\n",
      "                            \"groupedBy\": {\n",
      "                                \"path\": [\n",
      "                                    \"collection\"\n",
      "                                ],\n",
      "                                \"value\": \"Saskia Art Images (CARLI), Records of Department of Art History\"\n",
      "                            },\n",
      "                            \"hits\": [\n",
      "                                {\n",
      "                                    \"creator\": \"Courbet, Gustave (French painter and designer, 1819-1877)\",\n",
      "                                    \"description\": null,\n",
      "                                    \"identifier\": \"4e7cbb5a-3d6d-4923-834c-e91dc9f6f851\",\n",
      "                                    \"subject\": \"Painting\",\n",
      "                                    \"title\": \"The Painter's Studio: A Real-Life-Allegory of the Last Seven Years of My Life. the artist painting a landscape, boy, dog, nude model\"\n",
      "                                },\n",
      "                                {\n",
      "                                    \"creator\": \"Courbet, Gustave (French painter and designer, 1819-1877)\",\n",
      "                                    \"description\": null,\n",
      "                                    \"identifier\": \"5fd0e131-a048-4716-8d2e-818945069747\",\n",
      "                                    \"subject\": \"Painting\",\n",
      "                                    \"title\": \"The Painter's Studio: A Real-Life-Allegory of the Last Seven Years of My Life. large detail with artist, model, spectators\"\n",
      "                                },\n",
      "                                {\n",
      "                                    \"creator\": \"Picasso, Pablo (Spanish painter, sculptor, and printmaker, 1881-1973)\",\n",
      "                                    \"description\": null,\n",
      "                                    \"identifier\": \"e1e841e4-6a29-46fe-926f-03ac7bba459f\",\n",
      "                                    \"subject\": \"Painting\",\n",
      "                                    \"title\": \"The Couple\"\n",
      "                                }\n",
      "                            ],\n",
      "                            \"id\": 0,\n",
      "                            \"maxDistance\": 0.17160761,\n",
      "                            \"minDistance\": 0.16663009\n",
      "                        }\n",
      "                    },\n",
      "                    \"title\": \"The Painter's Studio: A Real-Life-Allegory of the Last Seven Years of My Life. the artist painting a landscape, boy, dog, nude model\"\n",
      "                },\n",
      "                {\n",
      "                    \"_additional\": {\n",
      "                        \"group\": {\n",
      "                            \"count\": 3,\n",
      "                            \"groupedBy\": {\n",
      "                                \"path\": [\n",
      "                                    \"collection\"\n",
      "                                ],\n",
      "                                \"value\": \"Slide Collection, Records of the Art History Department\"\n",
      "                            },\n",
      "                            \"hits\": [\n",
      "                                {\n",
      "                                    \"creator\": \"Picasso, Pablo (Spanish painter, sculptor, and printmaker, 1881-1973)\",\n",
      "                                    \"description\": null,\n",
      "                                    \"identifier\": \"694703f5-d9d7-454f-bdb0-13fc7ac5d3c1\",\n",
      "                                    \"subject\": \"Painting--20th century--Spain|Still-life painting\",\n",
      "                                    \"title\": \"Still Life with Red Bull's Head\"\n",
      "                                },\n",
      "                                {\n",
      "                                    \"creator\": \"Picasso, Pablo (Spanish painter, sculptor, and printmaker, 1881-1973)\",\n",
      "                                    \"description\": null,\n",
      "                                    \"identifier\": \"e31b451b-2840-4d68-a508-f1e61e4c70ad\",\n",
      "                                    \"subject\": \"Painting--20th century--Spain|Still-life painting\",\n",
      "                                    \"title\": \"Pitcher, Bowl, and Lemon\"\n",
      "                                },\n",
      "                                {\n",
      "                                    \"creator\": \"Morgan, Gertrude (American painter and naive artist, 1900-1980)\",\n",
      "                                    \"description\": null,\n",
      "                                    \"identifier\": \"aae3267f-b0c3-484f-8407-30509ad3bf52\",\n",
      "                                    \"subject\": \"Jesus Christ|Self-portraits|Painting|Religion|Outsider art\",\n",
      "                                    \"title\": \"Top: Red sea the sea lying Between Egypt and Arabia. Middle: New Jerusalem and Self-Portrait with Jesus. Bottom: Self-Portrait in White with Jesus\"\n",
      "                                }\n",
      "                            ],\n",
      "                            \"id\": 1,\n",
      "                            \"maxDistance\": 0.17280197,\n",
      "                            \"minDistance\": 0.17074084\n",
      "                        }\n",
      "                    },\n",
      "                    \"title\": \"Still Life with Red Bull's Head\"\n",
      "                },\n",
      "                {\n",
      "                    \"_additional\": {\n",
      "                        \"group\": {\n",
      "                            \"count\": 1,\n",
      "                            \"groupedBy\": {\n",
      "                                \"path\": [\n",
      "                                    \"collection\"\n",
      "                                ],\n",
      "                                \"value\": \"Architecture Collection, Records of the Art History Department\"\n",
      "                            },\n",
      "                            \"hits\": [\n",
      "                                {\n",
      "                                    \"creator\": \"Picasso, Pablo (Spanish painter, sculptor, and printmaker, 1881-1973)\",\n",
      "                                    \"description\": \"Paris, May 1912\",\n",
      "                                    \"identifier\": \"ef7c9f80-4e81-4f6d-9db9-9652616b8e84\",\n",
      "                                    \"subject\": \"Painting|Pickles\",\n",
      "                                    \"title\": \"Still life with Chair Caning\"\n",
      "                                }\n",
      "                            ],\n",
      "                            \"id\": 2,\n",
      "                            \"maxDistance\": 0.17151332,\n",
      "                            \"minDistance\": 0.17151332\n",
      "                        }\n",
      "                    },\n",
      "                    \"title\": \"Still life with Chair Caning\"\n",
      "                }\n",
      "            ]\n",
      "        }\n",
      "    }\n",
      "}\n"
     ]
    }
   ],
   "source": [
    "max_groups = 10\n",
    "max_objects_per_group = 3\n",
    "response = (\n",
    "    CLIENT.query\n",
    "    .get(\"Work\", [\"title\"])\n",
    "    .with_near_text({\n",
    "        \"concepts\": [\"painting\"]})\n",
    "    .with_limit(10)\n",
    "    .with_group_by(\n",
    "        [\"collection\"],\n",
    "        groups=max_groups,\n",
    "        objects_per_group=max_objects_per_group\n",
    "    )\n",
    "    .with_additional([\n",
    "        \"\"\"\n",
    "        group {\n",
    "            id\n",
    "            groupedBy {\n",
    "                path\n",
    "                value\n",
    "            }\n",
    "            count\n",
    "            minDistance\n",
    "            maxDistance\n",
    "            hits {\n",
    "                title\n",
    "                identifier\n",
    "                creator\n",
    "                description\n",
    "                subject\n",
    "            }\n",
    "        }\n",
    "        \"\"\"\n",
    "    ])\n",
    "    .do()\n",
    ")\n",
    "\n",
    "jprint(response)"
   ]
  }
 ],
 "metadata": {
  "kernelspec": {
   "display_name": "default:Python",
   "language": "python",
   "name": "conda-env-default-py"
  },
  "language_info": {
   "codemirror_mode": {
    "name": "ipython",
    "version": 3
   },
   "file_extension": ".py",
   "mimetype": "text/x-python",
   "name": "python",
   "nbconvert_exporter": "python",
   "pygments_lexer": "ipython3",
   "version": "3.9.16"
  }
 },
 "nbformat": 4,
 "nbformat_minor": 5
}
