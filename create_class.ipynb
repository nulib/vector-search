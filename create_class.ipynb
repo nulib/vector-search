{
 "cells": [
  {
   "cell_type": "code",
   "execution_count": 2,
   "metadata": {},
   "outputs": [
    {
     "name": "stdout",
     "output_type": "stream",
     "text": [
      "Setup Complete. Use CLIENT to access Weaviate.\n"
     ]
    }
   ],
   "source": [
    "%run \"./setup.ipynb\"\n",
    "if CLIENT == None:\n",
    "    print(\"Failed to create CLIENT.\")"
   ]
  },
  {
   "cell_type": "code",
   "execution_count": 3,
   "metadata": {},
   "outputs": [
    {
     "name": "stdout",
     "output_type": "stream",
     "text": [
      "Resource name: rdc-openai\n",
      "Deployment ID: dc-gpt-35\n",
      "{'classes': [{'class': 'Work', 'invertedIndexConfig': {'bm25': {'b': 0.75, 'k1': 1.2}, 'cleanupIntervalSeconds': 60, 'stopwords': {'additions': None, 'preset': 'en', 'removals': None}}, 'moduleConfig': {'generative-openai': {'deploymentId': 'dc-gpt-35', 'resourceName': 'rdc-openai', 'temperature': 0.0}, 'qna-openai': {'deploymentId': 'dc-gpt-35', 'resourceName': 'rdc-openai', 'temperature': 0.0}, 'text2vec-transformers': {'poolingStrategy': 'masked_mean', 'vectorizeClassName': True}}, 'properties': [{'dataType': ['text'], 'indexFilterable': True, 'indexSearchable': True, 'moduleConfig': {'text2vec-transformers': {'skip': False, 'vectorizePropertyName': False}}, 'name': 'title', 'tokenization': 'word'}, {'dataType': ['text'], 'indexFilterable': True, 'indexSearchable': True, 'moduleConfig': {'text2vec-transformers': {'skip': False, 'vectorizePropertyName': False}}, 'name': 'accession_number', 'tokenization': 'field'}, {'dataType': ['text[]'], 'indexFilterable': True, 'indexSearchable': True, 'moduleConfig': {'text2vec-transformers': {'skip': False, 'vectorizePropertyName': False}}, 'name': 'alternate_title', 'tokenization': 'word'}, {'dataType': ['text'], 'indexFilterable': True, 'indexSearchable': True, 'moduleConfig': {'text2vec-transformers': {'skip': False, 'vectorizePropertyName': False}}, 'name': 'api_model', 'tokenization': 'field'}, {'dataType': ['text'], 'indexFilterable': True, 'indexSearchable': True, 'moduleConfig': {'text2vec-transformers': {'skip': False, 'vectorizePropertyName': False}}, 'name': 'catalog_key', 'tokenization': 'field'}, {'dataType': ['text'], 'indexFilterable': True, 'indexSearchable': True, 'moduleConfig': {'text2vec-transformers': {'skip': False, 'vectorizePropertyName': False}}, 'name': 'collection', 'tokenization': 'field'}, {'dataType': ['text[]'], 'indexFilterable': True, 'indexSearchable': True, 'moduleConfig': {'text2vec-transformers': {'skip': False, 'vectorizePropertyName': False}}, 'name': 'contributor', 'tokenization': 'word'}, {'dataType': ['text'], 'indexFilterable': True, 'indexSearchable': True, 'moduleConfig': {'text2vec-transformers': {'skip': False, 'vectorizePropertyName': False}}, 'name': 'create_date', 'tokenization': 'word'}, {'dataType': ['text[]'], 'indexFilterable': True, 'indexSearchable': True, 'moduleConfig': {'text2vec-transformers': {'skip': False, 'vectorizePropertyName': False}}, 'name': 'creator', 'tokenization': 'word'}, {'dataType': ['text[]'], 'indexFilterable': True, 'indexSearchable': True, 'moduleConfig': {'text2vec-transformers': {'skip': False, 'vectorizePropertyName': False}}, 'name': 'date_created', 'tokenization': 'word'}, {'dataType': ['text[]'], 'indexFilterable': True, 'indexSearchable': True, 'moduleConfig': {'text2vec-transformers': {'skip': False, 'vectorizePropertyName': False}}, 'name': 'description', 'tokenization': 'word'}, {'dataType': ['text[]'], 'indexFilterable': True, 'indexSearchable': True, 'moduleConfig': {'text2vec-transformers': {'skip': False, 'vectorizePropertyName': False}}, 'name': 'genre', 'tokenization': 'word'}, {'dataType': ['text'], 'indexFilterable': True, 'indexSearchable': True, 'moduleConfig': {'text2vec-transformers': {'skip': False, 'vectorizePropertyName': False}}, 'name': 'identifier', 'tokenization': 'field'}, {'dataType': ['text'], 'indexFilterable': True, 'indexSearchable': True, 'moduleConfig': {'text2vec-transformers': {'skip': False, 'vectorizePropertyName': False}}, 'name': 'identifier_human_readable', 'tokenization': 'word'}, {'dataType': ['text'], 'indexFilterable': True, 'indexSearchable': True, 'moduleConfig': {'text2vec-transformers': {'skip': False, 'vectorizePropertyName': False}}, 'name': 'keywords', 'tokenization': 'word'}, {'dataType': ['text[]'], 'indexFilterable': True, 'indexSearchable': True, 'moduleConfig': {'text2vec-transformers': {'skip': False, 'vectorizePropertyName': False}}, 'name': 'language', 'tokenization': 'word'}, {'dataType': ['text'], 'indexFilterable': True, 'indexSearchable': True, 'moduleConfig': {'text2vec-transformers': {'skip': False, 'vectorizePropertyName': False}}, 'name': 'library_unit', 'tokenization': 'word'}, {'dataType': ['text[]'], 'indexFilterable': True, 'indexSearchable': True, 'moduleConfig': {'text2vec-transformers': {'skip': False, 'vectorizePropertyName': False}}, 'name': 'location', 'tokenization': 'word'}, {'dataType': ['text[]'], 'indexFilterable': True, 'indexSearchable': True, 'moduleConfig': {'text2vec-transformers': {'skip': False, 'vectorizePropertyName': False}}, 'name': 'physical_description_material', 'tokenization': 'word'}, {'dataType': ['text[]'], 'indexFilterable': True, 'indexSearchable': True, 'moduleConfig': {'text2vec-transformers': {'skip': False, 'vectorizePropertyName': False}}, 'name': 'physical_description_size', 'tokenization': 'word'}, {'dataType': ['text'], 'indexFilterable': True, 'indexSearchable': True, 'moduleConfig': {'text2vec-transformers': {'skip': False, 'vectorizePropertyName': False}}, 'name': 'preservation_level', 'tokenization': 'word'}, {'dataType': ['boolean'], 'indexFilterable': True, 'indexSearchable': False, 'moduleConfig': {'text2vec-transformers': {'skip': False, 'vectorizePropertyName': False}}, 'name': 'published'}, {'dataType': ['text[]'], 'indexFilterable': True, 'indexSearchable': True, 'moduleConfig': {'text2vec-transformers': {'skip': False, 'vectorizePropertyName': False}}, 'name': 'related_material', 'tokenization': 'word'}, {'dataType': ['text[]'], 'indexFilterable': True, 'indexSearchable': True, 'moduleConfig': {'text2vec-transformers': {'skip': False, 'vectorizePropertyName': False}}, 'name': 'related_url', 'tokenization': 'word'}, {'dataType': ['text'], 'indexFilterable': True, 'indexSearchable': True, 'moduleConfig': {'text2vec-transformers': {'skip': False, 'vectorizePropertyName': False}}, 'name': 'rights_holder', 'tokenization': 'word'}, {'dataType': ['text'], 'indexFilterable': True, 'indexSearchable': True, 'moduleConfig': {'text2vec-transformers': {'skip': False, 'vectorizePropertyName': False}}, 'name': 'rights_statement', 'tokenization': 'word'}, {'dataType': ['text'], 'indexFilterable': True, 'indexSearchable': True, 'moduleConfig': {'text2vec-transformers': {'skip': False, 'vectorizePropertyName': False}}, 'name': 'scope_and_contents', 'tokenization': 'word'}, {'dataType': ['text[]'], 'indexFilterable': True, 'indexSearchable': True, 'moduleConfig': {'text2vec-transformers': {'skip': False, 'vectorizePropertyName': False}}, 'name': 'series', 'tokenization': 'word'}, {'dataType': ['text'], 'indexFilterable': True, 'indexSearchable': True, 'moduleConfig': {'text2vec-transformers': {'skip': False, 'vectorizePropertyName': False}}, 'name': 'source', 'tokenization': 'field'}, {'dataType': ['text'], 'indexFilterable': True, 'indexSearchable': True, 'moduleConfig': {'text2vec-transformers': {'skip': False, 'vectorizePropertyName': False}}, 'name': 'status', 'tokenization': 'field'}, {'dataType': ['text[]'], 'indexFilterable': True, 'indexSearchable': True, 'moduleConfig': {'text2vec-transformers': {'skip': False, 'vectorizePropertyName': False}}, 'name': 'style_period', 'tokenization': 'word'}, {'dataType': ['text[]'], 'indexFilterable': True, 'indexSearchable': True, 'moduleConfig': {'text2vec-transformers': {'skip': False, 'vectorizePropertyName': False}}, 'name': 'subject', 'tokenization': 'word'}, {'dataType': ['text'], 'indexFilterable': True, 'indexSearchable': True, 'moduleConfig': {'text2vec-transformers': {'skip': False, 'vectorizePropertyName': False}}, 'name': 'table_of_contents', 'tokenization': 'word'}, {'dataType': ['text[]'], 'indexFilterable': True, 'indexSearchable': True, 'moduleConfig': {'text2vec-transformers': {'skip': False, 'vectorizePropertyName': False}}, 'name': 'technique', 'tokenization': 'word'}, {'dataType': ['text'], 'indexFilterable': True, 'indexSearchable': True, 'moduleConfig': {'text2vec-transformers': {'skip': False, 'vectorizePropertyName': False}}, 'name': 'visibility', 'tokenization': 'field'}, {'dataType': ['text'], 'indexFilterable': True, 'indexSearchable': True, 'moduleConfig': {'text2vec-transformers': {'skip': False, 'vectorizePropertyName': False}}, 'name': 'work_type', 'tokenization': 'field'}], 'replicationConfig': {'factor': 1}, 'shardingConfig': {'virtualPerPhysical': 128, 'desiredCount': 1, 'actualCount': 1, 'desiredVirtualCount': 128, 'actualVirtualCount': 128, 'key': '_id', 'strategy': 'hash', 'function': 'murmur3'}, 'vectorIndexConfig': {'skip': False, 'cleanupIntervalSeconds': 300, 'maxConnections': 64, 'efConstruction': 128, 'ef': -1, 'dynamicEfMin': 100, 'dynamicEfMax': 500, 'dynamicEfFactor': 8, 'vectorCacheMaxObjects': 1000000000000, 'flatSearchCutoff': 40000, 'distance': 'cosine', 'pq': {'enabled': False, 'bitCompression': False, 'segments': 0, 'centroids': 256, 'encoder': {'type': 'kmeans', 'distribution': 'log-normal'}}}, 'vectorIndexType': 'hnsw', 'vectorizer': 'text2vec-transformers'}]}\n"
     ]
    }
   ],
   "source": [
    "CLIENT.schema.delete_class(\"Work\")\n",
    "\n",
    "resource_name = \"rdc-openai\"\n",
    "llm_deployment_id = \"dc-gpt-35\"\n",
    "\n",
    "print(f\"Resource name: {resource_name}\")\n",
    "print(f\"Deployment ID: {llm_deployment_id}\")\n",
    "\n",
    "# create the schema\n",
    "schema = {\n",
    "    \"classes\": [\n",
    "        {\n",
    "            \"class\": \"Work\",\n",
    "            \"vectorizer\": \"text2vec-transformers\",\n",
    "            \"moduleConfig\": {\n",
    "                \"text2vec-transformers\": {\n",
    "                    \"vectorizeClassName\": True,\n",
    "                },\n",
    "                \"generative-openai\": {\n",
    "                    \"resourceName\": resource_name,\n",
    "                    \"deploymentId\": llm_deployment_id,\n",
    "                    \"temperature\": 0.0\n",
    "                },\n",
    "                \"qna-openai\": {\n",
    "                    \"resourceName\": resource_name,\n",
    "                    \"deploymentId\": llm_deployment_id,\n",
    "                    \"temperature\": 0.0\n",
    "                 }\n",
    "            },\n",
    "            \"properties\": [\n",
    "                {\"dataType\": [\"text\"], \"name\": \"title\"},\n",
    "                {\"dataType\": [\"text\"], \"name\": \"accession_number\", \"tokenization\": \"field\"},\n",
    "                {\"dataType\": [\"text[]\"], \"name\": \"alternate_title\"},\n",
    "                {\"dataType\": [\"text\"], \"name\": \"api_model\", \"tokenization\": \"field\"},\n",
    "                {\"dataType\": [\"text\"], \"name\": \"catalog_key\", \"tokenization\": \"field\"},\n",
    "                {\"dataType\": [\"text\"], \"name\": \"collection\", \"tokenization\": \"field\"},\n",
    "                {\"dataType\": [\"text[]\"], \"name\": \"contributor\"},\n",
    "                {\"dataType\": [\"text\"], \"name\": \"create_date\"},\n",
    "                {\"dataType\": [\"text[]\"], \"name\": \"creator\"},\n",
    "                {\"dataType\": [\"text[]\"], \"name\": \"date_created\"},\n",
    "                {\"dataType\": [\"text[]\"], \"name\": \"description\"},\n",
    "                {\"dataType\": [\"text[]\"], \"name\": \"genre\"},\n",
    "                {\"dataType\": [\"text\"], \"name\": \"identifier\", \"tokenization\": \"field\"},\n",
    "                {\"dataType\": [\"text\"], \"name\": \"identifier_human_readable\"},\n",
    "                {\"dataType\": [\"text\"], \"name\": \"keywords\"},\n",
    "                {\"dataType\": [\"text[]\"], \"name\": \"language\"},\n",
    "                {\"dataType\": [\"text\"], \"name\": \"library_unit\"},\n",
    "                {\"dataType\": [\"text[]\"], \"name\": \"location\"},\n",
    "                {\"dataType\": [\"text[]\"], \"name\": \"physical_description_material\"},\n",
    "                {\"dataType\": [\"text[]\"], \"name\": \"physical_description_size\"},\n",
    "                {\"dataType\": [\"text\"], \"name\": \"preservation_level\"},\n",
    "                {\"dataType\": [\"boolean\"], \"name\": \"published\"},\n",
    "                {\"dataType\": [\"text[]\"], \"name\": \"related_material\"},\n",
    "                {\"dataType\": [\"text[]\"], \"name\": \"related_url\"},\n",
    "                {\"dataType\": [\"text\"], \"name\": \"rights_holder\"},\n",
    "                {\"dataType\": [\"text\"], \"name\": \"rights_statement\"},\n",
    "                {\"dataType\": [\"text\"], \"name\": \"scope_and_contents\"},\n",
    "                {\"dataType\": [\"text[]\"], \"name\": \"series\"},\n",
    "                {\"dataType\": [\"text\"], \"name\": \"source\", \"tokenization\": \"field\"},\n",
    "                {\"dataType\": [\"text\"], \"name\": \"status\", \"tokenization\": \"field\"},\n",
    "                {\"dataType\": [\"text[]\"], \"name\": \"style_period\"},\n",
    "                {\"dataType\": [\"text[]\"], \"name\": \"subject\"},\n",
    "                {\"dataType\": [\"text\"], \"name\": \"table_of_contents\"},\n",
    "                {\"dataType\": [\"text[]\"], \"name\": \"technique\"},\n",
    "                {\"dataType\": [\"text\"], \"name\": \"visibility\", \"tokenization\": \"field\"},\n",
    "                {\"dataType\": [\"text\"], \"name\": \"work_type\", \"tokenization\": \"field\"},\n",
    "            ]\n",
    "        }\n",
    "    ]\n",
    "}\n",
    "\n",
    "\n",
    "CLIENT.schema.create(schema)\n",
    "\n",
    "print(CLIENT.schema.get())"
   ]
  },
  {
   "cell_type": "code",
   "execution_count": null,
   "metadata": {},
   "outputs": [],
   "source": []
  }
 ],
 "metadata": {
  "kernelspec": {
   "display_name": "weaviate",
   "language": "python",
   "name": "python3"
  },
  "language_info": {
   "codemirror_mode": {
    "name": "ipython",
    "version": 3
   },
   "file_extension": ".py",
   "mimetype": "text/x-python",
   "name": "python",
   "nbconvert_exporter": "python",
   "pygments_lexer": "ipython3",
   "version": "3.9.16"
  },
  "orig_nbformat": 4
 },
 "nbformat": 4,
 "nbformat_minor": 2
}
