{
 "cells": [
  {
   "cell_type": "code",
   "execution_count": 9,
   "id": "fc81f0d4-deae-42b8-a5d6-2d64b793852b",
   "metadata": {
    "tags": []
   },
   "outputs": [
    {
     "name": "stdout",
     "output_type": "stream",
     "text": [
      "Requirement already satisfied: weaviate-client in /home/studio-lab-user/.conda/envs/default/lib/python3.9/site-packages (3.19.2)\n",
      "Requirement already satisfied: python-dotenv in /home/studio-lab-user/.conda/envs/default/lib/python3.9/site-packages (1.0.0)\n",
      "Requirement already satisfied: authlib>=1.1.0 in /home/studio-lab-user/.conda/envs/default/lib/python3.9/site-packages (from weaviate-client) (1.2.0)\n",
      "Requirement already satisfied: validators<=0.21.0,>=0.18.2 in /home/studio-lab-user/.conda/envs/default/lib/python3.9/site-packages (from weaviate-client) (0.20.0)\n",
      "Requirement already satisfied: tqdm<5.0.0,>=4.59.0 in /home/studio-lab-user/.conda/envs/default/lib/python3.9/site-packages (from weaviate-client) (4.65.0)\n",
      "Requirement already satisfied: requests<2.29.0,>=2.28.0 in /home/studio-lab-user/.conda/envs/default/lib/python3.9/site-packages (from weaviate-client) (2.28.2)\n",
      "Requirement already satisfied: cryptography>=3.2 in /home/studio-lab-user/.conda/envs/default/lib/python3.9/site-packages (from authlib>=1.1.0->weaviate-client) (41.0.1)\n",
      "Requirement already satisfied: cffi>=1.12 in /home/studio-lab-user/.conda/envs/default/lib/python3.9/site-packages (from cryptography>=3.2->authlib>=1.1.0->weaviate-client) (1.15.1)\n",
      "Requirement already satisfied: pycparser in /home/studio-lab-user/.conda/envs/default/lib/python3.9/site-packages (from cffi>=1.12->cryptography>=3.2->authlib>=1.1.0->weaviate-client) (2.21)\n",
      "Requirement already satisfied: certifi>=2017.4.17 in /home/studio-lab-user/.conda/envs/default/lib/python3.9/site-packages (from requests<2.29.0,>=2.28.0->weaviate-client) (2023.5.7)\n",
      "Requirement already satisfied: idna<4,>=2.5 in /home/studio-lab-user/.conda/envs/default/lib/python3.9/site-packages (from requests<2.29.0,>=2.28.0->weaviate-client) (3.4)\n",
      "Requirement already satisfied: charset-normalizer<4,>=2 in /home/studio-lab-user/.conda/envs/default/lib/python3.9/site-packages (from requests<2.29.0,>=2.28.0->weaviate-client) (3.1.0)\n",
      "Requirement already satisfied: urllib3<1.27,>=1.21.1 in /home/studio-lab-user/.conda/envs/default/lib/python3.9/site-packages (from requests<2.29.0,>=2.28.0->weaviate-client) (1.26.16)\n",
      "Requirement already satisfied: decorator>=3.4.0 in /home/studio-lab-user/.conda/envs/default/lib/python3.9/site-packages (from validators<=0.21.0,>=0.18.2->weaviate-client) (5.1.1)\n",
      "Note: you may need to restart the kernel to use updated packages.\n"
     ]
    }
   ],
   "source": [
    "%pip install weaviate-client python-dotenv"
   ]
  },
  {
   "cell_type": "code",
   "execution_count": 119,
   "id": "b395fadf-7795-4e65-b9d4-a92628d49679",
   "metadata": {
    "tags": []
   },
   "outputs": [],
   "source": [
    "import os\n",
    "import weaviate\n",
    "from weaviate.util import generate_uuid5\n",
    "from dotenv import load_dotenv\n",
    "\n",
    "load_dotenv()\n",
    "\n",
    "weaviate_api_key = os.environ['WEAVIATE_API_KEY']\n",
    "weaviate_url = os.environ['WEAVIATE_URL']\n",
    "openai_api_key = os.environ['OPENAI_API_KEY']\n",
    "\n",
    "auth_config = weaviate.AuthApiKey(api_key=weaviate_api_key)\n",
    "\n",
    "# set up the client\n",
    "CLIENT = weaviate.Client(\n",
    "    url=weaviate_url,\n",
    "    auth_client_secret=auth_config,\n",
    "    additional_headers={\n",
    "        \"X-OpenAI-Api-Key\": openai_api_key\n",
    "    }\n",
    ")\n",
    "\n",
    "# flush the schema and data\n",
    "CLIENT.schema.delete_all()\n",
    "\n",
    "# create the schema\n",
    "schema = {\n",
    "    \"classes\": [\n",
    "        {\n",
    "            \"class\": \"Work\",\n",
    "            \"vectorizer\": \"text2vec-openai\",\n",
    "                \"moduleConfig\": {\n",
    "                \"text2vec-openai\": {\n",
    "                    \"vectorizeClassName\": True\n",
    "                }\n",
    "            },\n",
    "            \"properties\": [\n",
    "                {\"dataType\": [\"text\"], \"name\": \"title\"},\n",
    "                {\"dataType\": [\"text\"], \"name\": \"accession_number\"},\n",
    "                {\"dataType\": [\"text\"], \"name\": \"alternate_title\"},\n",
    "                {\"dataType\": [\"text\"], \"name\": \"api_model\"},\n",
    "                {\"dataType\": [\"number\"], \"name\": \"catalog_key\"},\n",
    "                {\"dataType\": [\"text\"], \"name\": \"collection\"},\n",
    "                {\"dataType\": [\"text\"], \"name\": \"contributor\"},\n",
    "                {\"dataType\": [\"text\"], \"name\": \"create_date\"},\n",
    "                {\"dataType\": [\"text\"], \"name\": \"creator\"},\n",
    "                {\"dataType\": [\"text\"], \"name\": \"date_created\"},\n",
    "                {\"dataType\": [\"text\"], \"name\": \"description\"},\n",
    "                {\"dataType\": [\"text\"], \"name\": \"genre\"},\n",
    "                {\"dataType\": [\"text\"], \"name\": \"identifier\"},\n",
    "                {\"dataType\": [\"text\"], \"name\": \"identifier_human_readable\"},\n",
    "                {\"dataType\": [\"text\"], \"name\": \"keywords\"},\n",
    "                {\"dataType\": [\"text\"], \"name\": \"language\"},\n",
    "                {\"dataType\": [\"text\"], \"name\": \"library_unit\"},\n",
    "                {\"dataType\": [\"text\"], \"name\": \"location\"},\n",
    "                {\"dataType\": [\"text\"], \"name\": \"physical_description_material\"},\n",
    "                {\"dataType\": [\"text\"], \"name\": \"physical_description_size\"},\n",
    "                {\"dataType\": [\"text\"], \"name\": \"preservation_level\"},\n",
    "                {\"dataType\": [\"boolean\"], \"name\": \"published\"},\n",
    "                {\"dataType\": [\"text\"], \"name\": \"related_material\"},\n",
    "                {\"dataType\": [\"text\"], \"name\": \"related_url\"},\n",
    "                {\"dataType\": [\"text\"], \"name\": \"rights_holder\"},\n",
    "                {\"dataType\": [\"text\"], \"name\": \"rights_statement\"},\n",
    "                {\"dataType\": [\"text\"], \"name\": \"scope_and_contents\"},\n",
    "                {\"dataType\": [\"text\"], \"name\": \"series\"},\n",
    "                {\"dataType\": [\"text\"], \"name\": \"source\"},\n",
    "                {\"dataType\": [\"text\"], \"name\": \"status\"},\n",
    "                {\"dataType\": [\"text\"], \"name\": \"style_period\"},\n",
    "                {\"dataType\": [\"text\"], \"name\": \"subject\"},\n",
    "                {\"dataType\": [\"text\"], \"name\": \"table_of_contents\"},\n",
    "                {\"dataType\": [\"text\"], \"name\": \"technique\"},\n",
    "                {\"dataType\": [\"text\"], \"name\": \"visibility\"},\n",
    "                {\"dataType\": [\"text\"], \"name\": \"work_type\"},\n",
    "            ],\n",
    "        }\n",
    "    ]\n",
    "}\n",
    "\n",
    "\n",
    "CLIENT.schema.create(schema)"
   ]
  },
  {
   "cell_type": "code",
   "execution_count": 120,
   "id": "d1fc73b2-8d0d-45f0-b805-630cf211c91c",
   "metadata": {},
   "outputs": [],
   "source": [
    "import json\n",
    "\n",
    "def jprint(schema):\n",
    "    print(json.dumps(schema, indent=4))"
   ]
  },
  {
   "cell_type": "code",
   "execution_count": 121,
   "id": "e3a05df5-1003-408b-8f65-ddfd91f4ae16",
   "metadata": {
    "tags": []
   },
   "outputs": [
    {
     "name": "stdout",
     "output_type": "stream",
     "text": [
      "Requirement already satisfied: pandas in /home/studio-lab-user/.conda/envs/default/lib/python3.9/site-packages (2.0.2)\n",
      "Requirement already satisfied: pytz>=2020.1 in /home/studio-lab-user/.conda/envs/default/lib/python3.9/site-packages (from pandas) (2023.3)\n",
      "Requirement already satisfied: tzdata>=2022.1 in /home/studio-lab-user/.conda/envs/default/lib/python3.9/site-packages (from pandas) (2023.3)\n",
      "Requirement already satisfied: numpy>=1.20.3 in /home/studio-lab-user/.conda/envs/default/lib/python3.9/site-packages (from pandas) (1.24.3)\n",
      "Requirement already satisfied: python-dateutil>=2.8.2 in /home/studio-lab-user/.conda/envs/default/lib/python3.9/site-packages (from pandas) (2.8.2)\n",
      "Requirement already satisfied: six>=1.5 in /home/studio-lab-user/.conda/envs/default/lib/python3.9/site-packages (from python-dateutil>=2.8.2->pandas) (1.16.0)\n",
      "Note: you may need to restart the kernel to use updated packages.\n"
     ]
    }
   ],
   "source": [
    "%pip install pandas\n",
    "import pandas as pd"
   ]
  },
  {
   "cell_type": "code",
   "execution_count": 122,
   "id": "a8b1e82b-4d1a-464e-a824-d81bb62a9432",
   "metadata": {
    "tags": []
   },
   "outputs": [
    {
     "name": "stdout",
     "output_type": "stream",
     "text": [
      "Number of records: 9995\n",
      "Sample record: \n",
      "    accession_number: P0402_nubaa_s2_df2_112\n",
      "    alternate_title: nan\n",
      "    api_model: Work\n",
      "    catalog_key: nan\n",
      "    collection: Records of Northwestern University Black Alumni Association (NUBAA) \n",
      "    contributor: Northwestern University Black Alumni Association\n",
      "    create_date: 2022-08-01T16:31:55.476329Z\n",
      "    creator: nan\n",
      "    date_created: 1968 to 2002\n",
      "    description: nan\n",
      "    genre: born digital|CD-Rs\n",
      "    identifier: 18f90cdd-0dfe-41a3-8596-ee6b1358261c\n",
      "    identifier_human_readable: Series 2, digital folder 2\n",
      "    keywords: nan\n",
      "    language: nan\n",
      "    library_unit: University Archives\n",
      "    location: nan\n",
      "    physical_description_material: From Compact Disc Recordable (CD-R)\n",
      "    physical_description_size: nan\n",
      "    preservation_level: Level 1\n",
      "    published: True\n",
      "    related_material: nan\n",
      "    related_url: Finding Aid\n",
      "    rights_holder: nan\n",
      "    rights_statement: In Copyright\n",
      "    scope_and_contents: nan\n",
      "    series: Records of Northwestern University Black Alumni Association (NUBAA)--Photographs, 1968-2002 and undated\n",
      "    source: nan\n",
      "    status: Done\n",
      "    style_period: nan\n",
      "    subject: Northwestern University Black Alumni Association|African American college students|Northwestern University (Evanston, Ill.)|Universities and colleges--Alumni and alumnae--Societies, etc.\n",
      "    table_of_contents: nan\n",
      "    technique: nan\n",
      "    title: young Pat Broussard\n",
      "    visibility: Public\n",
      "    work_type: Image\n"
     ]
    }
   ],
   "source": [
    "# Read the csv file\n",
    "data = pd.read_csv('./data/nuldc_06_01_23_random_10k_filtered.csv').rename(columns={'identifier': 'identifier_human_readable', 'id': 'identifier'})\n",
    "print(f'Number of records: {len(data)}')\n",
    "first_record = data.iloc[0].to_dict()\n",
    "print(\"Sample record: \")\n",
    "for key, value in first_record.items():\n",
    "    print(f'    {key}: {value}')"
   ]
  },
  {
   "cell_type": "code",
   "execution_count": 123,
   "id": "d22efd44-bcc9-4527-83dc-2d8ec2daf86d",
   "metadata": {
    "tags": []
   },
   "outputs": [],
   "source": [
    "from weaviate.util import generate_uuid5\n",
    "\n",
    "CLIENT.batch.configure(\n",
    "    batch_size=100\n",
    ")\n",
    "\n",
    "with CLIENT.batch as batch:\n",
    "    for i, d in enumerate(data.iloc):\n",
    "        filtered = d.dropna().to_dict()\n",
    "        uuid_work = generate_uuid5(filtered, \"Work\")\n",
    "        batch.add_data_object(\n",
    "            data_object=filtered,\n",
    "            class_name=\"Work\",\n",
    "            uuid=uuid_work\n",
    "        )"
   ]
  },
  {
   "cell_type": "code",
   "execution_count": 124,
   "id": "3e0ccabf-724f-43f7-81d9-2d7cca6d5cf6",
   "metadata": {
    "tags": []
   },
   "outputs": [
    {
     "name": "stdout",
     "output_type": "stream",
     "text": [
      "{\n",
      "    \"data\": {\n",
      "        \"Aggregate\": {\n",
      "            \"Work\": [\n",
      "                {\n",
      "                    \"meta\": {\n",
      "                        \"count\": 9995\n",
      "                    }\n",
      "                }\n",
      "            ]\n",
      "        }\n",
      "    }\n",
      "}\n"
     ]
    }
   ],
   "source": [
    "class_name = \"Work\"\n",
    "count = CLIENT.query.aggregate(class_name).with_meta_count().do()\n",
    "jprint(count)"
   ]
  },
  {
   "cell_type": "code",
   "execution_count": 128,
   "id": "251afeed-736b-446b-9806-4c9b46d70d53",
   "metadata": {
    "tags": []
   },
   "outputs": [
    {
     "data": {
      "text/plain": [
       "{'data': {'Get': {'Work': [{'identifier': '7e16ea3a-037c-4da5-8199-47c14802fa9e',\n",
       "     'subject': 'Iranians|Bald eagle|Revolution (Iran : 1979)',\n",
       "     'title': 'Jihad this!'},\n",
       "    {'identifier': '698bd2fc-39e9-4dab-baf1-0d519d52b24a',\n",
       "     'subject': 'Painting',\n",
       "     'title': 'The Poet and His Muse: Portrait of Apollinaire and Marie Laurencin'},\n",
       "    {'identifier': 'b2fb28b5-3f76-42a8-9c70-6b11180f6e4f',\n",
       "     'subject': 'Photography--20th century--United States',\n",
       "     'title': 'From Here I Saw What Happened and I Cried. Detail'},\n",
       "    {'identifier': 'cbd4a24c-9382-4284-8d01-7f1f9dacd65d',\n",
       "     'subject': 'Painting',\n",
       "     'title': \"Aesop (in Beggar's Rags). bust\"},\n",
       "    {'identifier': '0f5c6f46-b303-488b-8993-4d780c31e0e3',\n",
       "     'subject': 'Painting|20th century',\n",
       "     'title': 'Champs-Elysees and Arc de Triomphe'},\n",
       "    {'identifier': '32d4f52a-e7bc-4382-98f2-506a8212bbd4',\n",
       "     'subject': 'South Africa|Anti-apartheid movements|South Africa--Foreign economic relations|Political posters, English|Apartheid--South Africa',\n",
       "     'title': \"Apartheid's friends and allies\"},\n",
       "    {'identifier': 'c48fd3c2-a62f-4d3b-b47c-d8e1130494a1',\n",
       "     'subject': 'Painting',\n",
       "     'title': 'Thirst goes away with drinking'},\n",
       "    {'identifier': '53cd8dfb-b8ea-4c60-8c0c-ebed69419bb1',\n",
       "     'subject': 'Tie-dyeing|Art, African|Art, Mende|Decorative arts--20th century--Sierra Leone|Textiles|Damask weaving',\n",
       "     'title': 'Tie-dyed Cotton Cloth, Radiating Diamond Pattern'},\n",
       "    {'identifier': 'c3784d0d-a845-4ee1-8777-fa386a022773',\n",
       "     'subject': 'Slave insurrections|Soldiers|Painting|Haiti--History--Revolution, 1791-1804',\n",
       "     'title': 'Soldiers'},\n",
       "    {'identifier': '4409915e-5b8d-4a69-b5e1-43d999363af1',\n",
       "     'subject': 'Painting|Rajput|Kotah',\n",
       "     'title': 'Bhoj Singh of Bundi Slays a Lion. Upper left portion: lion'},\n",
       "    {'identifier': '51de0110-086b-4d50-b1de-d794ed7265b1',\n",
       "     'subject': 'Painting|20th century',\n",
       "     'title': 'Champs-Elysees and Arc de Triomphe. mother and child, people, trees, brushwork'},\n",
       "    {'identifier': '2ce77ecf-e52a-4a66-80a1-c47a38ee5817',\n",
       "     'subject': 'Painting--20th century--United States|portraits',\n",
       "     'title': 'Mary Cassatt at Villa Angelotto, Grasse'},\n",
       "    {'identifier': 'b68b6f54-3a02-4b51-99eb-5c029a66f880',\n",
       "     'subject': 'Markets|Painting|Crowds',\n",
       "     'title': \"Old Market at Rouen and Rue de l'Epicerle\"},\n",
       "    {'identifier': '4ed11a1d-ed66-44fa-ad5a-d7c16fb6b1ec',\n",
       "     'subject': 'Painting|19th century',\n",
       "     'title': 'Lictors Bringing Brutus the Bodies of His Sons. weeping women at right'},\n",
       "    {'identifier': 'e6c6604a-6d4c-422e-8f09-cfa793327add',\n",
       "     'subject': 'Illuminated manuscripts--18th century--England|Tigers',\n",
       "     'title': 'Songs of Innocence and of Experience. The Tyger'}]}}}"
      ]
     },
     "execution_count": 128,
     "metadata": {},
     "output_type": "execute_result"
    }
   ],
   "source": [
    "nearText = {\"concepts\": [\"jealous rage\"]}\n",
    "CLIENT.query.get(\"Work\", [\"identifier\", \"title\", \"subject\"]).with_near_text(nearText).with_limit(15).do()"
   ]
  }
 ],
 "metadata": {
  "kernelspec": {
   "display_name": "default:Python",
   "language": "python",
   "name": "conda-env-default-py"
  },
  "language_info": {
   "codemirror_mode": {
    "name": "ipython",
    "version": 3
   },
   "file_extension": ".py",
   "mimetype": "text/x-python",
   "name": "python",
   "nbconvert_exporter": "python",
   "pygments_lexer": "ipython3",
   "version": "3.9.16"
  }
 },
 "nbformat": 4,
 "nbformat_minor": 5
}
