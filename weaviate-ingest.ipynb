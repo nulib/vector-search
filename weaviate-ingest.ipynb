{
 "cells": [
  {
   "cell_type": "code",
   "execution_count": 3,
   "id": "fc81f0d4-deae-42b8-a5d6-2d64b793852b",
   "metadata": {
    "tags": []
   },
   "outputs": [
    {
     "name": "stdout",
     "output_type": "stream",
     "text": [
      "Requirement already satisfied: weaviate-client in /home/studio-lab-user/.conda/envs/default/lib/python3.9/site-packages (3.19.2)\n",
      "Requirement already satisfied: authlib>=1.1.0 in /home/studio-lab-user/.conda/envs/default/lib/python3.9/site-packages (from weaviate-client) (1.2.0)\n",
      "Requirement already satisfied: validators<=0.21.0,>=0.18.2 in /home/studio-lab-user/.conda/envs/default/lib/python3.9/site-packages (from weaviate-client) (0.20.0)\n",
      "Requirement already satisfied: tqdm<5.0.0,>=4.59.0 in /home/studio-lab-user/.conda/envs/default/lib/python3.9/site-packages (from weaviate-client) (4.65.0)\n",
      "Requirement already satisfied: requests<2.29.0,>=2.28.0 in /home/studio-lab-user/.conda/envs/default/lib/python3.9/site-packages (from weaviate-client) (2.28.2)\n",
      "Requirement already satisfied: cryptography>=3.2 in /home/studio-lab-user/.conda/envs/default/lib/python3.9/site-packages (from authlib>=1.1.0->weaviate-client) (41.0.1)\n",
      "Requirement already satisfied: cffi>=1.12 in /home/studio-lab-user/.conda/envs/default/lib/python3.9/site-packages (from cryptography>=3.2->authlib>=1.1.0->weaviate-client) (1.15.1)\n",
      "Requirement already satisfied: pycparser in /home/studio-lab-user/.conda/envs/default/lib/python3.9/site-packages (from cffi>=1.12->cryptography>=3.2->authlib>=1.1.0->weaviate-client) (2.21)\n",
      "Requirement already satisfied: certifi>=2017.4.17 in /home/studio-lab-user/.conda/envs/default/lib/python3.9/site-packages (from requests<2.29.0,>=2.28.0->weaviate-client) (2023.5.7)\n",
      "Requirement already satisfied: urllib3<1.27,>=1.21.1 in /home/studio-lab-user/.conda/envs/default/lib/python3.9/site-packages (from requests<2.29.0,>=2.28.0->weaviate-client) (1.26.16)\n",
      "Requirement already satisfied: idna<4,>=2.5 in /home/studio-lab-user/.conda/envs/default/lib/python3.9/site-packages (from requests<2.29.0,>=2.28.0->weaviate-client) (3.4)\n",
      "Requirement already satisfied: charset-normalizer<4,>=2 in /home/studio-lab-user/.conda/envs/default/lib/python3.9/site-packages (from requests<2.29.0,>=2.28.0->weaviate-client) (3.1.0)\n",
      "Requirement already satisfied: decorator>=3.4.0 in /home/studio-lab-user/.conda/envs/default/lib/python3.9/site-packages (from validators<=0.21.0,>=0.18.2->weaviate-client) (5.1.1)\n",
      "Note: you may need to restart the kernel to use updated packages.\n"
     ]
    }
   ],
   "source": [
    "%pip install weaviate-client"
   ]
  }
 ],
 "metadata": {
  "kernelspec": {
   "display_name": "default:Python",
   "language": "python",
   "name": "conda-env-default-py"
  },
  "language_info": {
   "codemirror_mode": {
    "name": "ipython",
    "version": 3
   },
   "file_extension": ".py",
   "mimetype": "text/x-python",
   "name": "python",
   "nbconvert_exporter": "python",
   "pygments_lexer": "ipython3",
   "version": "3.9.16"
  }
 },
 "nbformat": 4,
 "nbformat_minor": 5
}
