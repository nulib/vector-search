{
 "cells": [
  {
   "cell_type": "code",
   "execution_count": 11,
   "id": "0f640b57-9695-4c1d-bdac-3907fc87f9d4",
   "metadata": {
    "tags": []
   },
   "outputs": [
    {
     "name": "stdout",
     "output_type": "stream",
     "text": [
      "Setup Complete. Use CLIENT to access Weaviate.\n"
     ]
    }
   ],
   "source": [
    "%run \"../../../setup.ipynb\"\n",
    "if CLIENT == None:\n",
    "    print(\"Failed to create CLIENT.\")"
   ]
  },
  {
   "cell_type": "code",
   "execution_count": 7,
   "id": "beff4a6c-65d5-4f08-b937-7788010af6e2",
   "metadata": {
    "tags": []
   },
   "outputs": [
    {
     "data": {
      "application/json": {
       "data": {
        "Aggregate": {
         "Work": [
          {
           "meta": {
            "count": 108060
           }
          }
         ]
        }
       }
      },
      "text/plain": [
       "<IPython.core.display.JSON object>"
      ]
     },
     "execution_count": 7,
     "metadata": {
      "application/json": {
       "expanded": true,
       "root": "root"
      }
     },
     "output_type": "execute_result"
    }
   ],
   "source": [
    "class_name = \"Work\"\n",
    "count = CLIENT.query.aggregate(class_name).with_meta_count().do()\n",
    "jprint(count)"
   ]
  },
  {
   "cell_type": "code",
   "execution_count": 8,
   "id": "c634d9e1-a93d-40f3-b63a-34304174bb60",
   "metadata": {
    "tags": []
   },
   "outputs": [
    {
     "data": {
      "application/json": {
       "data": {
        "Get": {
         "Work": [
          {
           "_additional": {
            "group": {
             "count": 2,
             "groupedBy": {
              "value": "Saskia Art Images (CARLI), Records of Department of Art History"
             },
             "hits": [
              {
               "identifier": "eb76b020-02fa-4c42-a6b5-f8d281e4b7cd",
               "subject": [
                "Painting"
               ],
               "title": "Concert Champetre'. three musicians"
              },
              {
               "identifier": "a55df331-fded-441d-aa86-7986c7e9db9f",
               "subject": [
                "Painting--16th century--Italy",
                "Female nude",
                "Musicians"
               ],
               "title": "Pastoral Concert. Detail: Musicians"
              }
             ],
             "id": 0
            }
           }
          },
          {
           "_additional": {
            "group": {
             "count": 2,
             "groupedBy": {
              "value": "Berkeley Folk Music Festival"
             },
             "hits": [
              {
               "identifier": "122a2a3c-baa1-44fa-b33b-ccb3a16adf1c",
               "subject": [
                "San Francisco (Calif.)",
                "University of California, San Francisco",
                "Seeger, Mike, 1933-2009",
                "Berkeley Folk Music Festival (8th : 1965 : Berkeley, Calif.)",
                "Kathy & Carol (Musical group)",
                "Ritchie, Jean"
               ],
               "title": "Children's folk music concert flier"
              },
              {
               "identifier": "36ff77cc-6b10-4fda-9d9c-873dd565b24d",
               "subject": [
                "University of California, San Francisco",
                "San Francisco (Calif.)",
                "Seeger, Mike, 1933-2009",
                "Berkeley Folk Music Festival (8th : 1965 : Berkeley, Calif.)",
                "Kathy & Carol (Musical group)",
                "Ritchie, Jean"
               ],
               "title": "Children's folk music concert flier"
              }
             ],
             "id": 1
            }
           }
          }
         ]
        }
       }
      },
      "text/plain": [
       "<IPython.core.display.JSON object>"
      ]
     },
     "execution_count": 8,
     "metadata": {
      "application/json": {
       "expanded": true,
       "root": "root"
      }
     },
     "output_type": "execute_result"
    }
   ],
   "source": [
    "jprint(\n",
    "    CLIENT.query\n",
    "        .get(class_name=\"Work\", properties=[])\n",
    "        .with_limit(20)\n",
    "        .with_near_text({\"concepts\": [\"pictures of musicians\"]})\n",
    "        .with_group_by([\"collection\"], groups=10, objects_per_group=2)\n",
    "        .with_additional([\n",
    "            \"\"\"\n",
    "            group {\n",
    "                id\n",
    "                groupedBy {\n",
    "                    value\n",
    "                }\n",
    "                count\n",
    "                hits {\n",
    "                    identifier\n",
    "                    title\n",
    "                    subject\n",
    "                }\n",
    "            }\n",
    "            \"\"\"\n",
    "        ])\n",
    "        .do()\n",
    ")"
   ]
  },
  {
   "cell_type": "code",
   "execution_count": 15,
   "id": "cecfb6b8-0493-4c0e-a877-c2d65bfbc08e",
   "metadata": {
    "tags": []
   },
   "outputs": [
    {
     "data": {
      "application/json": {
       "data": {
        "Get": {
         "Work": [
          {
           "_additional": {
            "vector": [
             -0.089500315,
             0.011905319,
             0.10702392,
             -0.022685416,
             -0.08025506,
             0.2252681,
             -0.08702079,
             0.059114322,
             0.036981475,
             0.008036292,
             0.040406756,
             -0.13015032,
             0.07097918,
             -0.23068045,
             -0.07282133,
             -0.05763627,
             -0.011677822,
             0.15542568,
             -0.13339701,
             0.00014568286,
             -0.17073835,
             0.1098834,
             -0.17174233,
             -0.043466527,
             -0.07745169,
             -0.028299168,
             -0.28136352,
             -0.04385545,
             -0.02873214,
             -0.1858157,
             0.13553274,
             0.18806972,
             0.30719882,
             0.19003615,
             0.03312915,
             0.28477585,
             -0.07026005,
             -0.070776984,
             -0.06721197,
             0.30579922,
             -0.25473827,
             -0.04554267,
             -0.1779333,
             -0.10563278,
             -0.19385003,
             -0.19370416,
             -0.093220696,
             0.033988442,
             -0.17412274,
             0.16484007,
             -0.099839784,
             0.14287703,
             -0.1688992,
             -0.096134566,
             -0.17109136,
             -0.23820242,
             -0.06526113,
             0.3659136,
             0.2629152,
             0.045294885,
             -0.0133000575,
             0.041678313,
             -0.5253529,
             -0.03679807,
             0.018493334,
             -0.005952974,
             0.18504485,
             -0.08219618,
             -0.11618978,
             -0.103079975,
             0.17239487,
             0.073830985,
             -0.20642197,
             -0.25579867,
             0.04976005,
             0.10365084,
             -0.22167864,
             -0.105175674,
             -0.24403004,
             -0.3534457,
             -0.17517607,
             -0.24701788,
             0.049938757,
             -0.24385148,
             -0.007010018,
             -0.14742993,
             0.12155912,
             -0.111652456,
             -0.02224619,
             -0.07661917,
             -0.03363936,
             -0.073756285,
             -0.14475451,
             0.046605963,
             -0.016678253,
             0.21482533,
             0.10544702,
             0.05536845,
             0.3275397,
             0.4877065,
             -0.052046325,
             0.12308454,
             -0.037780732,
             0.017241208,
             -0.16949996,
             -0.1990044,
             0.11855137,
             -0.016501127,
             -0.05531777,
             0.083004795,
             0.179386,
             -0.25255695,
             -0.1714741,
             0.21767811,
             0.36055404,
             -0.0183311,
             0.0151212625,
             0.072984025,
             -0.17121977,
             0.061226334,
             -0.057899937,
             0.19543383,
             -0.031857096,
             0.23698287,
             -0.22763416,
             -0.0048667938,
             0.11679257,
             0.16730878,
             -0.026324682,
             -0.15154205,
             -0.0010062061,
             0.039002012,
             -0.0013230415,
             -0.030935287,
             -0.16206403,
             0.25328112,
             -0.054937344,
             0.104148224,
             0.33475503,
             0.10288963,
             -0.029149553,
             -0.01029534,
             -0.20733461,
             -0.03490458,
             0.13212164,
             -0.11503996,
             0.1634037,
             -0.14355972,
             -0.11162049,
             0.17025477,
             0.22466841,
             -0.19829527,
             -0.15948088,
             0.096743144,
             0.05778248,
             -0.10517411,
             0.5927278,
             0.051584013,
             0.04649334,
             0.053418398,
             0.14568098,
             0.09005093,
             0.12486946,
             -0.009766352,
             0.1141978,
             -0.0545429,
             -0.026331464,
             -0.100111626,
             -0.015319246,
             -0.101576135,
             -0.038384292,
             0.033508185,
             -0.013101669,
             0.486568,
             0.11695088,
             -0.100342296,
             0.07312394,
             0.033620656,
             -0.1644339,
             0.14739488,
             0.15356955,
             0.19269374,
             0.10324871,
             0.14687988,
             -0.23112337,
             0.13785744,
             0.07432379,
             -0.010575629,
             0.18854967,
             0.29051232,
             0.21816203,
             0.0047095963,
             0.03315803,
             -0.1377942,
             -0.12136265,
             -0.08003624,
             0.3163598,
             -0.11715814,
             -0.09646451,
             0.11383504,
             -0.29663503,
             0.14254992,
             -0.08661336,
             -0.15915222,
             0.08450454,
             -0.0755126,
             0.058603566,
             0.006576149,
             -0.060139783,
             0.2147843,
             -0.10400223,
             -0.085171156,
             -0.22428097,
             -0.24449211,
             0.1287076,
             0.040978752,
             -0.14813514,
             -0.15839803,
             -0.22224604,
             0.24275309,
             -0.047008768,
             -0.32801312,
             0.021531543,
             -0.23299459,
             0.0702665,
             0.20504673,
             -0.23534262,
             0.017726764,
             -0.044810798,
             0.17053108,
             -0.38969204,
             0.00050491816,
             0.13441868,
             0.04211268,
             0.021067763,
             -0.090359874,
             0.18182708,
             -0.3255825,
             0.12723388,
             -0.36433572,
             -0.06369379,
             0.08197087,
             0.049364854,
             0.10515172,
             -0.25276405,
             -0.010364708,
             -0.36016005,
             0.23074469,
             -0.15102294,
             0.029464595,
             0.07436637,
             -0.15970908,
             -0.16710603,
             0.1713154,
             0.32804158,
             -0.05485317,
             -0.06530842,
             -0.13472131,
             -0.06474832,
             -0.014766272,
             0.27923855,
             -0.086556025,
             -0.10222718,
             0.043145467,
             0.18359432,
             0.03583488,
             0.02916022,
             -0.035547517,
             -0.046323437,
             -0.14858377,
             -0.2531158,
             -0.008147966,
             0.18547174,
             -0.15637308,
             0.06280606,
             -0.02289034,
             0.17833823,
             -0.3507588,
             -0.19665149,
             0.0036700517,
             0.18230285,
             -0.12732768,
             0.33866,
             0.19491588,
             -0.20813319,
             0.12752481,
             -0.19211622,
             -0.24214724,
             -0.08567876,
             0.1012066,
             -0.05372574,
             0.07147889,
             -0.23438568,
             0.18991956,
             0.24017419,
             0.13988991,
             -0.03426459,
             0.09867959,
             -0.20870976,
             0.24035706,
             0.1889488,
             0.27853215,
             0.05082296,
             0.02754155,
             0.051071532,
             0.010643666,
             -0.08847246,
             -0.012843195,
             0.07019496,
             -0.07060766,
             0.35571796,
             -0.08708412,
             -0.07103511,
             0.077468425,
             0.23519701,
             -0.2857166,
             0.2077987,
             0.3221431,
             0.2194786,
             -0.19632836,
             -0.110180244,
             0.10914726,
             -0.13057126,
             0.1775266,
             0.1862777,
             0.17263493,
             -0.0051125647,
             -0.041803516,
             -0.14271353,
             0.19905704,
             -0.05650875,
             -0.08985107,
             -0.27536413,
             0.036417082,
             0.13711302,
             -0.15324858,
             -0.012798259,
             -0.18796602,
             0.04414972,
             -0.024374178,
             0.12310237,
             0.054553226,
             0.28647405,
             -0.48913845,
             -0.3070919,
             -0.10777205,
             0.07380079,
             -0.054695282,
             -0.22118789,
             -0.046775512,
             0.09114889,
             0.16368069,
             -0.094276115,
             -0.15682666,
             0.17416002,
             0.16147967,
             -0.20273797,
             0.048142407,
             -0.08145357,
             0.28784567,
             0.13450941,
             -0.19023606,
             0.055399355,
             0.2142306,
             0.052045688,
             0.021390654,
             -0.04024546,
             0.3426117,
             0.111915916,
             0.1000112,
             -0.20264477,
             -0.02659628,
             0.21513663,
             -0.008484918,
             -0.051713802,
             0.067693576,
             -0.034663007,
             0.36938864,
             -0.07154826,
             0.004383781,
             -0.011040382,
             -0.06519451,
             -0.2591245,
             0.10275644
            ]
           },
           "identifier": "00001390-981a-4ba1-8fcf-e8c6f29bdb04",
           "title": "Letter to Professor Richard Cramer from Barry"
          }
         ]
        }
       }
      },
      "text/plain": [
       "<IPython.core.display.JSON object>"
      ]
     },
     "execution_count": 15,
     "metadata": {
      "application/json": {
       "expanded": false,
       "root": "root"
      }
     },
     "output_type": "execute_result"
    }
   ],
   "source": [
    "work=(\n",
    "    CLIENT.query\n",
    "        .get(class_name=\"Work\", properties=[\"identifier\", \"title\"])\n",
    "        .with_limit(1)\n",
    "        .with_additional([\"vector\"])\n",
    "        .do()\n",
    ")\n",
    "vector=work[\"data\"][\"Get\"][\"Work\"][0][\"_additional\"][\"vector\"]\n",
    "jprint(work, expanded=False)"
   ]
  },
  {
   "cell_type": "code",
   "execution_count": 16,
   "id": "31cf8493-c22a-4310-8178-63d6ba513805",
   "metadata": {
    "tags": []
   },
   "outputs": [
    {
     "data": {
      "application/json": {
       "data": {
        "Get": {
         "Work": [
          {
           "identifier": "00001390-981a-4ba1-8fcf-e8c6f29bdb04",
           "title": "Letter to Professor Richard Cramer from Barry"
          },
          {
           "identifier": "991b8aac-0688-4726-a33b-b814f29bf3ee",
           "title": "Letter to Sam and Leslie Hinton from Barry Olivier"
          },
          {
           "identifier": "65147ac5-99e7-428d-8214-f72af3206b32",
           "title": "Letter from Barry Olivier to John Mitchell"
          },
          {
           "identifier": "bc6d8ef4-9247-4063-91a7-3281a7a03afa",
           "title": "Letter from Barry Olivier to John Langstaff"
          },
          {
           "identifier": "65f0e228-57ff-42e5-912d-7c1857754993",
           "title": "Letter from Barry Olivier to Brownie McGhee"
          },
          {
           "identifier": "64755807-f9ee-4ae4-969f-db1ee133b740",
           "title": "Letter to Sam and all from Barry"
          },
          {
           "identifier": "a2741270-f8d2-4977-bf3a-ca890bbf36d6",
           "title": "Letter from Barry Olivier to Fred McDowell"
          },
          {
           "identifier": "480d0d67-33dc-4511-9eb0-35d6355a3d72",
           "title": "Letter from Barry Oliver to Dr. Hector Lee"
          },
          {
           "identifier": "e17fba50-749a-4284-bf33-5ec21a6361b3",
           "title": "Letter to Sam from Barry"
          },
          {
           "identifier": "30258958-98a6-4cad-ad59-d71f9d96cd91",
           "title": "Letter to Barry and Helen from Leslie"
          },
          {
           "identifier": "cacb4ac4-e1ad-4a07-8896-d560d705321b",
           "title": "Letter to Sam from Barry"
          },
          {
           "identifier": "2b205906-dac1-4b5b-8636-305216c6fad9",
           "title": "Letter from Jean Ritchie to Barry Olivier"
          },
          {
           "identifier": "26c8a2f1-1857-4f87-8975-13c07be35734",
           "title": "Letter to Sam from Barry"
          },
          {
           "identifier": "060ea366-7fe8-4046-97bb-8afdf4337588",
           "title": "Letter to Sam from Barry"
          },
          {
           "identifier": "84935f0b-016a-4168-baf9-0ca56bfe0344",
           "title": "Letter from Jean Ritchie to Barry Olivier"
          },
          {
           "identifier": "ff396965-152a-4188-87ca-7d9840332d0a",
           "title": "Letter from Josh Dunson to Barry Olivier"
          },
          {
           "identifier": "a9ac4020-0795-4470-91ae-7d07c973196a",
           "title": "Letter from Jean Ritchie to Barry Olivier"
          },
          {
           "identifier": "63f94551-1b1a-42c3-8de1-6b736bee9a47",
           "title": "Letter from Jean Ritchie to Barry Olivier"
          },
          {
           "identifier": "e0e6dcba-f193-4715-a4a1-a2250138a3bf",
           "title": "Letter from Barry Olivier to Jean Ritchie"
          },
          {
           "identifier": "498f6e82-e0dc-4ee4-ae61-55fd460aa4fa",
           "title": "Letter to Sam from Barry"
          },
          {
           "identifier": "74ceca89-b63c-45a9-8655-42e21d8efefc",
           "title": "Letter from Barry Olivier to John Hassler"
          },
          {
           "identifier": "7288ace5-1ff9-486f-a599-b9e42316c19f",
           "title": "Letter from Barry Olivier to Mark Levine"
          },
          {
           "identifier": "6bf7cfe6-9106-45f4-8d09-75d916774dfa",
           "title": "Letter from Barry Olivier to Charles Seeger"
          },
          {
           "identifier": "dda5a2d5-415e-4df6-b426-3cb283905722",
           "title": "Letter from Barry Olivier to Charles Seeger"
          },
          {
           "identifier": "46276519-3bbd-4b56-8f8c-86c95970ebb5",
           "title": "Letter from Barry Olivier to Judith Seeger"
          },
          {
           "identifier": "068c49f0-c992-4663-bc58-71051e37e1cd",
           "title": "Letter from Barry Olivier to Charles Seeger"
          },
          {
           "identifier": "0a04bff6-cd96-4dc0-89e5-e6b522aba1c6",
           "title": "Letter from Barry Olivier to John Langstaff"
          },
          {
           "identifier": "e278cd9a-feae-4e13-b4c7-f90a50d01d68",
           "title": "Letter to Sam from Barry"
          },
          {
           "identifier": "eb8a76ab-ed67-42f5-97dc-01dfb733a0fd",
           "title": "Letter from Barry Olivier to Jean Ritchie"
          },
          {
           "identifier": "d47b77f9-ed69-486a-90de-1c7c14b182b4",
           "title": "Letter from Barry Olivier to John Langstaff"
          },
          {
           "identifier": "048a5451-66b9-4d5a-a698-9d525b630bc9",
           "title": "Letter from Barry Olivier to Charles Seeger"
          },
          {
           "identifier": "c4cbe290-f529-471f-b38f-887367e07172",
           "title": "Letter to Sam from Barry"
          },
          {
           "identifier": "f8458a6b-363d-49d0-80f2-63d4a3da6745",
           "title": "Letter to Sam from Barry"
          },
          {
           "identifier": "11bb8edd-90d2-4fce-9856-0c5c37aea6ea",
           "title": "Letter from Barry Olivier to Mark Levine"
          },
          {
           "identifier": "bc9b1a16-c801-45b3-a1ea-bd199563cddf",
           "title": "Letter from Barry Olivier to Charles Seeger"
          },
          {
           "identifier": "f8290457-ef1e-418f-83f2-476f762d950a",
           "title": "Letter from Barry Olivier to Jean Ritchie"
          },
          {
           "identifier": "ae2cdb61-1cf3-464c-a2b9-e0f99f168d07",
           "title": "Letter from Barry Olivier to Charles Seeger"
          },
          {
           "identifier": "aacbbe91-1684-4792-986f-59d2add35c07",
           "title": "Letter from Barry Olivier to Fred McDowell"
          },
          {
           "identifier": "761defdf-e053-467c-836e-4613fc6bfd63",
           "title": "Letter to Sam from Barry"
          },
          {
           "identifier": "02eab9db-1f30-4c3c-851c-b9ade0665d62",
           "title": "Letter from Barry Olivier to Manny Solomon"
          },
          {
           "identifier": "e07b22d6-1cd8-4e0f-b0dc-d8a86515df0a",
           "title": "Letter from Barry Olivier to Jean Ritchie"
          },
          {
           "identifier": "91f59639-9e3c-48e8-80d4-f113938ad616",
           "title": "Letter to Sam from Barry"
          },
          {
           "identifier": "ca335999-3f43-40cb-9315-6894fa0fa4a6",
           "title": "Letter from Barry Olivier to Mark Levine"
          },
          {
           "identifier": "dc64f076-ca4c-46be-a4af-08d4d5f61256",
           "title": "Letter from Barry Olivier to Jean Ritchie"
          },
          {
           "identifier": "48a3985b-e479-4424-a8e4-15d91e9c7b48",
           "title": "Letter to Sam from Barry"
          },
          {
           "identifier": "f4cc239c-eb8d-4f04-beb1-e8d43d0c81dd",
           "title": "Letter from Barry Olivier to Fred McDowell"
          },
          {
           "identifier": "a4b01028-4714-49c4-85cd-cb66b5476777",
           "title": "Letter from Mike Seeger to Barry Olivier"
          },
          {
           "identifier": "8f099307-4740-4fdc-94e8-7e19484a5ec0",
           "title": "Letter from Barry Olivier to Charles Seeger"
          },
          {
           "identifier": "0f5d5c16-ada4-40ff-b127-b682ca9f45d3",
           "title": "Letter from Barry Olivier to Charles Seeger"
          },
          {
           "identifier": "d2320b4e-c615-4d9a-8c56-2a01128eae7e",
           "title": "Letter to Sam from Barry"
          },
          {
           "identifier": "a4d43f94-bd44-49ed-bb58-21eb10a886cd",
           "title": "Letter from Barry Olivier to Renee LeBallister"
          },
          {
           "identifier": "fd021419-3d3a-49a9-a821-cd15cab6fe6c",
           "title": "Letter to Barry and Helen from Leslie Hinton"
          },
          {
           "identifier": "080fcf20-d539-46ae-b36f-a0480c3deef5",
           "title": "Letter to Sam from Barry"
          },
          {
           "identifier": "65db637e-0242-4d19-9032-da3627772529",
           "title": "Letter from Barry Olivier to Jean Ritchie"
          },
          {
           "identifier": "68b429c5-ce0f-44c1-a657-dd49e91dd662",
           "title": "Letter from Barry Olivier to Robert Shelton"
          },
          {
           "identifier": "5de2a2f6-f901-4812-86fa-357c89f608f5",
           "title": "Letter from Barry Olivier to Charles Seeger"
          },
          {
           "identifier": "3f8b286b-e346-4ec5-9f8a-d8db7bbf1f1d",
           "title": "Letter to Sam from Barry"
          },
          {
           "identifier": "19416596-99df-4218-b47a-c213c18e76a0",
           "title": "Letter from Barry Olivier to Jean Ritchie"
          },
          {
           "identifier": "12ddc73f-e1e9-4f24-b62f-9ffc9a0c9d0c",
           "title": "Letter to Barry from Leslie"
          },
          {
           "identifier": "234cba05-01bf-4a7b-b917-223058e8d067",
           "title": "Letter from Barry Olivier to John Lomax Jr."
          },
          {
           "identifier": "1dbc8936-2535-43f2-97f4-3e6d1ea3407e",
           "title": "Letter to Sam from Barry"
          },
          {
           "identifier": "0e881130-3a00-48c0-a7b4-93525758c909",
           "title": "Letter to Sam from Barry"
          },
          {
           "identifier": "0318a6df-eff0-4803-8912-3749931ade24",
           "title": "Letter from Barry Olivier to Jean Ritchie"
          },
          {
           "identifier": "04f00c69-3a3d-45c5-81e8-f98ea02c0dfd",
           "title": "Letter from Barry Olivier to Charles Seeger"
          },
          {
           "identifier": "127b3448-4b8b-4743-9b6c-b4cddcaef7b7",
           "title": "Letter to Barry and Helen from Leslie"
          },
          {
           "identifier": "f2e674fb-5a00-4d1e-ba63-0e4dfdf59d12",
           "title": "Letter from Barry Olivier to Mike Seeger"
          },
          {
           "identifier": "971e7d25-82f2-430d-bc03-6f7be132d601",
           "title": "Letter from Barry Olivier to Charles Seeger"
          },
          {
           "identifier": "b967eac4-b7be-449d-955c-0ce08a7b1b40",
           "title": "Letter from Barry Olivier to Jean Ritchie"
          },
          {
           "identifier": "9c0a3370-8d9f-42ac-9c77-7f1b3624acad",
           "title": "Letter from Barry Olivier to Juanita Montrond"
          },
          {
           "identifier": "ea62438e-30a5-4f84-bf14-b193b731c08b",
           "title": "Letter from Barry Olivier to Mark Levine"
          },
          {
           "identifier": "00c5767d-048a-47f5-aa42-04fad799ad33",
           "title": "Letter from Mark Levine to Barry Olivier"
          },
          {
           "identifier": "83fe14bd-0c90-4a91-be0a-5d0f565ec6cc",
           "title": "Letter from Barry Olivier to Charley Marshall"
          },
          {
           "identifier": "54598b71-26fb-4f27-b503-eb9ee55d1806",
           "title": "Letter from Mark Levine to Barry Olivier"
          },
          {
           "identifier": "46f62e83-7206-48c3-9fc0-6cfd2c30d331",
           "title": "Letter from Charley Marshall to Barry Olivier"
          },
          {
           "identifier": "f658d3b1-c9f8-45ce-b8eb-1c5e9f4a4f87",
           "title": "Letter from Barry Olivier to Jean Ritchie"
          },
          {
           "identifier": "84d5de36-af2b-401c-88e7-f9ec4f59d050",
           "title": "Letter from Barry Olivier to Charles Seeger"
          },
          {
           "identifier": "ec15bb62-333a-4c8d-988c-25585c8d007d",
           "title": "Letter from Barry Olivier to Charles Seeger"
          },
          {
           "identifier": "351885e9-ee43-4b6d-bfa1-1c660e7fc5cf",
           "title": "Letter from Barry Olivier to Mark Levine"
          },
          {
           "identifier": "6c0c988e-2ef0-4ac3-9e0e-22495ef7b3b3",
           "title": "Letter from Barry Olivier to Tom Paxton"
          },
          {
           "identifier": "ce6cdf1f-f071-40a7-a0ee-427e3f19a69d",
           "title": "Letter from Barry Olivier to John Langstaff"
          },
          {
           "identifier": "5380dcda-6ac3-4dc5-a3de-51cc2b0ce59a",
           "title": "Letter from Barry Olivier to Jean Ritchie"
          },
          {
           "identifier": "0144edfd-d1d4-4184-a9ad-ac14f19d5139",
           "title": "Letter from Barry Olivier to Mark Levine"
          },
          {
           "identifier": "4a5075e4-a766-4321-8244-0f5a1e0f1262",
           "title": "Letter from Leanne Hinton"
          },
          {
           "identifier": "9252c517-e558-4139-9478-37c5d5070f21",
           "title": "Letter from Barry Olivier to Jean Ritchie"
          },
          {
           "identifier": "c00fdf7b-3871-4c64-bb4f-4b7dba9675a8",
           "title": "Letter from Barry Olivier to Frank Warner"
          },
          {
           "identifier": "896ab7e9-5c84-45ab-95f2-1bd702f5c1df",
           "title": "Letter from Barry Olivier to Charles Seeger"
          },
          {
           "identifier": "0dca8a62-7388-4ac9-afcd-ffb6f11ba992",
           "title": "Letter from Barry Olivier to Charley Marshall"
          },
          {
           "identifier": "74872088-8d41-4980-8f40-69411ef4c3d1",
           "title": "Letter from Barry Olivier to Jean Ritchie"
          },
          {
           "identifier": "1241d85a-cb5f-4d78-bdd2-ec9296c63f7f",
           "title": "Letter from Barry Olivier to Charles Seeger"
          },
          {
           "identifier": "34c1d0b5-0ccf-4dea-8c8c-effea767e8f5",
           "title": "Letter from Barry Olivier to Frank Warner"
          },
          {
           "identifier": "127cf19d-659c-4c79-8bf1-964f47723211",
           "title": "Letter from Mark Levine to Barry Olivier"
          },
          {
           "identifier": "3bdc5dcf-4fab-4ad6-8ce1-c6e39630b6ee",
           "title": "Letter from Barry Olivier to Charles Seeger"
          },
          {
           "identifier": "f73c5670-b91a-4ff5-adf1-359b2f00640e",
           "title": "Letter from Barry Olivier to Charley Marshall"
          },
          {
           "identifier": "c0df9320-4236-45aa-a9b9-190a5cb8df2f",
           "title": "Letter from Barry Olivier to Mark Levine"
          },
          {
           "identifier": "a05a9dfd-9de0-4044-9e9b-c79cb9254b1a",
           "title": "Letter from Jean Ritchie to Barry Olivier"
          },
          {
           "identifier": "4dd27814-0350-438f-a2cb-b3eab47b06bd",
           "title": "Letter from Barry Olivier to Charles Seeger"
          },
          {
           "identifier": "4d3dc0fb-a30d-41ee-b5ff-7ec380480f88",
           "title": "Letter from Barry Olivier to Charles Seeger"
          },
          {
           "identifier": "a5c5492b-2457-4a7a-8882-95e3c47b0ef5",
           "title": "Letter from Barry Olivier to Charley Marshall"
          },
          {
           "identifier": "d825c86a-c06f-4489-9d79-551cb3e220b0",
           "title": "Letter from Barry Olivier to David Meltzer"
          },
          {
           "identifier": "67045e9a-b044-430e-b9dd-07cd2a99cdcf",
           "title": "Letter from Barry Olivier to Mark Levine"
          }
         ]
        }
       }
      },
      "text/plain": [
       "<IPython.core.display.JSON object>"
      ]
     },
     "execution_count": 16,
     "metadata": {
      "application/json": {
       "expanded": true,
       "root": "root"
      }
     },
     "output_type": "execute_result"
    }
   ],
   "source": [
    "result=(\n",
    "    CLIENT.query\n",
    "        .get(class_name=\"Work\", properties=[\"identifier\", \"title\"])\n",
    "        .with_near_vector({\"vector\": vector})\n",
    "        .with_limit(100)\n",
    "        .do()\n",
    ")\n",
    "jprint(result)"
   ]
  }
 ],
 "metadata": {
  "kernelspec": {
   "display_name": "weaviate:Python",
   "language": "python",
   "name": "conda-env-weaviate-py"
  },
  "language_info": {
   "codemirror_mode": {
    "name": "ipython",
    "version": 3
   },
   "file_extension": ".py",
   "mimetype": "text/x-python",
   "name": "python",
   "nbconvert_exporter": "python",
   "pygments_lexer": "ipython3",
   "version": "3.9.16"
  }
 },
 "nbformat": 4,
 "nbformat_minor": 5
}
