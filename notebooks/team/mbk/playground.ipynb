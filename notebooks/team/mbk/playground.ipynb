{
 "cells": [
  {
   "cell_type": "code",
   "execution_count": null,
   "id": "0f640b57-9695-4c1d-bdac-3907fc87f9d4",
   "metadata": {
    "tags": []
   },
   "outputs": [],
   "source": [
    "%run \"../../../setup.ipynb\"\n",
    "if CLIENT == None:\n",
    "    print(\"Failed to create CLIENT.\")"
   ]
  },
  {
   "cell_type": "code",
   "execution_count": null,
   "id": "beff4a6c-65d5-4f08-b937-7788010af6e2",
   "metadata": {
    "tags": []
   },
   "outputs": [],
   "source": [
    "class_name = \"Work\"\n",
    "count = CLIENT.query.aggregate(class_name).with_meta_count().do()\n",
    "jprint(count)"
   ]
  },
  {
   "cell_type": "code",
   "execution_count": null,
   "id": "c634d9e1-a93d-40f3-b63a-34304174bb60",
   "metadata": {
    "tags": []
   },
   "outputs": [],
   "source": [
    "jprint(\n",
    "    CLIENT.query\n",
    "        .get(class_name=\"Work\", properties=[])\n",
    "        .with_limit(20)\n",
    "        .with_near_text({\"concepts\": [\"pictures of musicians\"]})\n",
    "        .with_group_by([\"collection\"], groups=10, objects_per_group=2)\n",
    "        .with_additional([\n",
    "            \"\"\"\n",
    "            group {\n",
    "                id\n",
    "                groupedBy {\n",
    "                    value\n",
    "                }\n",
    "                count\n",
    "                hits {\n",
    "                    identifier\n",
    "                    title\n",
    "                    subject\n",
    "                }\n",
    "            }\n",
    "            \"\"\"\n",
    "        ])\n",
    "        .do()\n",
    ")"
   ]
  },
  {
   "cell_type": "code",
   "execution_count": null,
   "id": "cecfb6b8-0493-4c0e-a877-c2d65bfbc08e",
   "metadata": {
    "tags": []
   },
   "outputs": [],
   "source": [
    "work=(\n",
    "    CLIENT.query\n",
    "        .get(class_name=\"Work\", properties=[\"identifier\", \"title\", \"collection\"])\n",
    "        .with_limit(1)\n",
    "        .with_additional([\"vector\"])\n",
    "        .do()\n",
    ")[\"data\"][\"Get\"][\"Work\"][0]\n",
    "vector=work[\"_additional\"][\"vector\"]\n",
    "jprint(work, expanded=False)"
   ]
  },
  {
   "cell_type": "code",
   "execution_count": null,
   "id": "31cf8493-c22a-4310-8178-63d6ba513805",
   "metadata": {
    "tags": []
   },
   "outputs": [],
   "source": [
    "result=(\n",
    "    CLIENT.query\n",
    "        .get(class_name=\"Work\", properties=[\"identifier\", \"title\"])\n",
    "        .with_near_vector({\"vector\": vector})\n",
    "        .with_limit(100)\n",
    "        .do()\n",
    ")\n",
    "jprint(result)"
   ]
  },
  {
   "cell_type": "code",
   "execution_count": null,
   "id": "6f66bb4b-3cf4-441a-9f38-935a9dfece75",
   "metadata": {
    "tags": []
   },
   "outputs": [],
   "source": [
    "result=(\n",
    "    CLIENT.query\n",
    "        .get(class_name=\"Work\", properties=[\"collection\", \"identifier\", \"title\"])\n",
    "        .with_limit(100)\n",
    "        .with_where({\n",
    "            \"path\": [\"collection\"],\n",
    "            \"operator\": \"NotEqual\",\n",
    "            \"valueText\": work[\"collection\"]\n",
    "        })\n",
    "        .with_near_vector({\"vector\": vector})\n",
    "        .do()\n",
    ")\n",
    "jprint(result)"
   ]
  },
  {
   "cell_type": "code",
   "execution_count": null,
   "id": "e666d722-d714-49f3-a807-6638d462463f",
   "metadata": {},
   "outputs": [],
   "source": []
  }
 ],
 "metadata": {
  "kernelspec": {
   "display_name": "weaviate:Python",
   "language": "python",
   "name": "conda-env-weaviate-py"
  },
  "language_info": {
   "codemirror_mode": {
    "name": "ipython",
    "version": 3
   },
   "file_extension": ".py",
   "mimetype": "text/x-python",
   "name": "python",
   "nbconvert_exporter": "python",
   "pygments_lexer": "ipython3",
   "version": "3.9.16"
  }
 },
 "nbformat": 4,
 "nbformat_minor": 5
}
