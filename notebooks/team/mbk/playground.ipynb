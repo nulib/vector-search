{
 "cells": [
  {
   "cell_type": "code",
   "execution_count": 34,
   "id": "0f640b57-9695-4c1d-bdac-3907fc87f9d4",
   "metadata": {
    "tags": []
   },
   "outputs": [
    {
     "name": "stdout",
     "output_type": "stream",
     "text": [
      "Setup Complete. Use CLIENT to access Weaviate.\n"
     ]
    }
   ],
   "source": [
    "%run \"../../../setup.ipynb\"\n",
    "if CLIENT == None:\n",
    "    print(\"Failed to create CLIENT.\")"
   ]
  },
  {
   "cell_type": "code",
   "execution_count": 44,
   "id": "beff4a6c-65d5-4f08-b937-7788010af6e2",
   "metadata": {
    "tags": []
   },
   "outputs": [
    {
     "data": {
      "application/json": {
       "data": {
        "Aggregate": {
         "Work": [
          {
           "meta": {
            "count": 108060
           }
          }
         ]
        }
       }
      },
      "text/plain": [
       "<IPython.core.display.JSON object>"
      ]
     },
     "execution_count": 44,
     "metadata": {
      "application/json": {
       "expanded": true,
       "root": "root"
      }
     },
     "output_type": "execute_result"
    }
   ],
   "source": [
    "import IPython\n",
    "\n",
    "class_name = \"Work\"\n",
    "count = CLIENT.query.aggregate(class_name).with_meta_count().do()\n",
    "IPython.display.JSON(count, expanded=True)"
   ]
  },
  {
   "cell_type": "code",
   "execution_count": 46,
   "id": "c634d9e1-a93d-40f3-b63a-34304174bb60",
   "metadata": {
    "tags": []
   },
   "outputs": [
    {
     "data": {
      "application/json": {
       "data": {
        "Get": {
         "Work": [
          {
           "_additional": {
            "group": {
             "count": 2,
             "groupedBy": {
              "value": "Saskia Art Images (CARLI), Records of Department of Art History"
             },
             "hits": [
              {
               "identifier": "eb76b020-02fa-4c42-a6b5-f8d281e4b7cd",
               "subject": [
                "Painting"
               ],
               "title": "Concert Champetre'. three musicians"
              },
              {
               "identifier": "a55df331-fded-441d-aa86-7986c7e9db9f",
               "subject": [
                "Painting--16th century--Italy",
                "Female nude",
                "Musicians"
               ],
               "title": "Pastoral Concert. Detail: Musicians"
              }
             ],
             "id": 0
            }
           }
          },
          {
           "_additional": {
            "group": {
             "count": 2,
             "groupedBy": {
              "value": "Berkeley Folk Music Festival"
             },
             "hits": [
              {
               "identifier": "122a2a3c-baa1-44fa-b33b-ccb3a16adf1c",
               "subject": [
                "San Francisco (Calif.)",
                "University of California, San Francisco",
                "Seeger, Mike, 1933-2009",
                "Berkeley Folk Music Festival (8th : 1965 : Berkeley, Calif.)",
                "Kathy & Carol (Musical group)",
                "Ritchie, Jean"
               ],
               "title": "Children's folk music concert flier"
              },
              {
               "identifier": "36ff77cc-6b10-4fda-9d9c-873dd565b24d",
               "subject": [
                "University of California, San Francisco",
                "San Francisco (Calif.)",
                "Seeger, Mike, 1933-2009",
                "Berkeley Folk Music Festival (8th : 1965 : Berkeley, Calif.)",
                "Kathy & Carol (Musical group)",
                "Ritchie, Jean"
               ],
               "title": "Children's folk music concert flier"
              }
             ],
             "id": 1
            }
           }
          }
         ]
        }
       }
      },
      "text/plain": [
       "<IPython.core.display.JSON object>"
      ]
     },
     "execution_count": 46,
     "metadata": {
      "application/json": {
       "expanded": true,
       "root": "root"
      }
     },
     "output_type": "execute_result"
    }
   ],
   "source": [
    "IPython.display.JSON(\n",
    "    CLIENT.query\n",
    "        .get(class_name=\"Work\", properties=[])\n",
    "        .with_limit(20)\n",
    "        .with_near_text({\"concepts\": [\"pictures of musicians\"]})\n",
    "        .with_group_by([\"collection\"], groups=10, objects_per_group=2)\n",
    "        .with_additional([\n",
    "            \"\"\"\n",
    "            group {\n",
    "                id\n",
    "                groupedBy {\n",
    "                    value\n",
    "                }\n",
    "                count\n",
    "                hits {\n",
    "                    identifier\n",
    "                    title\n",
    "                    subject\n",
    "                }\n",
    "            }\n",
    "            \"\"\"\n",
    "        ])\n",
    "        .do(), expanded=True\n",
    ")"
   ]
  }
 ],
 "metadata": {
  "kernelspec": {
   "display_name": "weaviate:Python",
   "language": "python",
   "name": "conda-env-weaviate-py"
  },
  "language_info": {
   "codemirror_mode": {
    "name": "ipython",
    "version": 3
   },
   "file_extension": ".py",
   "mimetype": "text/x-python",
   "name": "python",
   "nbconvert_exporter": "python",
   "pygments_lexer": "ipython3",
   "version": "3.9.16"
  }
 },
 "nbformat": 4,
 "nbformat_minor": 5
}
