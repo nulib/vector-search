{
 "cells": [
  {
   "cell_type": "code",
   "execution_count": 5,
   "id": "0f640b57-9695-4c1d-bdac-3907fc87f9d4",
   "metadata": {
    "tags": []
   },
   "outputs": [
    {
     "name": "stdout",
     "output_type": "stream",
     "text": [
      "Setup Complete. Use CLIENT to access Weaviate.\n"
     ]
    }
   ],
   "source": [
    "%run \"../../../setup.ipynb\"\n",
    "if CLIENT == None:\n",
    "    print(\"Failed to create CLIENT.\")"
   ]
  }
 ],
 "metadata": {
  "kernelspec": {
   "display_name": "weaviate:Python",
   "language": "python",
   "name": "conda-env-weaviate-py"
  },
  "language_info": {
   "codemirror_mode": {
    "name": "ipython",
    "version": 3
   },
   "file_extension": ".py",
   "mimetype": "text/x-python",
   "name": "python",
   "nbconvert_exporter": "python",
   "pygments_lexer": "ipython3",
   "version": "3.9.16"
  }
 },
 "nbformat": 4,
 "nbformat_minor": 5
}
