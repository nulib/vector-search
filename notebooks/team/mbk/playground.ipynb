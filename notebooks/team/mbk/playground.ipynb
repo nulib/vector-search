{
 "cells": [
  {
   "cell_type": "code",
   "execution_count": 1,
   "id": "0f640b57-9695-4c1d-bdac-3907fc87f9d4",
   "metadata": {
    "tags": []
   },
   "outputs": [
    {
     "name": "stdout",
     "output_type": "stream",
     "text": [
      "Setup Complete. Use CLIENT to access Weaviate.\n"
     ]
    }
   ],
   "source": [
    "%run \"../../../setup.ipynb\"\n",
    "if CLIENT == None:\n",
    "    print(\"Failed to create CLIENT.\")"
   ]
  },
  {
   "cell_type": "code",
   "execution_count": 2,
   "id": "beff4a6c-65d5-4f08-b937-7788010af6e2",
   "metadata": {
    "tags": []
   },
   "outputs": [
    {
     "data": {
      "application/json": {
       "data": {
        "Aggregate": {
         "Work": [
          {
           "meta": {
            "count": 108109
           }
          }
         ]
        }
       }
      },
      "text/plain": [
       "<IPython.core.display.JSON object>"
      ]
     },
     "execution_count": 2,
     "metadata": {
      "application/json": {
       "expanded": true,
       "root": "root"
      }
     },
     "output_type": "execute_result"
    }
   ],
   "source": [
    "class_name = \"Work\"\n",
    "count = CLIENT.query.aggregate(class_name).with_meta_count().do()\n",
    "jprint(count)"
   ]
  },
  {
   "cell_type": "code",
   "execution_count": 3,
   "id": "c634d9e1-a93d-40f3-b63a-34304174bb60",
   "metadata": {
    "tags": []
   },
   "outputs": [
    {
     "data": {
      "application/json": {
       "data": {
        "Get": {
         "Work": [
          {
           "_additional": {
            "group": {
             "count": 2,
             "groupedBy": {
              "value": "Saskia Art Images (CARLI), Records of Department of Art History"
             },
             "hits": [
              {
               "identifier": "eb76b020-02fa-4c42-a6b5-f8d281e4b7cd",
               "source": null,
               "subject": [
                "Painting"
               ],
               "title": "Concert Champetre'. three musicians"
              },
              {
               "identifier": "a55df331-fded-441d-aa86-7986c7e9db9f",
               "source": null,
               "subject": [
                "Painting--16th century--Italy",
                "Female nude",
                "Musicians"
               ],
               "title": "Pastoral Concert. Detail: Musicians"
              }
             ],
             "id": 0
            }
           }
          },
          {
           "_additional": {
            "group": {
             "count": 2,
             "groupedBy": {
              "value": "Berkeley Folk Music Festival"
             },
             "hits": [
              {
               "identifier": "122a2a3c-baa1-44fa-b33b-ccb3a16adf1c",
               "source": null,
               "subject": [
                "San Francisco (Calif.)",
                "University of California, San Francisco",
                "Seeger, Mike, 1933-2009",
                "Berkeley Folk Music Festival (8th : 1965 : Berkeley, Calif.)",
                "Kathy & Carol (Musical group)",
                "Ritchie, Jean"
               ],
               "title": "Children's folk music concert flier"
              },
              {
               "identifier": "36ff77cc-6b10-4fda-9d9c-873dd565b24d",
               "source": null,
               "subject": [
                "University of California, San Francisco",
                "San Francisco (Calif.)",
                "Seeger, Mike, 1933-2009",
                "Berkeley Folk Music Festival (8th : 1965 : Berkeley, Calif.)",
                "Kathy & Carol (Musical group)",
                "Ritchie, Jean"
               ],
               "title": "Children's folk music concert flier"
              }
             ],
             "id": 1
            }
           }
          }
         ]
        }
       }
      },
      "text/plain": [
       "<IPython.core.display.JSON object>"
      ]
     },
     "execution_count": 3,
     "metadata": {
      "application/json": {
       "expanded": true,
       "root": "root"
      }
     },
     "output_type": "execute_result"
    }
   ],
   "source": [
    "jprint(\n",
    "    CLIENT.query\n",
    "        .get(class_name=\"Work\", properties=[])\n",
    "        .with_limit(20)\n",
    "        .with_near_text({\"concepts\": [\"pictures of musicians\"]})\n",
    "        .with_group_by([\"collection\"], groups=10, objects_per_group=2)\n",
    "        .with_additional([\n",
    "            \"\"\"\n",
    "            group {\n",
    "                id\n",
    "                groupedBy {\n",
    "                    value\n",
    "                }\n",
    "                count\n",
    "                hits {\n",
    "                    identifier\n",
    "                    source\n",
    "                    title\n",
    "                    subject\n",
    "                }\n",
    "            }\n",
    "            \"\"\"\n",
    "        ])\n",
    "        .do()\n",
    ")"
   ]
  },
  {
   "cell_type": "code",
   "execution_count": 3,
   "id": "cecfb6b8-0493-4c0e-a877-c2d65bfbc08e",
   "metadata": {
    "tags": []
   },
   "outputs": [
    {
     "data": {
      "application/json": {
       "_additional": {
        "vector": [
         -0.089500315,
         0.011905319,
         0.10702392,
         -0.022685416,
         -0.08025506,
         0.2252681,
         -0.08702079,
         0.059114322,
         0.036981475,
         0.008036292,
         0.040406756,
         -0.13015032,
         0.07097918,
         -0.23068045,
         -0.07282133,
         -0.05763627,
         -0.011677822,
         0.15542568,
         -0.13339701,
         0.00014568286,
         -0.17073835,
         0.1098834,
         -0.17174233,
         -0.043466527,
         -0.07745169,
         -0.028299168,
         -0.28136352,
         -0.04385545,
         -0.02873214,
         -0.1858157,
         0.13553274,
         0.18806972,
         0.30719882,
         0.19003615,
         0.03312915,
         0.28477585,
         -0.07026005,
         -0.070776984,
         -0.06721197,
         0.30579922,
         -0.25473827,
         -0.04554267,
         -0.1779333,
         -0.10563278,
         -0.19385003,
         -0.19370416,
         -0.093220696,
         0.033988442,
         -0.17412274,
         0.16484007,
         -0.099839784,
         0.14287703,
         -0.1688992,
         -0.096134566,
         -0.17109136,
         -0.23820242,
         -0.06526113,
         0.3659136,
         0.2629152,
         0.045294885,
         -0.0133000575,
         0.041678313,
         -0.5253529,
         -0.03679807,
         0.018493334,
         -0.005952974,
         0.18504485,
         -0.08219618,
         -0.11618978,
         -0.103079975,
         0.17239487,
         0.073830985,
         -0.20642197,
         -0.25579867,
         0.04976005,
         0.10365084,
         -0.22167864,
         -0.105175674,
         -0.24403004,
         -0.3534457,
         -0.17517607,
         -0.24701788,
         0.049938757,
         -0.24385148,
         -0.007010018,
         -0.14742993,
         0.12155912,
         -0.111652456,
         -0.02224619,
         -0.07661917,
         -0.03363936,
         -0.073756285,
         -0.14475451,
         0.046605963,
         -0.016678253,
         0.21482533,
         0.10544702,
         0.05536845,
         0.3275397,
         0.4877065,
         -0.052046325,
         0.12308454,
         -0.037780732,
         0.017241208,
         -0.16949996,
         -0.1990044,
         0.11855137,
         -0.016501127,
         -0.05531777,
         0.083004795,
         0.179386,
         -0.25255695,
         -0.1714741,
         0.21767811,
         0.36055404,
         -0.0183311,
         0.0151212625,
         0.072984025,
         -0.17121977,
         0.061226334,
         -0.057899937,
         0.19543383,
         -0.031857096,
         0.23698287,
         -0.22763416,
         -0.0048667938,
         0.11679257,
         0.16730878,
         -0.026324682,
         -0.15154205,
         -0.0010062061,
         0.039002012,
         -0.0013230415,
         -0.030935287,
         -0.16206403,
         0.25328112,
         -0.054937344,
         0.104148224,
         0.33475503,
         0.10288963,
         -0.029149553,
         -0.01029534,
         -0.20733461,
         -0.03490458,
         0.13212164,
         -0.11503996,
         0.1634037,
         -0.14355972,
         -0.11162049,
         0.17025477,
         0.22466841,
         -0.19829527,
         -0.15948088,
         0.096743144,
         0.05778248,
         -0.10517411,
         0.5927278,
         0.051584013,
         0.04649334,
         0.053418398,
         0.14568098,
         0.09005093,
         0.12486946,
         -0.009766352,
         0.1141978,
         -0.0545429,
         -0.026331464,
         -0.100111626,
         -0.015319246,
         -0.101576135,
         -0.038384292,
         0.033508185,
         -0.013101669,
         0.486568,
         0.11695088,
         -0.100342296,
         0.07312394,
         0.033620656,
         -0.1644339,
         0.14739488,
         0.15356955,
         0.19269374,
         0.10324871,
         0.14687988,
         -0.23112337,
         0.13785744,
         0.07432379,
         -0.010575629,
         0.18854967,
         0.29051232,
         0.21816203,
         0.0047095963,
         0.03315803,
         -0.1377942,
         -0.12136265,
         -0.08003624,
         0.3163598,
         -0.11715814,
         -0.09646451,
         0.11383504,
         -0.29663503,
         0.14254992,
         -0.08661336,
         -0.15915222,
         0.08450454,
         -0.0755126,
         0.058603566,
         0.006576149,
         -0.060139783,
         0.2147843,
         -0.10400223,
         -0.085171156,
         -0.22428097,
         -0.24449211,
         0.1287076,
         0.040978752,
         -0.14813514,
         -0.15839803,
         -0.22224604,
         0.24275309,
         -0.047008768,
         -0.32801312,
         0.021531543,
         -0.23299459,
         0.0702665,
         0.20504673,
         -0.23534262,
         0.017726764,
         -0.044810798,
         0.17053108,
         -0.38969204,
         0.00050491816,
         0.13441868,
         0.04211268,
         0.021067763,
         -0.090359874,
         0.18182708,
         -0.3255825,
         0.12723388,
         -0.36433572,
         -0.06369379,
         0.08197087,
         0.049364854,
         0.10515172,
         -0.25276405,
         -0.010364708,
         -0.36016005,
         0.23074469,
         -0.15102294,
         0.029464595,
         0.07436637,
         -0.15970908,
         -0.16710603,
         0.1713154,
         0.32804158,
         -0.05485317,
         -0.06530842,
         -0.13472131,
         -0.06474832,
         -0.014766272,
         0.27923855,
         -0.086556025,
         -0.10222718,
         0.043145467,
         0.18359432,
         0.03583488,
         0.02916022,
         -0.035547517,
         -0.046323437,
         -0.14858377,
         -0.2531158,
         -0.008147966,
         0.18547174,
         -0.15637308,
         0.06280606,
         -0.02289034,
         0.17833823,
         -0.3507588,
         -0.19665149,
         0.0036700517,
         0.18230285,
         -0.12732768,
         0.33866,
         0.19491588,
         -0.20813319,
         0.12752481,
         -0.19211622,
         -0.24214724,
         -0.08567876,
         0.1012066,
         -0.05372574,
         0.07147889,
         -0.23438568,
         0.18991956,
         0.24017419,
         0.13988991,
         -0.03426459,
         0.09867959,
         -0.20870976,
         0.24035706,
         0.1889488,
         0.27853215,
         0.05082296,
         0.02754155,
         0.051071532,
         0.010643666,
         -0.08847246,
         -0.012843195,
         0.07019496,
         -0.07060766,
         0.35571796,
         -0.08708412,
         -0.07103511,
         0.077468425,
         0.23519701,
         -0.2857166,
         0.2077987,
         0.3221431,
         0.2194786,
         -0.19632836,
         -0.110180244,
         0.10914726,
         -0.13057126,
         0.1775266,
         0.1862777,
         0.17263493,
         -0.0051125647,
         -0.041803516,
         -0.14271353,
         0.19905704,
         -0.05650875,
         -0.08985107,
         -0.27536413,
         0.036417082,
         0.13711302,
         -0.15324858,
         -0.012798259,
         -0.18796602,
         0.04414972,
         -0.024374178,
         0.12310237,
         0.054553226,
         0.28647405,
         -0.48913845,
         -0.3070919,
         -0.10777205,
         0.07380079,
         -0.054695282,
         -0.22118789,
         -0.046775512,
         0.09114889,
         0.16368069,
         -0.094276115,
         -0.15682666,
         0.17416002,
         0.16147967,
         -0.20273797,
         0.048142407,
         -0.08145357,
         0.28784567,
         0.13450941,
         -0.19023606,
         0.055399355,
         0.2142306,
         0.052045688,
         0.021390654,
         -0.04024546,
         0.3426117,
         0.111915916,
         0.1000112,
         -0.20264477,
         -0.02659628,
         0.21513663,
         -0.008484918,
         -0.051713802,
         0.067693576,
         -0.034663007,
         0.36938864,
         -0.07154826,
         0.004383781,
         -0.011040382,
         -0.06519451,
         -0.2591245,
         0.10275644
        ]
       },
       "collection": "Berkeley Folk Music Festival",
       "identifier": "00001390-981a-4ba1-8fcf-e8c6f29bdb04",
       "title": "Letter to Professor Richard Cramer from Barry"
      },
      "text/plain": [
       "<IPython.core.display.JSON object>"
      ]
     },
     "execution_count": 3,
     "metadata": {
      "application/json": {
       "expanded": false,
       "root": "root"
      }
     },
     "output_type": "execute_result"
    }
   ],
   "source": [
    "work=(\n",
    "    CLIENT.query\n",
    "        .get(class_name=\"Work\", properties=[\"identifier\", \"title\", \"collection\"])\n",
    "        .with_limit(1)\n",
    "        .with_additional([\"vector\"])\n",
    "        .do()\n",
    ")[\"data\"][\"Get\"][\"Work\"][0]\n",
    "vector=work[\"_additional\"][\"vector\"]\n",
    "jprint(work, expanded=False)"
   ]
  },
  {
   "cell_type": "code",
   "execution_count": 7,
   "id": "31cf8493-c22a-4310-8178-63d6ba513805",
   "metadata": {
    "tags": []
   },
   "outputs": [
    {
     "data": {
      "application/json": {
       "data": {
        "Get": {
         "Work": [
          {
           "identifier": "00001390-981a-4ba1-8fcf-e8c6f29bdb04",
           "title": "Letter to Professor Richard Cramer from Barry"
          },
          {
           "identifier": "991b8aac-0688-4726-a33b-b814f29bf3ee",
           "title": "Letter to Sam and Leslie Hinton from Barry Olivier"
          },
          {
           "identifier": "65147ac5-99e7-428d-8214-f72af3206b32",
           "title": "Letter from Barry Olivier to John Mitchell"
          },
          {
           "identifier": "bc6d8ef4-9247-4063-91a7-3281a7a03afa",
           "title": "Letter from Barry Olivier to John Langstaff"
          },
          {
           "identifier": "65f0e228-57ff-42e5-912d-7c1857754993",
           "title": "Letter from Barry Olivier to Brownie McGhee"
          },
          {
           "identifier": "64755807-f9ee-4ae4-969f-db1ee133b740",
           "title": "Letter to Sam and all from Barry"
          },
          {
           "identifier": "a2741270-f8d2-4977-bf3a-ca890bbf36d6",
           "title": "Letter from Barry Olivier to Fred McDowell"
          },
          {
           "identifier": "480d0d67-33dc-4511-9eb0-35d6355a3d72",
           "title": "Letter from Barry Oliver to Dr. Hector Lee"
          },
          {
           "identifier": "e17fba50-749a-4284-bf33-5ec21a6361b3",
           "title": "Letter to Sam from Barry"
          },
          {
           "identifier": "30258958-98a6-4cad-ad59-d71f9d96cd91",
           "title": "Letter to Barry and Helen from Leslie"
          },
          {
           "identifier": "cacb4ac4-e1ad-4a07-8896-d560d705321b",
           "title": "Letter to Sam from Barry"
          },
          {
           "identifier": "2b205906-dac1-4b5b-8636-305216c6fad9",
           "title": "Letter from Jean Ritchie to Barry Olivier"
          },
          {
           "identifier": "26c8a2f1-1857-4f87-8975-13c07be35734",
           "title": "Letter to Sam from Barry"
          },
          {
           "identifier": "060ea366-7fe8-4046-97bb-8afdf4337588",
           "title": "Letter to Sam from Barry"
          },
          {
           "identifier": "84935f0b-016a-4168-baf9-0ca56bfe0344",
           "title": "Letter from Jean Ritchie to Barry Olivier"
          },
          {
           "identifier": "ff396965-152a-4188-87ca-7d9840332d0a",
           "title": "Letter from Josh Dunson to Barry Olivier"
          },
          {
           "identifier": "a9ac4020-0795-4470-91ae-7d07c973196a",
           "title": "Letter from Jean Ritchie to Barry Olivier"
          },
          {
           "identifier": "63f94551-1b1a-42c3-8de1-6b736bee9a47",
           "title": "Letter from Jean Ritchie to Barry Olivier"
          },
          {
           "identifier": "e0e6dcba-f193-4715-a4a1-a2250138a3bf",
           "title": "Letter from Barry Olivier to Jean Ritchie"
          },
          {
           "identifier": "498f6e82-e0dc-4ee4-ae61-55fd460aa4fa",
           "title": "Letter to Sam from Barry"
          },
          {
           "identifier": "74ceca89-b63c-45a9-8655-42e21d8efefc",
           "title": "Letter from Barry Olivier to John Hassler"
          },
          {
           "identifier": "7288ace5-1ff9-486f-a599-b9e42316c19f",
           "title": "Letter from Barry Olivier to Mark Levine"
          },
          {
           "identifier": "6bf7cfe6-9106-45f4-8d09-75d916774dfa",
           "title": "Letter from Barry Olivier to Charles Seeger"
          },
          {
           "identifier": "dda5a2d5-415e-4df6-b426-3cb283905722",
           "title": "Letter from Barry Olivier to Charles Seeger"
          },
          {
           "identifier": "46276519-3bbd-4b56-8f8c-86c95970ebb5",
           "title": "Letter from Barry Olivier to Judith Seeger"
          },
          {
           "identifier": "068c49f0-c992-4663-bc58-71051e37e1cd",
           "title": "Letter from Barry Olivier to Charles Seeger"
          },
          {
           "identifier": "0a04bff6-cd96-4dc0-89e5-e6b522aba1c6",
           "title": "Letter from Barry Olivier to John Langstaff"
          },
          {
           "identifier": "e278cd9a-feae-4e13-b4c7-f90a50d01d68",
           "title": "Letter to Sam from Barry"
          },
          {
           "identifier": "eb8a76ab-ed67-42f5-97dc-01dfb733a0fd",
           "title": "Letter from Barry Olivier to Jean Ritchie"
          },
          {
           "identifier": "d47b77f9-ed69-486a-90de-1c7c14b182b4",
           "title": "Letter from Barry Olivier to John Langstaff"
          },
          {
           "identifier": "048a5451-66b9-4d5a-a698-9d525b630bc9",
           "title": "Letter from Barry Olivier to Charles Seeger"
          },
          {
           "identifier": "c4cbe290-f529-471f-b38f-887367e07172",
           "title": "Letter to Sam from Barry"
          },
          {
           "identifier": "f8458a6b-363d-49d0-80f2-63d4a3da6745",
           "title": "Letter to Sam from Barry"
          },
          {
           "identifier": "11bb8edd-90d2-4fce-9856-0c5c37aea6ea",
           "title": "Letter from Barry Olivier to Mark Levine"
          },
          {
           "identifier": "bc9b1a16-c801-45b3-a1ea-bd199563cddf",
           "title": "Letter from Barry Olivier to Charles Seeger"
          },
          {
           "identifier": "f8290457-ef1e-418f-83f2-476f762d950a",
           "title": "Letter from Barry Olivier to Jean Ritchie"
          },
          {
           "identifier": "ae2cdb61-1cf3-464c-a2b9-e0f99f168d07",
           "title": "Letter from Barry Olivier to Charles Seeger"
          },
          {
           "identifier": "aacbbe91-1684-4792-986f-59d2add35c07",
           "title": "Letter from Barry Olivier to Fred McDowell"
          },
          {
           "identifier": "761defdf-e053-467c-836e-4613fc6bfd63",
           "title": "Letter to Sam from Barry"
          },
          {
           "identifier": "02eab9db-1f30-4c3c-851c-b9ade0665d62",
           "title": "Letter from Barry Olivier to Manny Solomon"
          },
          {
           "identifier": "e07b22d6-1cd8-4e0f-b0dc-d8a86515df0a",
           "title": "Letter from Barry Olivier to Jean Ritchie"
          },
          {
           "identifier": "91f59639-9e3c-48e8-80d4-f113938ad616",
           "title": "Letter to Sam from Barry"
          },
          {
           "identifier": "ca335999-3f43-40cb-9315-6894fa0fa4a6",
           "title": "Letter from Barry Olivier to Mark Levine"
          },
          {
           "identifier": "dc64f076-ca4c-46be-a4af-08d4d5f61256",
           "title": "Letter from Barry Olivier to Jean Ritchie"
          },
          {
           "identifier": "48a3985b-e479-4424-a8e4-15d91e9c7b48",
           "title": "Letter to Sam from Barry"
          },
          {
           "identifier": "f4cc239c-eb8d-4f04-beb1-e8d43d0c81dd",
           "title": "Letter from Barry Olivier to Fred McDowell"
          },
          {
           "identifier": "a4b01028-4714-49c4-85cd-cb66b5476777",
           "title": "Letter from Mike Seeger to Barry Olivier"
          },
          {
           "identifier": "8f099307-4740-4fdc-94e8-7e19484a5ec0",
           "title": "Letter from Barry Olivier to Charles Seeger"
          },
          {
           "identifier": "0f5d5c16-ada4-40ff-b127-b682ca9f45d3",
           "title": "Letter from Barry Olivier to Charles Seeger"
          },
          {
           "identifier": "d2320b4e-c615-4d9a-8c56-2a01128eae7e",
           "title": "Letter to Sam from Barry"
          },
          {
           "identifier": "a4d43f94-bd44-49ed-bb58-21eb10a886cd",
           "title": "Letter from Barry Olivier to Renee LeBallister"
          },
          {
           "identifier": "fd021419-3d3a-49a9-a821-cd15cab6fe6c",
           "title": "Letter to Barry and Helen from Leslie Hinton"
          },
          {
           "identifier": "080fcf20-d539-46ae-b36f-a0480c3deef5",
           "title": "Letter to Sam from Barry"
          },
          {
           "identifier": "65db637e-0242-4d19-9032-da3627772529",
           "title": "Letter from Barry Olivier to Jean Ritchie"
          },
          {
           "identifier": "68b429c5-ce0f-44c1-a657-dd49e91dd662",
           "title": "Letter from Barry Olivier to Robert Shelton"
          },
          {
           "identifier": "5de2a2f6-f901-4812-86fa-357c89f608f5",
           "title": "Letter from Barry Olivier to Charles Seeger"
          },
          {
           "identifier": "3f8b286b-e346-4ec5-9f8a-d8db7bbf1f1d",
           "title": "Letter to Sam from Barry"
          },
          {
           "identifier": "19416596-99df-4218-b47a-c213c18e76a0",
           "title": "Letter from Barry Olivier to Jean Ritchie"
          },
          {
           "identifier": "12ddc73f-e1e9-4f24-b62f-9ffc9a0c9d0c",
           "title": "Letter to Barry from Leslie"
          },
          {
           "identifier": "234cba05-01bf-4a7b-b917-223058e8d067",
           "title": "Letter from Barry Olivier to John Lomax Jr."
          },
          {
           "identifier": "1dbc8936-2535-43f2-97f4-3e6d1ea3407e",
           "title": "Letter to Sam from Barry"
          },
          {
           "identifier": "0e881130-3a00-48c0-a7b4-93525758c909",
           "title": "Letter to Sam from Barry"
          },
          {
           "identifier": "0318a6df-eff0-4803-8912-3749931ade24",
           "title": "Letter from Barry Olivier to Jean Ritchie"
          },
          {
           "identifier": "04f00c69-3a3d-45c5-81e8-f98ea02c0dfd",
           "title": "Letter from Barry Olivier to Charles Seeger"
          },
          {
           "identifier": "127b3448-4b8b-4743-9b6c-b4cddcaef7b7",
           "title": "Letter to Barry and Helen from Leslie"
          },
          {
           "identifier": "f2e674fb-5a00-4d1e-ba63-0e4dfdf59d12",
           "title": "Letter from Barry Olivier to Mike Seeger"
          },
          {
           "identifier": "971e7d25-82f2-430d-bc03-6f7be132d601",
           "title": "Letter from Barry Olivier to Charles Seeger"
          },
          {
           "identifier": "b967eac4-b7be-449d-955c-0ce08a7b1b40",
           "title": "Letter from Barry Olivier to Jean Ritchie"
          },
          {
           "identifier": "9c0a3370-8d9f-42ac-9c77-7f1b3624acad",
           "title": "Letter from Barry Olivier to Juanita Montrond"
          },
          {
           "identifier": "ea62438e-30a5-4f84-bf14-b193b731c08b",
           "title": "Letter from Barry Olivier to Mark Levine"
          },
          {
           "identifier": "00c5767d-048a-47f5-aa42-04fad799ad33",
           "title": "Letter from Mark Levine to Barry Olivier"
          },
          {
           "identifier": "83fe14bd-0c90-4a91-be0a-5d0f565ec6cc",
           "title": "Letter from Barry Olivier to Charley Marshall"
          },
          {
           "identifier": "54598b71-26fb-4f27-b503-eb9ee55d1806",
           "title": "Letter from Mark Levine to Barry Olivier"
          },
          {
           "identifier": "46f62e83-7206-48c3-9fc0-6cfd2c30d331",
           "title": "Letter from Charley Marshall to Barry Olivier"
          },
          {
           "identifier": "f658d3b1-c9f8-45ce-b8eb-1c5e9f4a4f87",
           "title": "Letter from Barry Olivier to Jean Ritchie"
          },
          {
           "identifier": "84d5de36-af2b-401c-88e7-f9ec4f59d050",
           "title": "Letter from Barry Olivier to Charles Seeger"
          },
          {
           "identifier": "ec15bb62-333a-4c8d-988c-25585c8d007d",
           "title": "Letter from Barry Olivier to Charles Seeger"
          },
          {
           "identifier": "351885e9-ee43-4b6d-bfa1-1c660e7fc5cf",
           "title": "Letter from Barry Olivier to Mark Levine"
          },
          {
           "identifier": "6c0c988e-2ef0-4ac3-9e0e-22495ef7b3b3",
           "title": "Letter from Barry Olivier to Tom Paxton"
          },
          {
           "identifier": "ce6cdf1f-f071-40a7-a0ee-427e3f19a69d",
           "title": "Letter from Barry Olivier to John Langstaff"
          },
          {
           "identifier": "5380dcda-6ac3-4dc5-a3de-51cc2b0ce59a",
           "title": "Letter from Barry Olivier to Jean Ritchie"
          },
          {
           "identifier": "0144edfd-d1d4-4184-a9ad-ac14f19d5139",
           "title": "Letter from Barry Olivier to Mark Levine"
          },
          {
           "identifier": "4a5075e4-a766-4321-8244-0f5a1e0f1262",
           "title": "Letter from Leanne Hinton"
          },
          {
           "identifier": "9252c517-e558-4139-9478-37c5d5070f21",
           "title": "Letter from Barry Olivier to Jean Ritchie"
          },
          {
           "identifier": "c00fdf7b-3871-4c64-bb4f-4b7dba9675a8",
           "title": "Letter from Barry Olivier to Frank Warner"
          },
          {
           "identifier": "896ab7e9-5c84-45ab-95f2-1bd702f5c1df",
           "title": "Letter from Barry Olivier to Charles Seeger"
          },
          {
           "identifier": "0dca8a62-7388-4ac9-afcd-ffb6f11ba992",
           "title": "Letter from Barry Olivier to Charley Marshall"
          },
          {
           "identifier": "74872088-8d41-4980-8f40-69411ef4c3d1",
           "title": "Letter from Barry Olivier to Jean Ritchie"
          },
          {
           "identifier": "1241d85a-cb5f-4d78-bdd2-ec9296c63f7f",
           "title": "Letter from Barry Olivier to Charles Seeger"
          },
          {
           "identifier": "34c1d0b5-0ccf-4dea-8c8c-effea767e8f5",
           "title": "Letter from Barry Olivier to Frank Warner"
          },
          {
           "identifier": "127cf19d-659c-4c79-8bf1-964f47723211",
           "title": "Letter from Mark Levine to Barry Olivier"
          },
          {
           "identifier": "3bdc5dcf-4fab-4ad6-8ce1-c6e39630b6ee",
           "title": "Letter from Barry Olivier to Charles Seeger"
          },
          {
           "identifier": "f73c5670-b91a-4ff5-adf1-359b2f00640e",
           "title": "Letter from Barry Olivier to Charley Marshall"
          },
          {
           "identifier": "c0df9320-4236-45aa-a9b9-190a5cb8df2f",
           "title": "Letter from Barry Olivier to Mark Levine"
          },
          {
           "identifier": "a05a9dfd-9de0-4044-9e9b-c79cb9254b1a",
           "title": "Letter from Jean Ritchie to Barry Olivier"
          },
          {
           "identifier": "4dd27814-0350-438f-a2cb-b3eab47b06bd",
           "title": "Letter from Barry Olivier to Charles Seeger"
          },
          {
           "identifier": "4d3dc0fb-a30d-41ee-b5ff-7ec380480f88",
           "title": "Letter from Barry Olivier to Charles Seeger"
          },
          {
           "identifier": "a5c5492b-2457-4a7a-8882-95e3c47b0ef5",
           "title": "Letter from Barry Olivier to Charley Marshall"
          },
          {
           "identifier": "d825c86a-c06f-4489-9d79-551cb3e220b0",
           "title": "Letter from Barry Olivier to David Meltzer"
          },
          {
           "identifier": "67045e9a-b044-430e-b9dd-07cd2a99cdcf",
           "title": "Letter from Barry Olivier to Mark Levine"
          }
         ]
        }
       }
      },
      "text/plain": [
       "<IPython.core.display.JSON object>"
      ]
     },
     "execution_count": 7,
     "metadata": {
      "application/json": {
       "expanded": true,
       "root": "root"
      }
     },
     "output_type": "execute_result"
    }
   ],
   "source": [
    "result=(\n",
    "    CLIENT.query\n",
    "        .get(class_name=\"Work\", properties=[\"identifier\", \"title\"])\n",
    "        .with_near_vector({\"vector\": vector})\n",
    "        .with_limit(100)\n",
    "        .do()\n",
    ")\n",
    "jprint(result)"
   ]
  },
  {
   "cell_type": "code",
   "execution_count": 13,
   "id": "6f66bb4b-3cf4-441a-9f38-935a9dfece75",
   "metadata": {
    "tags": []
   },
   "outputs": [
    {
     "data": {
      "application/json": {
       "data": {
        "Get": {
         "Work": [
          {
           "collection": "Elizabeth Augusta Wrightson Collection of Annotated Bel Canto Vocal Music",
           "identifier": "d6a6def9-9d22-445e-adf5-ba664f7ee9ed",
           "title": "Original boards from binding"
          },
          {
           "collection": "Chicago Chamber Musicians Archive, 1989-2010",
           "identifier": "ee546f03-97a1-44e9-b491-3934f185accf",
           "title": "Scottish Folk Song Settings"
          },
          {
           "collection": "Robert Marcellus Master Class Audio Archives",
           "identifier": "c81a6a67-51db-4a26-acc7-c7b67a1ae9cb",
           "title": "Clarinet Master Class 1982-07-02"
          },
          {
           "collection": "Aldridge Collection",
           "identifier": "992c923c-481d-4de0-9bab-669b3999a427",
           "title": "Luranah, sheet music"
          },
          {
           "collection": "Robert Marcellus Master Class Audio Archives",
           "identifier": "63e653c6-67e8-4e8c-8e1d-50622e2afce9",
           "title": "Clarinet Master Class 1983-07-01"
          },
          {
           "collection": "Chicago Chamber Musicians Archive, 1989-2010",
           "identifier": "c94273fe-e077-466e-93b3-d579c7989aed",
           "title": "North and South (Six Poems of Elizabeth Bishop)"
          },
          {
           "collection": "Chicago Chamber Musicians Archive, 1989-2010",
           "identifier": "5f679fcb-1551-42a4-aea3-825bc9bdedcb",
           "title": "North and South (Six Poems of Elizabeth Bishop)"
          },
          {
           "collection": "Northwestern University School of Music Concert Recordings",
           "identifier": "9dbda6b2-8d4f-414b-b42c-45fa9f8d4935",
           "title": "Newberry consort concert, 16 March 2003, 3:00 p.m."
          },
          {
           "collection": "Aldridge Collection",
           "identifier": "604ddd25-97c8-4841-866d-76d9d10ad76a",
           "title": "Composition list (4 copies); programs for Antar of Araby and Chappell Ballad Concerts"
          },
          {
           "collection": "Robert Marcellus Master Class Audio Archives",
           "identifier": "16c8f210-5f8f-4c20-9ff1-a70c0f3d9874",
           "title": "Clarinet Master Class 1979-06-27"
          },
          {
           "collection": "Chicago Chamber Musicians Archive, 1989-2010",
           "identifier": "8fc8393c-96fa-4847-be9f-8d7c15074fb0",
           "title": "Canzon in double echo a12 from Sacrae Symphoniae"
          },
          {
           "collection": "Aldridge Collection",
           "identifier": "0f23b566-a6bb-4375-9312-ea3fb7081bbc",
           "title": "Compositions by Montague Ring"
          },
          {
           "collection": "Aldridge Collection",
           "identifier": "45cc432d-6a25-4e7c-a2e9-df6079402181",
           "title": "Mirette Serenade"
          },
          {
           "collection": "Northwestern University School of Music Concert Recordings",
           "identifier": "801e6bc7-4cca-486d-b543-e92357a33f03",
           "title": "Buona figliuola concert, 18 November 2006, 7:30 p.m.."
          },
          {
           "collection": "Chicago Chamber Musicians Archive, 1989-2010",
           "identifier": "e7d5d4b8-e444-4ff6-8601-9970b682e3e1",
           "title": "Yerusha (Legacy)"
          },
          {
           "collection": "Aldridge Collection",
           "identifier": "6675780d-4c64-4653-a993-0ba1e8c8670b",
           "title": "Luranah Aldridge material: Programs for vocal recitals: \"Theater Royal Covent Garden, Promenade Concerts\""
          },
          {
           "collection": "Aldridge Collection",
           "identifier": "933bdc85-4b06-4a5f-acdc-1a09d6f2b052",
           "title": "Program Miss Luranah Aldridge's Vocal Recital, 1912"
          },
          {
           "collection": "Chicago Chamber Musicians Archive, 1989-2010",
           "identifier": "5ccd79d1-3f66-4c65-80eb-0d19505d5a49",
           "title": "Horn Calls for Two Horns"
          },
          {
           "collection": "Aldridge Collection",
           "identifier": "ad521b08-02c6-4c25-bb4b-9de7cdb7e5e5",
           "title": "Program Miss Luranah Aldridge's Vocal Recital, 1911"
          },
          {
           "collection": "Chicago Chamber Musicians Archive, 1989-2010",
           "identifier": "b3d16f92-80c2-47b8-a310-7930e00c7e37",
           "title": "Sonata Pian e Forte from Sacrae Symphoniae"
          },
          {
           "collection": "Chicago Chamber Musicians Archive, 1989-2010",
           "identifier": "18ae4b25-7bfc-4342-9525-437df437383a",
           "title": "Chansons Populaires Francaises"
          },
          {
           "collection": "Chicago Chamber Musicians Archive, 1989-2010",
           "identifier": "00e0621e-690c-4e84-b311-ca5d69795d3e",
           "title": "Canzon in double echo a12 from Sacrae Symphoniae"
          },
          {
           "collection": "Robert Marcellus Master Class Audio Archives",
           "identifier": "a3ae15fa-b4d2-4984-9b2f-880d54cd71c7",
           "title": "Clarinet Master Class 1982-06-29"
          },
          {
           "collection": "Aldridge Collection",
           "identifier": "cc779bb9-544f-4ab4-aae6-8bfd6b1822ba",
           "title": "Montague Ring (Amanda Aldridge's pseudonym) piano-vocal scores, programs"
          },
          {
           "collection": "Robert Marcellus Master Class Audio Archives",
           "identifier": "f70075d3-4c4d-49ac-89c7-b028885f06f9",
           "title": "Clarinet Master Class 1984-06-29"
          },
          {
           "collection": "Jim Roberts Photographs",
           "identifier": "407fa680-da85-4f07-948e-ca034d30f2df",
           "title": "Violinist Itzak Perlman at the Aspen Music Festival"
          },
          {
           "collection": "Chicago Chamber Musicians Archive, 1989-2010",
           "identifier": "7a5616df-45cc-4dc6-82b1-28d82e372dbe",
           "title": "North and South (Six Poems of Elizabeth Bishop)"
          },
          {
           "collection": "Robert Marcellus Master Class Audio Archives",
           "identifier": "bee4d306-f857-4ce8-bccb-a5ebbbe4b019",
           "title": "Clarinet Master Class 1983-06-29"
          },
          {
           "collection": "Aldridge Collection",
           "identifier": "f749ae9d-e8df-4c0e-81f0-6a8cb3f0693e",
           "title": "Summah Is De Lovin' Time"
          },
          {
           "collection": "Aldridge Collection",
           "identifier": "b5664e96-37a8-4232-a746-da4444e31fca",
           "title": "The Bride"
          },
          {
           "collection": "Musical Scores",
           "identifier": "655fea4e-4259-424c-bb1e-156e91a94f7f",
           "title": "Narození páně : na slova lidové poesie"
          },
          {
           "collection": "Chicago Chamber Musicians Archive, 1989-2010",
           "identifier": "02cc1a72-fdbc-4f9a-8429-15ec4c2f7ba5",
           "title": "L'Histoire du Soldat (The Soldier's Tale)"
          },
          {
           "collection": "Chicago Chamber Musicians Archive, 1989-2010",
           "identifier": "aa7c1709-1b66-4833-b6bc-32034f5f628c",
           "title": "Sonata Pian' e Forte"
          },
          {
           "collection": "Musical Scores",
           "identifier": "93738ffe-d44a-4351-96bf-bfa01ef03ec6",
           "title": "Concertos, piano, orchestra, no. 4"
          },
          {
           "collection": "Chicago Chamber Musicians Archive, 1989-2010",
           "identifier": "fd18b263-e442-4a1d-a4d6-481019c8a62b",
           "title": "Old Hungarian Ballroom Dances for flute, clarinet and strings"
          },
          {
           "collection": "Chicago Chamber Musicians Archive, 1989-2010",
           "identifier": "b7d0ee54-faa7-4755-9dac-efa9c064d077",
           "title": "Ancient Cabaret Art songs, That Is, Songs about Art for mezzo-soprano, piano"
          },
          {
           "collection": "Robert Marcellus Master Class Audio Archives",
           "identifier": "102dcb92-9554-4ff5-86fe-6264a04770f8",
           "title": "Clarinet Master Class 1977-06-29"
          },
          {
           "collection": "Chicago Chamber Musicians Archive, 1989-2010",
           "identifier": "5d5d7128-4d73-4350-a85f-10f3b2bb124e",
           "title": "Wind Serenade in E-Flat, K. 375"
          },
          {
           "collection": "Chicago Chamber Musicians Archive, 1989-2010",
           "identifier": "fdf0f8aa-cc1c-4fd9-8176-de437edbf6eb",
           "title": "Sonata Pian e Forte from Sacrae Symphoniae"
          },
          {
           "collection": "Chicago Chamber Musicians Archive, 1989-2010",
           "identifier": "8c3c64a6-e5c6-4b27-92f8-46a85f950053",
           "title": "Sonata Pian' e Forte"
          },
          {
           "collection": "Aldridge Collection",
           "identifier": "8797dba2-7d22-44b6-be78-e945efec02e0",
           "title": "Schumann, Album of Songs"
          },
          {
           "collection": "Aldridge Collection",
           "identifier": "61ea4ad4-615c-4311-9285-f845a559d943",
           "title": "Blue Days of June"
          },
          {
           "collection": "Chicago Chamber Musicians Archive, 1989-2010",
           "identifier": "1ac8655f-7030-4cc6-9682-58b75c070ea9",
           "title": "Second Little Serious Piece"
          },
          {
           "collection": "Chicago Chamber Musicians Archive, 1989-2010",
           "identifier": "f0600c51-8d3e-4085-84ad-d46a5ce7a276",
           "title": "Critical Moments"
          },
          {
           "collection": "Chicago Chamber Musicians Archive, 1989-2010",
           "identifier": "e81ba3fe-b297-4b3e-8b63-c8d457e79351",
           "title": "Pieces for Brass Quintet"
          },
          {
           "collection": "Jim Roberts Photographs",
           "identifier": "edaab67d-67ad-4c07-9ad3-9d46c122e29b",
           "title": "Violinist Itzak Perlman at the Aspen Music Festival"
          },
          {
           "collection": "Chicago Chamber Musicians Archive, 1989-2010",
           "identifier": "9222cb0d-923d-4425-ba6d-7fa8233e3159",
           "title": "Scottish Folk Song Settings"
          },
          {
           "collection": "Jim Roberts Photographs",
           "identifier": "c6148551-92cc-41ca-85b8-bfc97b76cbff",
           "title": "Violinist Itzak Perlman at the Aspen Music Festival"
          },
          {
           "collection": "Chicago Chamber Musicians Archive, 1989-2010",
           "identifier": "8b6c7a84-1c19-4133-a20e-e32d16cbf03b",
           "title": "Colchester Fantasy for brass quintet"
          },
          {
           "collection": "Chicago Chamber Musicians Archive, 1989-2010",
           "identifier": "fa7427aa-6eda-4325-b56b-61920dbab181",
           "title": "Scherzi Musicali for brass quartet"
          },
          {
           "collection": "Chicago Chamber Musicians Archive, 1989-2010",
           "identifier": "c0766a84-e709-48c3-a9b7-1f0871e5f1f9",
           "title": "Il Convegno (The Get Together) Divertimento for two clarinets and strings"
          },
          {
           "collection": "Chicago Chamber Musicians Archive, 1989-2010",
           "identifier": "7cad40e4-2b4e-4a8d-b999-45ee6dd516f8",
           "title": "Street Song"
          },
          {
           "collection": "Chicago Chamber Musicians Archive, 1989-2010",
           "identifier": "51b275de-d97b-4a66-aa91-19eef22f28b0",
           "title": "L'Histoire du Soldat (The Soldier's Tale)"
          },
          {
           "collection": "Aldridge Collection",
           "identifier": "eaa960cf-5b4e-4e32-8c42-8d7df643dfbd",
           "title": "Program Miss Luranah Aldridge's Vocal Recital, 1913"
          },
          {
           "collection": "Chicago Chamber Musicians Archive, 1989-2010",
           "identifier": "72660bfd-24a5-4cda-a70c-423ac85157d4",
           "title": "Concerto in C Major for two flutes, two horns, and strings"
          },
          {
           "collection": "Chicago Chamber Musicians Archive, 1989-2010",
           "identifier": "0083c3c5-5355-41e0-a4b4-2e0364e45bd0",
           "title": "Il Convegno (The Get Together) Divertimento for two clarinets and strings"
          },
          {
           "collection": "Aldridge Collection",
           "identifier": "064e0222-699a-4355-a3a5-6ccd97247df4",
           "title": "Chappell Ballad Concerts, 1910-11"
          },
          {
           "collection": "Aldridge Collection",
           "identifier": "b497829c-55b8-4be5-a58c-5c8c065ab402",
           "title": "Program, Luranah Aldridge, vocal recital"
          },
          {
           "collection": "Aldridge Collection",
           "identifier": "3dd04d30-0a66-4558-b843-72169f3c217e",
           "title": "Luranah Aldridge material: Programs for vocal recitals: \"Paris Dieppe\""
          },
          {
           "collection": "Northwestern University School of Music Concert Recordings",
           "identifier": "20b611a6-0716-4d3f-942e-48b992d6e831",
           "title": "Faculty recital, 8 March 2009, 7:30 p.m."
          },
          {
           "collection": "Aldridge Collection",
           "identifier": "3761dd03-a8b0-4fc7-89ec-7515d4951073",
           "title": "Compositions by Montague Ring"
          },
          {
           "collection": "Chicago Chamber Musicians Archive, 1989-2010",
           "identifier": "39b53386-6a67-401d-83de-2a95837cd606",
           "title": "A Fantasy about Purcell's Fantasia Upon One Note"
          },
          {
           "collection": "Aldridge Collection",
           "identifier": "63b7e453-f382-4db9-9d77-bcf06513feb9",
           "title": "Performance place-list"
          },
          {
           "collection": "Chicago Chamber Musicians Archive, 1989-2010",
           "identifier": "5fecc1bf-de6d-4aeb-9623-37aa7ce50801",
           "title": "Concerto for Brass Quintet"
          },
          {
           "collection": "Chicago Chamber Musicians Archive, 1989-2010",
           "identifier": "905d71d7-3f27-4b95-ac37-815ccd304b39",
           "title": "Concerto for Two Trumpets, Strings, and Continuo, RV537, RV 537"
          },
          {
           "collection": "Jim Roberts Photographs",
           "identifier": "74c08a01-9d74-45ab-928d-4cb35585da0e",
           "title": "Violinist Itzak Perlman at the Aspen Music Festival"
          },
          {
           "collection": "Aldridge Collection",
           "identifier": "afde247c-9cac-483e-b13f-0e840c3ab9f4",
           "title": "Carl Henschel, \"Lullaby\", holograph mss., signed by \"Ira [Amanda] Aldridge\""
          },
          {
           "collection": "Chicago Chamber Musicians Archive, 1989-2010",
           "identifier": "1fda5d2f-c99a-4e69-a626-77d74a30a3b1",
           "title": "Partita for oboe, bassoon and piano"
          },
          {
           "collection": "Chicago Chamber Musicians Archive, 1989-2010",
           "identifier": "f64ebaf2-ca84-49f2-8680-f6d4c68c4d16",
           "title": "Fanfare for brass quintet"
          },
          {
           "collection": "Chicago Chamber Musicians Archive, 1989-2010",
           "identifier": "53db2c18-7c32-40b0-83ef-5635ff819ab4",
           "title": "Introduction and Variations on the Theme of Vysehrad, Op. 71 by Friedrich Smetana for harp and brass quintet"
          },
          {
           "collection": "Jim Roberts Photographs",
           "identifier": "c3856959-1a3e-4f0b-86f5-3895261a2182",
           "title": "Violinist Itzak Perlman at the Aspen Music Festival"
          },
          {
           "collection": "Otto Graham Collection",
           "identifier": "d899a724-ba07-49f9-9d43-de871f4e6a21",
           "title": "Otto Graham Banquet"
          },
          {
           "collection": "Chicago Chamber Musicians Archive, 1989-2010",
           "identifier": "eae6f547-b5b7-4a65-bead-d76893176987",
           "title": "Divertimento in D Major, K. 251"
          },
          {
           "collection": "Aldridge Collection",
           "identifier": "c2c7692c-ef46-4250-bc3c-c55812816748",
           "title": "At Cupid's Ball (incomplete score)"
          },
          {
           "collection": "Chicago Chamber Musicians Archive, 1989-2010",
           "identifier": "c5168ebb-07eb-4b3a-b0fc-05584913d495",
           "title": "Sextet from Capriccio for strings"
          },
          {
           "collection": "Chicago Chamber Musicians Archive, 1989-2010",
           "identifier": "1c1bb491-3f99-4448-ac33-ba9bb3b73329",
           "title": "Three Fantasies for Strings"
          },
          {
           "collection": "Chicago Chamber Musicians Archive, 1989-2010",
           "identifier": "e71a57e3-3f27-4ba4-b0cb-f138b876d51c",
           "title": "Septet for woodwind and brass instruments"
          },
          {
           "collection": "Jim Roberts Photographs",
           "identifier": "2c9339c6-3172-4ffc-8900-0a24ab073f5d",
           "title": "Violinist Itzak Perlman at the Aspen Music Festival"
          },
          {
           "collection": "Aldridge Collection",
           "identifier": "d390e43f-25ca-427c-811e-c264f69f44a0",
           "title": "The Musical Times, May 1, 1908"
          },
          {
           "collection": "Chicago Chamber Musicians Archive, 1989-2010",
           "identifier": "bd3bb8d3-555d-4b66-bcce-5e9faa433941",
           "title": "Divertimento in D Major, K. 251"
          },
          {
           "collection": "Aldridge Collection",
           "identifier": "f7a55aa2-ba5b-42d6-bbd2-613eb3dd2f09",
           "title": "Miss Ira Aldridge's vocal recital, 1898"
          },
          {
           "collection": "Chicago Chamber Musicians Archive, 1989-2010",
           "identifier": "be1c24ce-d049-40be-b833-d3e52bf8ca43",
           "title": "Petite Symphonie in B-flat Major for nine winds"
          },
          {
           "collection": "Chicago Chamber Musicians Archive, 1989-2010",
           "identifier": "9e02da97-2f73-46a0-9182-30878486778c",
           "title": "Four Little Pieces"
          },
          {
           "collection": "Chicago Chamber Musicians Archive, 1989-2010",
           "identifier": "a2a84d28-e028-471c-b985-3b9a656ba44b",
           "title": "Chansons Populaires Francaises"
          },
          {
           "collection": "Chicago Chamber Musicians Archive, 1989-2010",
           "identifier": "9e76c44a-31de-42bd-81cc-c4373f4f9e62",
           "title": "Requiem Diptych for brass quintet"
          },
          {
           "collection": "Chicago Chamber Musicians Archive, 1989-2010",
           "identifier": "b206a884-c114-4d93-bb06-f7da0f1bd1c8",
           "title": "Octet for Winds"
          },
          {
           "collection": "Robert Marcellus Master Class Audio Archives",
           "identifier": "02e4dec5-180c-4474-aef4-c4a24a97727a",
           "title": "Clarinet Master Class 1985-06-28"
          },
          {
           "collection": "Chicago Chamber Musicians Archive, 1989-2010",
           "identifier": "ff37fea5-09b9-4e9e-9e74-3cf5596cd6e7",
           "title": "Chaconne for violin and piano"
          },
          {
           "collection": "Northwestern University School of Music Concert Recordings",
           "identifier": "093e8bca-6ff3-41e0-be73-239adda59f42",
           "title": "Concert Band concert, 22 May 2011, 3:00 p.m."
          },
          {
           "collection": "Chicago Chamber Musicians Archive, 1989-2010",
           "identifier": "94916147-6a4f-44c5-b380-7c3137b19261",
           "title": "Selections from the Gershwin Song Book"
          },
          {
           "collection": "Jim Roberts Photographs",
           "identifier": "738bda54-f173-4d1d-aac0-ea597fd85e27",
           "title": "Violinist Itzak Perlman at the Aspen Music Festival"
          },
          {
           "collection": "Chicago Chamber Musicians Archive, 1989-2010",
           "identifier": "3ce2193f-53e5-4a80-95d7-0c2eb84f052d",
           "title": "Music for Brass Instruments"
          },
          {
           "collection": "Robert Marcellus Master Class Audio Archives",
           "identifier": "d1bc55cf-e174-4d96-b5a6-29e735a3a4fc",
           "title": "Clarinet Master Class 1984-06-28"
          },
          {
           "collection": "Chicago Chamber Musicians Archive, 1989-2010",
           "identifier": "cbd205d6-ba94-4673-9900-00bbf9b5ad8c",
           "title": "Excerpts from Waldliederlein arranged for horn, trombone and tuba"
          },
          {
           "collection": "Aldridge Collection",
           "identifier": "01860ec6-801f-4a5d-9812-2b93615053a1",
           "title": "Vocal score cover, \"Israel in Egypt\""
          },
          {
           "collection": "Robert Marcellus Master Class Audio Archives",
           "identifier": "12c22c6e-129c-4e90-bcd2-eb6f21132dfd",
           "title": "Clarinet Master Class 1984-06-27"
          },
          {
           "collection": "Aldridge Collection",
           "identifier": "6a93e210-2e21-41f9-918c-3014a25b11c0",
           "title": "Program, Miss Luranah Aldridge's vocal recital, 1914"
          },
          {
           "collection": "Aldridge Collection",
           "identifier": "3bd09b09-3a76-4ab1-854d-64ac28f93829",
           "title": "Supplication"
          },
          {
           "collection": "Chicago Chamber Musicians Archive, 1989-2010",
           "identifier": "61918b05-7701-4c87-80c5-5a1edc28ddf9",
           "title": "Pastorale"
          },
          {
           "collection": "Robert Marcellus Master Class Audio Archives",
           "identifier": "2fd83dfd-e25a-439b-8af0-c86b010c9866",
           "title": "Clarinet Master Class 1990-06-18"
          }
         ]
        }
       }
      },
      "text/plain": [
       "<IPython.core.display.JSON object>"
      ]
     },
     "execution_count": 13,
     "metadata": {
      "application/json": {
       "expanded": true,
       "root": "root"
      }
     },
     "output_type": "execute_result"
    }
   ],
   "source": [
    "result=(\n",
    "    CLIENT.query\n",
    "        .get(class_name=\"Work\", properties=[\"collection\", \"identifier\", \"title\"])\n",
    "        .with_limit(100)\n",
    "        .with_where({\n",
    "            \"path\": [\"collection\"],\n",
    "            \"operator\": \"NotEqual\",\n",
    "            \"valueText\": work[\"collection\"]\n",
    "        })\n",
    "        .with_near_vector({\"vector\": vector})\n",
    "        .do()\n",
    ")\n",
    "jprint(result)"
   ]
  },
  {
   "cell_type": "code",
   "execution_count": 12,
   "id": "dcee3d93",
   "metadata": {},
   "outputs": [
    {
     "data": {
      "text/plain": [
       "[{'dataType': ['text'],\n",
       "  'indexFilterable': True,\n",
       "  'indexSearchable': True,\n",
       "  'moduleConfig': {'text2vec-transformers': {'skip': False,\n",
       "    'vectorizePropertyName': False}},\n",
       "  'name': 'title',\n",
       "  'tokenization': 'word'},\n",
       " {'dataType': ['text'],\n",
       "  'indexFilterable': True,\n",
       "  'indexSearchable': True,\n",
       "  'moduleConfig': {'text2vec-transformers': {'skip': False,\n",
       "    'vectorizePropertyName': False}},\n",
       "  'name': 'accession_number',\n",
       "  'tokenization': 'word'},\n",
       " {'dataType': ['text[]'],\n",
       "  'indexFilterable': True,\n",
       "  'indexSearchable': True,\n",
       "  'moduleConfig': {'text2vec-transformers': {'skip': False,\n",
       "    'vectorizePropertyName': False}},\n",
       "  'name': 'alternate_title',\n",
       "  'tokenization': 'word'},\n",
       " {'dataType': ['text'],\n",
       "  'indexFilterable': True,\n",
       "  'indexSearchable': True,\n",
       "  'moduleConfig': {'text2vec-transformers': {'skip': False,\n",
       "    'vectorizePropertyName': False}},\n",
       "  'name': 'api_model',\n",
       "  'tokenization': 'word'},\n",
       " {'dataType': ['text'],\n",
       "  'indexFilterable': True,\n",
       "  'indexSearchable': True,\n",
       "  'moduleConfig': {'text2vec-transformers': {'skip': False,\n",
       "    'vectorizePropertyName': False}},\n",
       "  'name': 'catalog_key',\n",
       "  'tokenization': 'word'},\n",
       " {'dataType': ['text'],\n",
       "  'indexFilterable': True,\n",
       "  'indexSearchable': True,\n",
       "  'moduleConfig': {'text2vec-transformers': {'skip': False,\n",
       "    'vectorizePropertyName': False}},\n",
       "  'name': 'collection',\n",
       "  'tokenization': 'field'},\n",
       " {'dataType': ['text[]'],\n",
       "  'indexFilterable': True,\n",
       "  'indexSearchable': True,\n",
       "  'moduleConfig': {'text2vec-transformers': {'skip': False,\n",
       "    'vectorizePropertyName': False}},\n",
       "  'name': 'contributor',\n",
       "  'tokenization': 'word'},\n",
       " {'dataType': ['text'],\n",
       "  'indexFilterable': True,\n",
       "  'indexSearchable': True,\n",
       "  'moduleConfig': {'text2vec-transformers': {'skip': False,\n",
       "    'vectorizePropertyName': False}},\n",
       "  'name': 'create_date',\n",
       "  'tokenization': 'word'},\n",
       " {'dataType': ['text[]'],\n",
       "  'indexFilterable': True,\n",
       "  'indexSearchable': True,\n",
       "  'moduleConfig': {'text2vec-transformers': {'skip': False,\n",
       "    'vectorizePropertyName': False}},\n",
       "  'name': 'creator',\n",
       "  'tokenization': 'word'},\n",
       " {'dataType': ['text[]'],\n",
       "  'indexFilterable': True,\n",
       "  'indexSearchable': True,\n",
       "  'moduleConfig': {'text2vec-transformers': {'skip': False,\n",
       "    'vectorizePropertyName': False}},\n",
       "  'name': 'date_created',\n",
       "  'tokenization': 'word'},\n",
       " {'dataType': ['text[]'],\n",
       "  'indexFilterable': True,\n",
       "  'indexSearchable': True,\n",
       "  'moduleConfig': {'text2vec-transformers': {'skip': False,\n",
       "    'vectorizePropertyName': False}},\n",
       "  'name': 'description',\n",
       "  'tokenization': 'word'},\n",
       " {'dataType': ['text[]'],\n",
       "  'indexFilterable': True,\n",
       "  'indexSearchable': True,\n",
       "  'moduleConfig': {'text2vec-transformers': {'skip': False,\n",
       "    'vectorizePropertyName': False}},\n",
       "  'name': 'genre',\n",
       "  'tokenization': 'word'},\n",
       " {'dataType': ['text'],\n",
       "  'indexFilterable': True,\n",
       "  'indexSearchable': True,\n",
       "  'moduleConfig': {'text2vec-transformers': {'skip': False,\n",
       "    'vectorizePropertyName': False}},\n",
       "  'name': 'identifier',\n",
       "  'tokenization': 'word'},\n",
       " {'dataType': ['text'],\n",
       "  'indexFilterable': True,\n",
       "  'indexSearchable': True,\n",
       "  'moduleConfig': {'text2vec-transformers': {'skip': False,\n",
       "    'vectorizePropertyName': False}},\n",
       "  'name': 'identifier_human_readable',\n",
       "  'tokenization': 'word'},\n",
       " {'dataType': ['text'],\n",
       "  'indexFilterable': True,\n",
       "  'indexSearchable': True,\n",
       "  'moduleConfig': {'text2vec-transformers': {'skip': False,\n",
       "    'vectorizePropertyName': False}},\n",
       "  'name': 'keywords',\n",
       "  'tokenization': 'word'},\n",
       " {'dataType': ['text[]'],\n",
       "  'indexFilterable': True,\n",
       "  'indexSearchable': True,\n",
       "  'moduleConfig': {'text2vec-transformers': {'skip': False,\n",
       "    'vectorizePropertyName': False}},\n",
       "  'name': 'language',\n",
       "  'tokenization': 'word'},\n",
       " {'dataType': ['text'],\n",
       "  'indexFilterable': True,\n",
       "  'indexSearchable': True,\n",
       "  'moduleConfig': {'text2vec-transformers': {'skip': False,\n",
       "    'vectorizePropertyName': False}},\n",
       "  'name': 'library_unit',\n",
       "  'tokenization': 'word'},\n",
       " {'dataType': ['text[]'],\n",
       "  'indexFilterable': True,\n",
       "  'indexSearchable': True,\n",
       "  'moduleConfig': {'text2vec-transformers': {'skip': False,\n",
       "    'vectorizePropertyName': False}},\n",
       "  'name': 'location',\n",
       "  'tokenization': 'word'},\n",
       " {'dataType': ['text[]'],\n",
       "  'indexFilterable': True,\n",
       "  'indexSearchable': True,\n",
       "  'moduleConfig': {'text2vec-transformers': {'skip': False,\n",
       "    'vectorizePropertyName': False}},\n",
       "  'name': 'physical_description_material',\n",
       "  'tokenization': 'word'},\n",
       " {'dataType': ['text[]'],\n",
       "  'indexFilterable': True,\n",
       "  'indexSearchable': True,\n",
       "  'moduleConfig': {'text2vec-transformers': {'skip': False,\n",
       "    'vectorizePropertyName': False}},\n",
       "  'name': 'physical_description_size',\n",
       "  'tokenization': 'word'},\n",
       " {'dataType': ['text'],\n",
       "  'indexFilterable': True,\n",
       "  'indexSearchable': True,\n",
       "  'moduleConfig': {'text2vec-transformers': {'skip': False,\n",
       "    'vectorizePropertyName': False}},\n",
       "  'name': 'preservation_level',\n",
       "  'tokenization': 'word'},\n",
       " {'dataType': ['boolean'],\n",
       "  'indexFilterable': True,\n",
       "  'indexSearchable': False,\n",
       "  'moduleConfig': {'text2vec-transformers': {'skip': False,\n",
       "    'vectorizePropertyName': False}},\n",
       "  'name': 'published'},\n",
       " {'dataType': ['text[]'],\n",
       "  'indexFilterable': True,\n",
       "  'indexSearchable': True,\n",
       "  'moduleConfig': {'text2vec-transformers': {'skip': False,\n",
       "    'vectorizePropertyName': False}},\n",
       "  'name': 'related_material',\n",
       "  'tokenization': 'word'},\n",
       " {'dataType': ['text[]'],\n",
       "  'indexFilterable': True,\n",
       "  'indexSearchable': True,\n",
       "  'moduleConfig': {'text2vec-transformers': {'skip': False,\n",
       "    'vectorizePropertyName': False}},\n",
       "  'name': 'related_url',\n",
       "  'tokenization': 'word'},\n",
       " {'dataType': ['text'],\n",
       "  'indexFilterable': True,\n",
       "  'indexSearchable': True,\n",
       "  'moduleConfig': {'text2vec-transformers': {'skip': False,\n",
       "    'vectorizePropertyName': False}},\n",
       "  'name': 'rights_holder',\n",
       "  'tokenization': 'word'},\n",
       " {'dataType': ['text'],\n",
       "  'indexFilterable': True,\n",
       "  'indexSearchable': True,\n",
       "  'moduleConfig': {'text2vec-transformers': {'skip': False,\n",
       "    'vectorizePropertyName': False}},\n",
       "  'name': 'rights_statement',\n",
       "  'tokenization': 'word'},\n",
       " {'dataType': ['text'],\n",
       "  'indexFilterable': True,\n",
       "  'indexSearchable': True,\n",
       "  'moduleConfig': {'text2vec-transformers': {'skip': False,\n",
       "    'vectorizePropertyName': False}},\n",
       "  'name': 'scope_and_contents',\n",
       "  'tokenization': 'word'},\n",
       " {'dataType': ['text[]'],\n",
       "  'indexFilterable': True,\n",
       "  'indexSearchable': True,\n",
       "  'moduleConfig': {'text2vec-transformers': {'skip': False,\n",
       "    'vectorizePropertyName': False}},\n",
       "  'name': 'series',\n",
       "  'tokenization': 'word'},\n",
       " {'dataType': ['text[]'],\n",
       "  'indexFilterable': True,\n",
       "  'indexSearchable': True,\n",
       "  'moduleConfig': {'text2vec-transformers': {'skip': False,\n",
       "    'vectorizePropertyName': False}},\n",
       "  'name': 'source',\n",
       "  'tokenization': 'word'},\n",
       " {'dataType': ['text'],\n",
       "  'indexFilterable': True,\n",
       "  'indexSearchable': True,\n",
       "  'moduleConfig': {'text2vec-transformers': {'skip': False,\n",
       "    'vectorizePropertyName': False}},\n",
       "  'name': 'status',\n",
       "  'tokenization': 'word'},\n",
       " {'dataType': ['text[]'],\n",
       "  'indexFilterable': True,\n",
       "  'indexSearchable': True,\n",
       "  'moduleConfig': {'text2vec-transformers': {'skip': False,\n",
       "    'vectorizePropertyName': False}},\n",
       "  'name': 'style_period',\n",
       "  'tokenization': 'word'},\n",
       " {'dataType': ['text[]'],\n",
       "  'indexFilterable': True,\n",
       "  'indexSearchable': True,\n",
       "  'moduleConfig': {'text2vec-transformers': {'skip': False,\n",
       "    'vectorizePropertyName': False}},\n",
       "  'name': 'subject',\n",
       "  'tokenization': 'word'},\n",
       " {'dataType': ['text'],\n",
       "  'indexFilterable': True,\n",
       "  'indexSearchable': True,\n",
       "  'moduleConfig': {'text2vec-transformers': {'skip': False,\n",
       "    'vectorizePropertyName': False}},\n",
       "  'name': 'table_of_contents',\n",
       "  'tokenization': 'word'},\n",
       " {'dataType': ['text[]'],\n",
       "  'indexFilterable': True,\n",
       "  'indexSearchable': True,\n",
       "  'moduleConfig': {'text2vec-transformers': {'skip': False,\n",
       "    'vectorizePropertyName': False}},\n",
       "  'name': 'technique',\n",
       "  'tokenization': 'word'},\n",
       " {'dataType': ['text'],\n",
       "  'indexFilterable': True,\n",
       "  'indexSearchable': True,\n",
       "  'moduleConfig': {'text2vec-transformers': {'skip': False,\n",
       "    'vectorizePropertyName': False}},\n",
       "  'name': 'visibility',\n",
       "  'tokenization': 'word'},\n",
       " {'dataType': ['text'],\n",
       "  'indexFilterable': True,\n",
       "  'indexSearchable': True,\n",
       "  'moduleConfig': {'text2vec-transformers': {'skip': False,\n",
       "    'vectorizePropertyName': False}},\n",
       "  'name': 'work_type',\n",
       "  'tokenization': 'word'}]"
      ]
     },
     "execution_count": 12,
     "metadata": {},
     "output_type": "execute_result"
    }
   ],
   "source": [
    "CLIENT.schema.get(\"Work\")[\"properties\"]"
   ]
  }
 ],
 "metadata": {
  "kernelspec": {
   "display_name": "weaviate",
   "language": "python",
   "name": "python3"
  },
  "language_info": {
   "codemirror_mode": {
    "name": "ipython",
    "version": 3
   },
   "file_extension": ".py",
   "mimetype": "text/x-python",
   "name": "python",
   "nbconvert_exporter": "python",
   "pygments_lexer": "ipython3",
   "version": "3.9.16"
  }
 },
 "nbformat": 4,
 "nbformat_minor": 5
}
