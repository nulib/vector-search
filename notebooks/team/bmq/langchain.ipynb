{
 "cells": [
  {
   "cell_type": "code",
   "execution_count": 3,
   "metadata": {},
   "outputs": [
    {
     "name": "stdout",
     "output_type": "stream",
     "text": [
      "Setup Complete. Use CLIENT to access Weaviate.\n"
     ]
    }
   ],
   "source": [
    "%run \"../../../setup.ipynb\"\n",
    "if CLIENT == None:\n",
    "    print(\"Failed to create CLIENT.\")"
   ]
  },
  {
   "cell_type": "code",
   "execution_count": 4,
   "metadata": {},
   "outputs": [],
   "source": [
    "from langchain.chat_models import AzureChatOpenAI\n",
    "from langchain.vectorstores import Weaviate\n",
    "from typing import List\n",
    "import os\n",
    "import weaviate\n",
    "\n",
    "def openai_chat_client():\n",
    "  deployment = os.getenv(\"AZURE_OPENAI_LLM_DEPLOYMENT_ID\")\n",
    "  key = os.getenv(\"AZURE_OPENAI_API_KEY\")\n",
    "  resource = os.getenv(\"AZURE_OPENAI_RESOURCE_NAME\")\n",
    "\n",
    "  return AzureChatOpenAI(deployment_name=deployment, \n",
    "                         openai_api_key=key, \n",
    "                         openai_api_base=f\"https://{resource}.openai.azure.com/\",\n",
    "                         openai_api_version=\"2023-03-15-preview\")\n",
    "\n",
    "\n",
    "def weaviate_vector_store(index_name: str, text_key: str, attributes: List[str] = []):\n",
    "  weaviate_url = os.environ['WEAVIATE_URL']\n",
    "  weaviate_api_key = os.environ['WEAVIATE_API_KEY']\n",
    "  openai_api_key = os.environ['AZURE_OPENAI_API_KEY']\n",
    "\n",
    "  auth_config = weaviate.AuthApiKey(api_key=weaviate_api_key)\n",
    "\n",
    "  client = weaviate.Client(\n",
    "      url=weaviate_url,\n",
    "      auth_client_secret=auth_config,\n",
    "      additional_headers={\n",
    "          \"X-OpenAI-Api-Key\": openai_api_key\n",
    "      }\n",
    "  )\n",
    "  return Weaviate(client=client, \n",
    "                  index_name=index_name, \n",
    "                  text_key=text_key, \n",
    "                  attributes=attributes)"
   ]
  },
  {
   "cell_type": "code",
   "execution_count": 5,
   "metadata": {},
   "outputs": [],
   "source": [
    "import base64\n",
    "import json\n",
    "import os\n",
    "from langchain.chains import RetrievalQAWithSourcesChain\n",
    "\n",
    "\n",
    "from langchain.agents.agent_toolkits import (\n",
    "    create_vectorstore_agent,\n",
    "    VectorStoreToolkit,\n",
    "    VectorStoreInfo,\n",
    ")\n",
    "\n",
    "\n",
    "def ask(question):\n",
    "  index_name = \"Work\"\n",
    "  text_key = \"title\"\n",
    "  attributes = [\"identifier\", \"title\", \"source\", \"alternate_title\", \"contributor\", \"create_date\", \"creator\", \"date_created\", \"description\", \"genre\", \"keywords\", \"language\", \"location\", \"physical_description_material\", \"physical_description_size\", \"scope_and_contents\", \"style_period\", \"subject\", \"table_of_contents\", \"technique\"]\n",
    "\n",
    "  weaviate = weaviate_vector_store(\n",
    "    index_name=index_name, \n",
    "    text_key=text_key, \n",
    "    attributes=attributes\n",
    "  )\n",
    "  \n",
    "  client = openai_chat_client()\n",
    "  chain = RetrievalQAWithSourcesChain.from_chain_type(\n",
    "    client, \n",
    "    chain_type=\"stuff\", \n",
    "    retriever=weaviate.as_retriever()\n",
    "  )\n",
    "\n",
    "  return chain({\"question\": question})"
   ]
  },
  {
   "cell_type": "code",
   "execution_count": 6,
   "metadata": {},
   "outputs": [
    {
     "data": {
      "application/json": {
       "answer": "Northwestern University is located in Evanston, Illinois.\n",
       "question": "Where is Northwestern University located?",
       "sources": "https://dc.library.northwestern.edu/items/e353efcd-8664-4ede-9f0b-1f8d35aaefa0, https://dc.library.northwestern.edu/items/52de7487-eb47-4b22-bf57-59a049e7fc09, https://dc.library.northwestern.edu/items/f08996ed-9125-430f-a1c2-6c21c7527772, https://dc.library.northwestern.edu/items/aa23199b-782b-41c3-9cb3-ac14da315686"
      },
      "text/plain": [
       "<IPython.core.display.JSON object>"
      ]
     },
     "execution_count": 6,
     "metadata": {
      "application/json": {
       "expanded": true,
       "root": "root"
      }
     },
     "output_type": "execute_result"
    }
   ],
   "source": [
    "jprint(ask(\"Where is Northwestern University located?\"))"
   ]
  },
  {
   "cell_type": "code",
   "execution_count": 7,
   "metadata": {},
   "outputs": [
    {
     "data": {
      "application/json": {
       "answer": "Yes, Northwestern is near Lake Michigan. \n",
       "question": "Is Northwestern near Lake Michigan?",
       "sources": "Pictures of the campus pathway along the shore of Lake Michigan, the Chicago skyline as seen from Lake Michigan and the North and Outer Drive near Northwestern University."
      },
      "text/plain": [
       "<IPython.core.display.JSON object>"
      ]
     },
     "execution_count": 7,
     "metadata": {
      "application/json": {
       "expanded": true,
       "root": "root"
      }
     },
     "output_type": "execute_result"
    }
   ],
   "source": [
    "jprint(ask(\"Is Northwestern near Lake Michigan?\"))"
   ]
  },
  {
   "cell_type": "code",
   "execution_count": 11,
   "metadata": {},
   "outputs": [
    {
     "data": {
      "application/json": {
       "answer": "Yes, there is a collection of images of lions in the wild in East Africa.\n",
       "question": "Does the collection have any images of lions in the wild?",
       "sources": "https://dc.library.northwestern.edu/items/625c6477-93b9-4ada-bc4f-8a3f0b63dee0"
      },
      "text/plain": [
       "<IPython.core.display.JSON object>"
      ]
     },
     "execution_count": 11,
     "metadata": {
      "application/json": {
       "expanded": true,
       "root": "root"
      }
     },
     "output_type": "execute_result"
    }
   ],
   "source": [
    "jprint(ask(\"Does the collection have any images of lions in the wild?\"))"
   ]
  },
  {
   "cell_type": "code",
   "execution_count": 12,
   "metadata": {},
   "outputs": [
    {
     "data": {
      "application/json": {
       "answer": "Examples of war propaganda include \"I'm counting on you!\", \"United: the United Nations fight for freedom\", and \"Bombers' guardians: your planes carry the fight to the Axis.\" \n",
       "question": "Can you show me examples of war propaganda?",
       "sources": "https://dc.library.northwestern.edu/items/5bdea09c-0fd2-4297-b58c-3ff2df3ba73f, https://dc.library.northwestern.edu/items/c52a9fea-3bf8-4edd-a7f9-5c090e092b9b, https://dc.library.northwestern.edu/items/a8d6c689-7ae9-4942-9b71-5bad6fe1095f, https://dc.library.northwestern.edu/items/3f3edf71-f9d2-4361-88a3-3de082ebdcd9."
      },
      "text/plain": [
       "<IPython.core.display.JSON object>"
      ]
     },
     "execution_count": 12,
     "metadata": {
      "application/json": {
       "expanded": true,
       "root": "root"
      }
     },
     "output_type": "execute_result"
    }
   ],
   "source": [
    "jprint(ask(\"Can you show me examples of war propaganda?\"))"
   ]
  },
  {
   "cell_type": "code",
   "execution_count": 15,
   "metadata": {},
   "outputs": [
    {
     "data": {
      "application/json": {
       "answer": "Yes, here are some historical Northwestern football matches:\n- Northwestern Football: Preparations, 1943\n- Northwestern Football vs. Notre Dame, 1944\n- Northwestern Football vs. Wisconsin, 1939\n- Northwestern Football vs. Wisconsin, 1940\n",
       "question": "Can you show me historical Northwestern football matches?",
       "sources": "- https://dc.library.northwestern.edu/items/57dcb664-7878-490e-87b6-6c4283b1854e\n- https://dc.library.northwestern.edu/items/0bd480f3-2503-4e0f-ae9e-9662592567fe\n- https://dc.library.northwestern.edu/items/b0ae1256-efa5-4dc7-b54e-71029b2c5495\n- https://dc.library.northwestern.edu/items/c0ef3eba-d71b-4851-99c0-a65cf52c133d"
      },
      "text/plain": [
       "<IPython.core.display.JSON object>"
      ]
     },
     "execution_count": 15,
     "metadata": {
      "application/json": {
       "expanded": true,
       "root": "root"
      }
     },
     "output_type": "execute_result"
    }
   ],
   "source": [
    "jprint(ask(\"Can you show me historical Northwestern football matches?\"))"
   ]
  },
  {
   "cell_type": "code",
   "execution_count": 18,
   "metadata": {},
   "outputs": [
    {
     "data": {
      "application/json": {
       "answer": "John Cage corresponded with H.M.L., Barbara Chandler, Marion Swartz, and George Avakian during his life.\n",
       "question": "Who did John Cage correspond with during his life?",
       "sources": "https://dc.library.northwestern.edu/items/e61667ee-0c20-418b-84ec-ec6200cca270, https://dc.library.northwestern.edu/items/33906799-3fc3-4f1b-834a-5c78c7ecea76, https://dc.library.northwestern.edu/items/0a2308e6-93a8-40a9-b5ed-77f8f2ad7697, https://dc.library.northwestern.edu/items/816c7d2f-72e5-425c-8bf2-5e96e629f866"
      },
      "text/plain": [
       "<IPython.core.display.JSON object>"
      ]
     },
     "execution_count": 18,
     "metadata": {
      "application/json": {
       "expanded": true,
       "root": "root"
      }
     },
     "output_type": "execute_result"
    }
   ],
   "source": [
    "jprint(ask(\"Who did John Cage correspond with during his life?\"))"
   ]
  },
  {
   "cell_type": "code",
   "execution_count": null,
   "metadata": {},
   "outputs": [],
   "source": []
  }
 ],
 "metadata": {
  "kernelspec": {
   "display_name": "weaviate",
   "language": "python",
   "name": "python3"
  },
  "language_info": {
   "codemirror_mode": {
    "name": "ipython",
    "version": 3
   },
   "file_extension": ".py",
   "mimetype": "text/x-python",
   "name": "python",
   "nbconvert_exporter": "python",
   "pygments_lexer": "ipython3",
   "version": "3.9.16"
  },
  "orig_nbformat": 4
 },
 "nbformat": 4,
 "nbformat_minor": 2
}
