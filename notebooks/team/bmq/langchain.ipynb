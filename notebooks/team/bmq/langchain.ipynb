{
 "cells": [
  {
   "cell_type": "code",
   "execution_count": null,
   "metadata": {},
   "outputs": [],
   "source": [
    "%run \"../../../setup.ipynb\"\n",
    "if CLIENT == None:\n",
    "    print(\"Failed to create CLIENT.\")"
   ]
  },
  {
   "cell_type": "code",
   "execution_count": null,
   "metadata": {},
   "outputs": [],
   "source": [
    "from langchain.chat_models import AzureChatOpenAI\n",
    "from langchain.llms import AzureOpenAI\n",
    "from langchain import SerpAPIWrapper\n",
    "from langchain.vectorstores import Weaviate\n",
    "from typing import List\n",
    "import os\n",
    "import weaviate\n",
    "\n",
    "def openai_chat_client():\n",
    "  deployment = os.getenv(\"AZURE_OPENAI_LLM_DEPLOYMENT_ID\")\n",
    "  key = os.getenv(\"AZURE_OPENAI_API_KEY\")\n",
    "  resource = os.getenv(\"AZURE_OPENAI_RESOURCE_NAME\")\n",
    "\n",
    "  return AzureOpenAI(deployment_name=deployment, \n",
    "                     openai_api_key=key, \n",
    "                     openai_api_base=f\"https://{resource}.openai.azure.com/\",\n",
    "                     openai_api_version=\"2023-03-15-preview\",\n",
    "                     temperature=0.0)\n",
    "\n",
    "\n",
    "def weaviate_vector_store(index_name: str, text_key: str, attributes: List[str] = []):\n",
    "  weaviate_url = os.environ['WEAVIATE_URL']\n",
    "  weaviate_api_key = os.environ['WEAVIATE_API_KEY']\n",
    "  openai_api_key = os.environ['AZURE_OPENAI_API_KEY']\n",
    "\n",
    "  auth_config = weaviate.AuthApiKey(api_key=weaviate_api_key)\n",
    "\n",
    "  client = weaviate.Client(\n",
    "      url=weaviate_url,\n",
    "      auth_client_secret=auth_config\n",
    "  )\n",
    "  return Weaviate(client=client, \n",
    "                  index_name=index_name, \n",
    "                  text_key=text_key, \n",
    "                  attributes=attributes)"
   ]
  },
  {
   "cell_type": "code",
   "execution_count": null,
   "metadata": {},
   "outputs": [],
   "source": [
    "index_name = \"Work\"\n",
    "text_key = \"title\"\n",
    "attributes = [\"title\", \"source\", \"alternate_title\", \"contributor\", \"create_date\", \"creator\", \"date_created\", \"description\", \"genre\", \"keywords\", \"language\", \"location\", \"physical_description_material\", \"physical_description_size\", \"scope_and_contents\", \"style_period\", \"subject\", \"table_of_contents\", \"technique\"]\n",
    "\n",
    "weaviate = weaviate_vector_store(\n",
    "  index_name=index_name, \n",
    "  text_key=text_key, \n",
    "  attributes=attributes\n",
    ")\n",
    "\n",
    "client = openai_chat_client()"
   ]
  },
  {
   "cell_type": "code",
   "execution_count": null,
   "metadata": {},
   "outputs": [],
   "source": [
    "query = \"postcards of Northwestern University\"\n",
    "docs = weaviate_vector_store(\n",
    "  index_name=index_name, \n",
    "  text_key=text_key, \n",
    "  attributes=attributes\n",
    ").similarity_search_by_text(query, k=10, additional=[\"id\", \"certainty\"])\n",
    "docs"
   ]
  },
  {
   "cell_type": "code",
   "execution_count": null,
   "metadata": {},
   "outputs": [],
   "source": []
  },
  {
   "cell_type": "code",
   "execution_count": null,
   "metadata": {},
   "outputs": [],
   "source": [
    "from langchain.retrievers.weaviate_hybrid_search import WeaviateHybridSearchRetriever\n",
    "r = WeaviateHybridSearchRetriever(weaviate.Client(\n",
    "      url=weaviate_url,\n",
    "      auth_client_secret=auth_config,\n",
    "      additional_headers={\n",
    "          \"X-OpenAI-Api-Key\": openai_api_key\n",
    "      }\n",
    "  ), index_name=index_name, text_key=text_key, attributes=attributes, k=8)\n",
    "r.get_relevant_documents(\"west africa\")"
   ]
  },
  {
   "cell_type": "code",
   "execution_count": null,
   "metadata": {},
   "outputs": [],
   "source": [
    "import base64\n",
    "import json\n",
    "import os\n",
    "from langchain.chains import RetrievalQAWithSourcesChain\n",
    "\n",
    "\n",
    "def ask(question):\n",
    "  chain = RetrievalQAWithSourcesChain.from_chain_type(\n",
    "    client, \n",
    "    chain_type=\"stuff\", \n",
    "    retriever=weaviate.as_retriever()\n",
    "  )\n",
    "\n",
    "  return chain({\"question\": question})"
   ]
  },
  {
   "cell_type": "code",
   "execution_count": null,
   "metadata": {},
   "outputs": [],
   "source": [
    "from langchain.agents.agent_toolkits import (\n",
    "    create_vectorstore_agent,\n",
    "    VectorStoreToolkit,\n",
    "    VectorStoreInfo,\n",
    ")\n",
    "\n",
    "print(client)\n",
    "\n",
    "def agent(question):\n",
    "    vectorstore_info = VectorStoreInfo(\n",
    "        name=index_name,\n",
    "        description=\"NULDC Works\",\n",
    "        vectorstore=weaviate\n",
    "    )\n",
    "    toolkit = VectorStoreToolkit(vectorstore_info=vectorstore_info, llm=client)\n",
    "    agent_executor = create_vectorstore_agent(llm=client, toolkit=toolkit, verbose=True)\n",
    "    return agent_executor.run(question)"
   ]
  },
  {
   "cell_type": "code",
   "execution_count": null,
   "metadata": {},
   "outputs": [],
   "source": [
    "from langchain.chains import RetrievalQA\n",
    "from langchain.vectorstores.base import VectorStoreRetriever\n",
    "retrievalQA = RetrievalQA.from_llm(llm=client, retriever=weaviate.as_retriever(), return_source_documents=True)\n",
    "res = retrievalQA.run(input_documents=docs, query=\"Does the Winterton Collection contain photos of Kenya?\")\n",
    "jprint(res)\n",
    "# chain = load_qa_with_sources_chain(client, chain_type=\"stuff\")\n",
    "# query = \"football stadium\"\n",
    "# docs = weaviate.similarity_search_by_text(query, k=10)\n",
    "# jprint(chain({\"input_documents\": docs, \"question\": \"What is the name of the Northwestern football stadium?\"}))"
   ]
  },
  {
   "cell_type": "code",
   "execution_count": null,
   "metadata": {},
   "outputs": [],
   "source": [
    "agent(\"Who were some headliners of the Berkeley Folk Music Festival?\")"
   ]
  },
  {
   "cell_type": "code",
   "execution_count": null,
   "metadata": {},
   "outputs": [],
   "source": [
    "ask(\"Where is Northwestern University located?\")"
   ]
  },
  {
   "cell_type": "code",
   "execution_count": null,
   "metadata": {},
   "outputs": [],
   "source": [
    "ask(\"Is Northwestern near Lake Michigan?\")"
   ]
  },
  {
   "cell_type": "code",
   "execution_count": null,
   "metadata": {},
   "outputs": [],
   "source": [
    "ask(\"Does the collection have any images of lions in the wild?\")"
   ]
  },
  {
   "cell_type": "code",
   "execution_count": null,
   "metadata": {},
   "outputs": [],
   "source": [
    "ask(\"Can you show me examples of war propaganda?\")"
   ]
  },
  {
   "cell_type": "code",
   "execution_count": null,
   "metadata": {},
   "outputs": [],
   "source": [
    "ask(\"Can you show me historical Northwestern football matches?\")"
   ]
  },
  {
   "cell_type": "code",
   "execution_count": null,
   "metadata": {},
   "outputs": [],
   "source": [
    "ask(\"Who did John Cage correspond with during his life?\")"
   ]
  },
  {
   "cell_type": "code",
   "execution_count": null,
   "metadata": {},
   "outputs": [],
   "source": [
    "ask(\"Clarinet is my favorite, any examples?\")"
   ]
  }
 ],
 "metadata": {
  "kernelspec": {
   "display_name": "weaviate",
   "language": "python",
   "name": "python3"
  },
  "language_info": {
   "codemirror_mode": {
    "name": "ipython",
    "version": 3
   },
   "file_extension": ".py",
   "mimetype": "text/x-python",
   "name": "python",
   "nbconvert_exporter": "python",
   "pygments_lexer": "ipython3",
   "version": "3.9.16"
  },
  "orig_nbformat": 4
 },
 "nbformat": 4,
 "nbformat_minor": 2
}
