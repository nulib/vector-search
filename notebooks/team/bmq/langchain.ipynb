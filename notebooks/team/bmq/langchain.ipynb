{
 "cells": [
  {
   "cell_type": "code",
   "execution_count": 1,
   "metadata": {},
   "outputs": [
    {
     "name": "stdout",
     "output_type": "stream",
     "text": [
      "Setup Complete. Use CLIENT to access Weaviate.\n"
     ]
    }
   ],
   "source": [
    "%run \"../../../setup.ipynb\"\n",
    "if CLIENT == None:\n",
    "    print(\"Failed to create CLIENT.\")"
   ]
  },
  {
   "cell_type": "code",
   "execution_count": 5,
   "metadata": {},
   "outputs": [],
   "source": [
    "from langchain.chat_models import AzureChatOpenAI\n",
    "from langchain.vectorstores import Weaviate\n",
    "from typing import List\n",
    "import os\n",
    "import weaviate\n",
    "\n",
    "def openai_chat_client():\n",
    "  deployment = os.getenv(\"AZURE_OPENAI_LLM_DEPLOYMENT_ID\")\n",
    "  key = os.getenv(\"AZURE_OPENAI_API_KEY\")\n",
    "  resource = os.getenv(\"AZURE_OPENAI_RESOURCE_NAME\")\n",
    "\n",
    "  return AzureChatOpenAI(deployment_name=deployment, \n",
    "                         openai_api_key=key, \n",
    "                         openai_api_base=f\"https://{resource}.openai.azure.com/\",\n",
    "                         openai_api_version=\"2023-03-15-preview\")\n",
    "\n",
    "\n",
    "def weaviate_vector_store(index_name: str, text_key: str, attributes: List[str] = []):\n",
    "  weaviate_url = os.environ['WEAVIATE_URL']\n",
    "  weaviate_api_key = os.environ['WEAVIATE_API_KEY']\n",
    "  openai_api_key = os.environ['AZURE_OPENAI_API_KEY']\n",
    "\n",
    "  auth_config = weaviate.AuthApiKey(api_key=weaviate_api_key)\n",
    "\n",
    "  client = weaviate.Client(\n",
    "      url=weaviate_url,\n",
    "      auth_client_secret=auth_config,\n",
    "      additional_headers={\n",
    "          \"X-OpenAI-Api-Key\": openai_api_key\n",
    "      }\n",
    "  )\n",
    "  return Weaviate(client=client, \n",
    "                  index_name=index_name, \n",
    "                  text_key=text_key, \n",
    "                  attributes=attributes)"
   ]
  },
  {
   "cell_type": "code",
   "execution_count": 10,
   "metadata": {},
   "outputs": [],
   "source": [
    "import base64\n",
    "import json\n",
    "import os\n",
    "from langchain.chains import RetrievalQAWithSourcesChain\n",
    "\n",
    "\n",
    "from langchain.agents.agent_toolkits import (\n",
    "    create_vectorstore_agent,\n",
    "    VectorStoreToolkit,\n",
    "    VectorStoreInfo,\n",
    ")\n",
    "\n",
    "\n",
    "def call():\n",
    "  index_name = \"Work\"\n",
    "  text_key = \"title\"\n",
    "  attributes = [\"identifier\", \"title\", \"source\"]\n",
    "\n",
    "  weaviate = weaviate_vector_store(\n",
    "    index_name=index_name, \n",
    "    text_key=text_key, \n",
    "    attributes=attributes\n",
    "  )\n",
    "  \n",
    "  chain = RetrievalQAWithSourcesChain.from_chain_type(\n",
    "    CLIENT, \n",
    "    chain_type=\"stuff\", \n",
    "    retriever=weaviate.as_retriever()\n",
    "  )\n",
    "\n",
    "  response = chain(\n",
    "    {\n",
    "      \"question\": \"Does Northwestern University have a football program?\"\n",
    "    }\n",
    "  )\n",
    "\n",
    "  jprint(response)"
   ]
  },
  {
   "cell_type": "code",
   "execution_count": 11,
   "metadata": {},
   "outputs": [
    {
     "ename": "ValidationError",
     "evalue": "1 validation error for LLMChain\nllm\n  value is not a valid dict (type=type_error.dict)",
     "output_type": "error",
     "traceback": [
      "\u001b[0;31m---------------------------------------------------------------------------\u001b[0m",
      "\u001b[0;31mValidationError\u001b[0m                           Traceback (most recent call last)",
      "Cell \u001b[0;32mIn[11], line 1\u001b[0m\n\u001b[0;32m----> 1\u001b[0m call()\n",
      "Cell \u001b[0;32mIn[10], line 23\u001b[0m, in \u001b[0;36mcall\u001b[0;34m()\u001b[0m\n\u001b[1;32m     17\u001b[0m attributes \u001b[39m=\u001b[39m [\u001b[39m\"\u001b[39m\u001b[39midentifier\u001b[39m\u001b[39m\"\u001b[39m, \u001b[39m\"\u001b[39m\u001b[39mtitle\u001b[39m\u001b[39m\"\u001b[39m, \u001b[39m\"\u001b[39m\u001b[39msource\u001b[39m\u001b[39m\"\u001b[39m]\n\u001b[1;32m     19\u001b[0m weaviate \u001b[39m=\u001b[39m weaviate_vector_store(index_name\u001b[39m=\u001b[39mindex_name, \n\u001b[1;32m     20\u001b[0m                                        text_key\u001b[39m=\u001b[39mtext_key, \n\u001b[1;32m     21\u001b[0m                                        attributes\u001b[39m=\u001b[39mattributes)\n\u001b[0;32m---> 23\u001b[0m chain \u001b[39m=\u001b[39m RetrievalQAWithSourcesChain\u001b[39m.\u001b[39;49mfrom_chain_type(\n\u001b[1;32m     24\u001b[0m   CLIENT, \n\u001b[1;32m     25\u001b[0m   chain_type\u001b[39m=\u001b[39;49m\u001b[39m\"\u001b[39;49m\u001b[39mstuff\u001b[39;49m\u001b[39m\"\u001b[39;49m, \n\u001b[1;32m     26\u001b[0m   retriever\u001b[39m=\u001b[39;49mweaviate\u001b[39m.\u001b[39;49mas_retriever())\n\u001b[1;32m     28\u001b[0m response \u001b[39m=\u001b[39m chain({\u001b[39m\"\u001b[39m\u001b[39mquestion\u001b[39m\u001b[39m\"\u001b[39m: \u001b[39m\"\u001b[39m\u001b[39mDoes Northwestern University have a football program?\u001b[39m\u001b[39m\"\u001b[39m})\n\u001b[1;32m     30\u001b[0m jprint(response)\n",
      "File \u001b[0;32m~/.conda/envs/weaviate/lib/python3.9/site-packages/langchain/chains/qa_with_sources/base.py:80\u001b[0m, in \u001b[0;36mBaseQAWithSourcesChain.from_chain_type\u001b[0;34m(cls, llm, chain_type, chain_type_kwargs, **kwargs)\u001b[0m\n\u001b[1;32m     78\u001b[0m \u001b[39m\u001b[39m\u001b[39m\"\"\"Load chain from chain type.\"\"\"\u001b[39;00m\n\u001b[1;32m     79\u001b[0m _chain_kwargs \u001b[39m=\u001b[39m chain_type_kwargs \u001b[39mor\u001b[39;00m {}\n\u001b[0;32m---> 80\u001b[0m combine_document_chain \u001b[39m=\u001b[39m load_qa_with_sources_chain(\n\u001b[1;32m     81\u001b[0m     llm, chain_type\u001b[39m=\u001b[39;49mchain_type, \u001b[39m*\u001b[39;49m\u001b[39m*\u001b[39;49m_chain_kwargs\n\u001b[1;32m     82\u001b[0m )\n\u001b[1;32m     83\u001b[0m \u001b[39mreturn\u001b[39;00m \u001b[39mcls\u001b[39m(combine_documents_chain\u001b[39m=\u001b[39mcombine_document_chain, \u001b[39m*\u001b[39m\u001b[39m*\u001b[39mkwargs)\n",
      "File \u001b[0;32m~/.conda/envs/weaviate/lib/python3.9/site-packages/langchain/chains/qa_with_sources/loading.py:171\u001b[0m, in \u001b[0;36mload_qa_with_sources_chain\u001b[0;34m(llm, chain_type, verbose, **kwargs)\u001b[0m\n\u001b[1;32m    166\u001b[0m     \u001b[39mraise\u001b[39;00m \u001b[39mValueError\u001b[39;00m(\n\u001b[1;32m    167\u001b[0m         \u001b[39mf\u001b[39m\u001b[39m\"\u001b[39m\u001b[39mGot unsupported chain type: \u001b[39m\u001b[39m{\u001b[39;00mchain_type\u001b[39m}\u001b[39;00m\u001b[39m. \u001b[39m\u001b[39m\"\u001b[39m\n\u001b[1;32m    168\u001b[0m         \u001b[39mf\u001b[39m\u001b[39m\"\u001b[39m\u001b[39mShould be one of \u001b[39m\u001b[39m{\u001b[39;00mloader_mapping\u001b[39m.\u001b[39mkeys()\u001b[39m}\u001b[39;00m\u001b[39m\"\u001b[39m\n\u001b[1;32m    169\u001b[0m     )\n\u001b[1;32m    170\u001b[0m _func: LoadingCallable \u001b[39m=\u001b[39m loader_mapping[chain_type]\n\u001b[0;32m--> 171\u001b[0m \u001b[39mreturn\u001b[39;00m _func(llm, verbose\u001b[39m=\u001b[39;49mverbose, \u001b[39m*\u001b[39;49m\u001b[39m*\u001b[39;49mkwargs)\n",
      "File \u001b[0;32m~/.conda/envs/weaviate/lib/python3.9/site-packages/langchain/chains/qa_with_sources/loading.py:56\u001b[0m, in \u001b[0;36m_load_stuff_chain\u001b[0;34m(llm, prompt, document_prompt, document_variable_name, verbose, **kwargs)\u001b[0m\n\u001b[1;32m     48\u001b[0m \u001b[39mdef\u001b[39;00m \u001b[39m_load_stuff_chain\u001b[39m(\n\u001b[1;32m     49\u001b[0m     llm: BaseLanguageModel,\n\u001b[1;32m     50\u001b[0m     prompt: BasePromptTemplate \u001b[39m=\u001b[39m stuff_prompt\u001b[39m.\u001b[39mPROMPT,\n\u001b[0;32m   (...)\u001b[0m\n\u001b[1;32m     54\u001b[0m     \u001b[39m*\u001b[39m\u001b[39m*\u001b[39mkwargs: Any,\n\u001b[1;32m     55\u001b[0m ) \u001b[39m-\u001b[39m\u001b[39m>\u001b[39m StuffDocumentsChain:\n\u001b[0;32m---> 56\u001b[0m     llm_chain \u001b[39m=\u001b[39m LLMChain(llm\u001b[39m=\u001b[39;49mllm, prompt\u001b[39m=\u001b[39;49mprompt, verbose\u001b[39m=\u001b[39;49mverbose)\n\u001b[1;32m     57\u001b[0m     \u001b[39mreturn\u001b[39;00m StuffDocumentsChain(\n\u001b[1;32m     58\u001b[0m         llm_chain\u001b[39m=\u001b[39mllm_chain,\n\u001b[1;32m     59\u001b[0m         document_variable_name\u001b[39m=\u001b[39mdocument_variable_name,\n\u001b[0;32m   (...)\u001b[0m\n\u001b[1;32m     62\u001b[0m         \u001b[39m*\u001b[39m\u001b[39m*\u001b[39mkwargs,\n\u001b[1;32m     63\u001b[0m     )\n",
      "File \u001b[0;32m~/.conda/envs/weaviate/lib/python3.9/site-packages/langchain/load/serializable.py:64\u001b[0m, in \u001b[0;36mSerializable.__init__\u001b[0;34m(self, **kwargs)\u001b[0m\n\u001b[1;32m     63\u001b[0m \u001b[39mdef\u001b[39;00m \u001b[39m__init__\u001b[39m(\u001b[39mself\u001b[39m, \u001b[39m*\u001b[39m\u001b[39m*\u001b[39mkwargs: Any) \u001b[39m-\u001b[39m\u001b[39m>\u001b[39m \u001b[39mNone\u001b[39;00m:\n\u001b[0;32m---> 64\u001b[0m     \u001b[39msuper\u001b[39;49m()\u001b[39m.\u001b[39;49m\u001b[39m__init__\u001b[39;49m(\u001b[39m*\u001b[39;49m\u001b[39m*\u001b[39;49mkwargs)\n\u001b[1;32m     65\u001b[0m     \u001b[39mself\u001b[39m\u001b[39m.\u001b[39m_lc_kwargs \u001b[39m=\u001b[39m kwargs\n",
      "File \u001b[0;32m~/.conda/envs/weaviate/lib/python3.9/site-packages/pydantic/main.py:341\u001b[0m, in \u001b[0;36mpydantic.main.BaseModel.__init__\u001b[0;34m()\u001b[0m\n",
      "\u001b[0;31mValidationError\u001b[0m: 1 validation error for LLMChain\nllm\n  value is not a valid dict (type=type_error.dict)"
     ]
    }
   ],
   "source": [
    "call()"
   ]
  },
  {
   "cell_type": "code",
   "execution_count": null,
   "metadata": {},
   "outputs": [],
   "source": []
  }
 ],
 "metadata": {
  "kernelspec": {
   "display_name": "weaviate",
   "language": "python",
   "name": "python3"
  },
  "language_info": {
   "codemirror_mode": {
    "name": "ipython",
    "version": 3
   },
   "file_extension": ".py",
   "mimetype": "text/x-python",
   "name": "python",
   "nbconvert_exporter": "python",
   "pygments_lexer": "ipython3",
   "version": "3.9.16"
  },
  "orig_nbformat": 4
 },
 "nbformat": 4,
 "nbformat_minor": 2
}
