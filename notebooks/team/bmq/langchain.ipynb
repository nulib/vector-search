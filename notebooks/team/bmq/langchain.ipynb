{
 "cells": [
  {
   "cell_type": "code",
   "execution_count": 9,
   "metadata": {},
   "outputs": [
    {
     "name": "stdout",
     "output_type": "stream",
     "text": [
      "Setup Complete. Use CLIENT to access Weaviate.\n"
     ]
    }
   ],
   "source": [
    "%run \"../../../setup.ipynb\"\n",
    "if CLIENT == None:\n",
    "    print(\"Failed to create CLIENT.\")"
   ]
  },
  {
   "cell_type": "code",
   "execution_count": 10,
   "metadata": {},
   "outputs": [
    {
     "name": "stdout",
     "output_type": "stream",
     "text": [
      "Requirement already satisfied: langchain in /home/ec2-user/.conda/envs/weaviate/lib/python3.9/site-packages (0.0.207)\n",
      "Requirement already satisfied: PyYAML>=5.4.1 in /home/ec2-user/.conda/envs/weaviate/lib/python3.9/site-packages (from langchain) (6.0)\n",
      "Requirement already satisfied: SQLAlchemy<3,>=1.4 in /home/ec2-user/.conda/envs/weaviate/lib/python3.9/site-packages (from langchain) (2.0.16)\n",
      "Requirement already satisfied: aiohttp<4.0.0,>=3.8.3 in /home/ec2-user/.conda/envs/weaviate/lib/python3.9/site-packages (from langchain) (3.8.4)\n",
      "Requirement already satisfied: async-timeout<5.0.0,>=4.0.0 in /home/ec2-user/.conda/envs/weaviate/lib/python3.9/site-packages (from langchain) (4.0.2)\n",
      "Requirement already satisfied: dataclasses-json<0.6.0,>=0.5.7 in /home/ec2-user/.conda/envs/weaviate/lib/python3.9/site-packages (from langchain) (0.5.8)\n",
      "Requirement already satisfied: langchainplus-sdk>=0.0.13 in /home/ec2-user/.conda/envs/weaviate/lib/python3.9/site-packages (from langchain) (0.0.16)\n",
      "Requirement already satisfied: numexpr<3.0.0,>=2.8.4 in /home/ec2-user/.conda/envs/weaviate/lib/python3.9/site-packages (from langchain) (2.8.4)\n",
      "Requirement already satisfied: numpy<2,>=1 in /home/ec2-user/.conda/envs/weaviate/lib/python3.9/site-packages (from langchain) (1.24.3)\n",
      "Requirement already satisfied: openapi-schema-pydantic<2.0,>=1.2 in /home/ec2-user/.conda/envs/weaviate/lib/python3.9/site-packages (from langchain) (1.2.4)\n",
      "Requirement already satisfied: pydantic<2,>=1 in /home/ec2-user/.conda/envs/weaviate/lib/python3.9/site-packages (from langchain) (1.10.9)\n",
      "Requirement already satisfied: requests<3,>=2 in /home/ec2-user/.conda/envs/weaviate/lib/python3.9/site-packages (from langchain) (2.28.2)\n",
      "Requirement already satisfied: tenacity<9.0.0,>=8.1.0 in /home/ec2-user/.conda/envs/weaviate/lib/python3.9/site-packages (from langchain) (8.2.2)\n",
      "Requirement already satisfied: attrs>=17.3.0 in /home/ec2-user/.conda/envs/weaviate/lib/python3.9/site-packages (from aiohttp<4.0.0,>=3.8.3->langchain) (22.1.0)\n",
      "Requirement already satisfied: charset-normalizer<4.0,>=2.0 in /home/ec2-user/.conda/envs/weaviate/lib/python3.9/site-packages (from aiohttp<4.0.0,>=3.8.3->langchain) (2.0.4)\n",
      "Requirement already satisfied: multidict<7.0,>=4.5 in /home/ec2-user/.conda/envs/weaviate/lib/python3.9/site-packages (from aiohttp<4.0.0,>=3.8.3->langchain) (6.0.4)\n",
      "Requirement already satisfied: yarl<2.0,>=1.0 in /home/ec2-user/.conda/envs/weaviate/lib/python3.9/site-packages (from aiohttp<4.0.0,>=3.8.3->langchain) (1.9.2)\n",
      "Requirement already satisfied: frozenlist>=1.1.1 in /home/ec2-user/.conda/envs/weaviate/lib/python3.9/site-packages (from aiohttp<4.0.0,>=3.8.3->langchain) (1.3.3)\n",
      "Requirement already satisfied: aiosignal>=1.1.2 in /home/ec2-user/.conda/envs/weaviate/lib/python3.9/site-packages (from aiohttp<4.0.0,>=3.8.3->langchain) (1.3.1)\n",
      "Requirement already satisfied: marshmallow<4.0.0,>=3.3.0 in /home/ec2-user/.conda/envs/weaviate/lib/python3.9/site-packages (from dataclasses-json<0.6.0,>=0.5.7->langchain) (3.19.0)\n",
      "Requirement already satisfied: marshmallow-enum<2.0.0,>=1.5.1 in /home/ec2-user/.conda/envs/weaviate/lib/python3.9/site-packages (from dataclasses-json<0.6.0,>=0.5.7->langchain) (1.5.1)\n",
      "Requirement already satisfied: typing-inspect>=0.4.0 in /home/ec2-user/.conda/envs/weaviate/lib/python3.9/site-packages (from dataclasses-json<0.6.0,>=0.5.7->langchain) (0.9.0)\n",
      "Requirement already satisfied: typing-extensions>=4.2.0 in /home/ec2-user/.conda/envs/weaviate/lib/python3.9/site-packages (from pydantic<2,>=1->langchain) (4.6.3)\n",
      "Requirement already satisfied: idna<4,>=2.5 in /home/ec2-user/.conda/envs/weaviate/lib/python3.9/site-packages (from requests<3,>=2->langchain) (3.4)\n",
      "Requirement already satisfied: urllib3<1.27,>=1.21.1 in /home/ec2-user/.conda/envs/weaviate/lib/python3.9/site-packages (from requests<3,>=2->langchain) (1.26.16)\n",
      "Requirement already satisfied: certifi>=2017.4.17 in /home/ec2-user/.conda/envs/weaviate/lib/python3.9/site-packages (from requests<3,>=2->langchain) (2023.5.7)\n",
      "Requirement already satisfied: greenlet!=0.4.17 in /home/ec2-user/.conda/envs/weaviate/lib/python3.9/site-packages (from SQLAlchemy<3,>=1.4->langchain) (2.0.2)\n",
      "Requirement already satisfied: packaging>=17.0 in /home/ec2-user/.conda/envs/weaviate/lib/python3.9/site-packages (from marshmallow<4.0.0,>=3.3.0->dataclasses-json<0.6.0,>=0.5.7->langchain) (23.0)\n",
      "Requirement already satisfied: mypy-extensions>=0.3.0 in /home/ec2-user/.conda/envs/weaviate/lib/python3.9/site-packages (from typing-inspect>=0.4.0->dataclasses-json<0.6.0,>=0.5.7->langchain) (1.0.0)\n",
      "Note: you may need to restart the kernel to use updated packages.\n",
      "Requirement already satisfied: openai in /home/ec2-user/.conda/envs/weaviate/lib/python3.9/site-packages (0.27.8)\n",
      "Requirement already satisfied: requests>=2.20 in /home/ec2-user/.conda/envs/weaviate/lib/python3.9/site-packages (from openai) (2.28.2)\n",
      "Requirement already satisfied: tqdm in /home/ec2-user/.conda/envs/weaviate/lib/python3.9/site-packages (from openai) (4.65.0)\n",
      "Requirement already satisfied: aiohttp in /home/ec2-user/.conda/envs/weaviate/lib/python3.9/site-packages (from openai) (3.8.4)\n",
      "Requirement already satisfied: charset-normalizer<4,>=2 in /home/ec2-user/.conda/envs/weaviate/lib/python3.9/site-packages (from requests>=2.20->openai) (2.0.4)\n",
      "Requirement already satisfied: idna<4,>=2.5 in /home/ec2-user/.conda/envs/weaviate/lib/python3.9/site-packages (from requests>=2.20->openai) (3.4)\n",
      "Requirement already satisfied: urllib3<1.27,>=1.21.1 in /home/ec2-user/.conda/envs/weaviate/lib/python3.9/site-packages (from requests>=2.20->openai) (1.26.16)\n",
      "Requirement already satisfied: certifi>=2017.4.17 in /home/ec2-user/.conda/envs/weaviate/lib/python3.9/site-packages (from requests>=2.20->openai) (2023.5.7)\n",
      "Requirement already satisfied: attrs>=17.3.0 in /home/ec2-user/.conda/envs/weaviate/lib/python3.9/site-packages (from aiohttp->openai) (22.1.0)\n",
      "Requirement already satisfied: multidict<7.0,>=4.5 in /home/ec2-user/.conda/envs/weaviate/lib/python3.9/site-packages (from aiohttp->openai) (6.0.4)\n",
      "Requirement already satisfied: async-timeout<5.0,>=4.0.0a3 in /home/ec2-user/.conda/envs/weaviate/lib/python3.9/site-packages (from aiohttp->openai) (4.0.2)\n",
      "Requirement already satisfied: yarl<2.0,>=1.0 in /home/ec2-user/.conda/envs/weaviate/lib/python3.9/site-packages (from aiohttp->openai) (1.9.2)\n",
      "Requirement already satisfied: frozenlist>=1.1.1 in /home/ec2-user/.conda/envs/weaviate/lib/python3.9/site-packages (from aiohttp->openai) (1.3.3)\n",
      "Requirement already satisfied: aiosignal>=1.1.2 in /home/ec2-user/.conda/envs/weaviate/lib/python3.9/site-packages (from aiohttp->openai) (1.3.1)\n",
      "Note: you may need to restart the kernel to use updated packages.\n"
     ]
    }
   ],
   "source": [
    "%pip install langchain\n",
    "%pip install openai"
   ]
  },
  {
   "cell_type": "code",
   "execution_count": 11,
   "metadata": {},
   "outputs": [],
   "source": [
    "import os\n",
    "import openai\n",
    "\n",
    "# openai.api_key = os.getenv(\"OPENAI_API_KEY\")\n",
    "deployment = os.getenv(\"AZURE_OPENAI_LLM_DEPLOYMENT_ID\")\n",
    "resource = os.getenv(\"AZURE_OPENAI_RESOURCE_NAME\")\n",
    "api_key = os.getenv(\"AZURE_OPENAI_API_KEY\")"
   ]
  },
  {
   "cell_type": "code",
   "execution_count": 16,
   "metadata": {},
   "outputs": [],
   "source": [
    "from langchain.chat_models import AzureChatOpenAI\n",
    "\n",
    "chat = AzureChatOpenAI(deployment_name=deployment)"
   ]
  },
  {
   "cell_type": "code",
   "execution_count": 24,
   "metadata": {},
   "outputs": [],
   "source": [
    "from langchain.vectorstores import Weaviate\n",
    "\n",
    "import weaviate\n",
    "\n",
    "index_name = \"Work\"\n",
    "text_key = \"title\"\n",
    "\n",
    "weaviate = Weaviate(CLIENT, index_name, text_key)"
   ]
  },
  {
   "cell_type": "code",
   "execution_count": 37,
   "metadata": {},
   "outputs": [
    {
     "name": "stdout",
     "output_type": "stream",
     "text": [
      "[Document(page_content='Lingyin Monastery. Feilaifeng. Exterior. Detail. Sculptural roundel', metadata={'_additional': {'certainty': 0.6787058413028717}}), Document(page_content='Africa', metadata={'_additional': {'certainty': 0.6763530075550079}}), Document(page_content='Wuta Si (Five-Pagoda Temple) Zhenjue Monastery. Exterior. Stūpa. Detail', metadata={'_additional': {'certainty': 0.6760348081588745}}), Document(page_content='Receipt of W.H. Shaffer from Benjamin Auld. Benjamin F. Auld to W.H. Shaffer. Baltimore, Maryland. 1p. Receipt of sale for Frederick Douglass materials.', metadata={'_additional': {'certainty': 0.6755401492118835}})]\n"
     ]
    }
   ],
   "source": [
    "result = weaviate.similarity_search_by_text(query=\"football\", additional=\"certainty\")\n",
    "print(result)"
   ]
  },
  {
   "cell_type": "code",
   "execution_count": null,
   "metadata": {},
   "outputs": [],
   "source": []
  }
 ],
 "metadata": {
  "kernelspec": {
   "display_name": "weaviate",
   "language": "python",
   "name": "python3"
  },
  "language_info": {
   "codemirror_mode": {
    "name": "ipython",
    "version": 3
   },
   "file_extension": ".py",
   "mimetype": "text/x-python",
   "name": "python",
   "nbconvert_exporter": "python",
   "pygments_lexer": "ipython3",
   "version": "3.9.16"
  },
  "orig_nbformat": 4
 },
 "nbformat": 4,
 "nbformat_minor": 2
}
