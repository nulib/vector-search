{
 "cells": [
  {
   "cell_type": "code",
   "execution_count": 1,
   "metadata": {},
   "outputs": [
    {
     "name": "stdout",
     "output_type": "stream",
     "text": [
      "Setup Complete. Use CLIENT to access Weaviate.\n"
     ]
    }
   ],
   "source": [
    "%run \"../../../setup.ipynb\"\n",
    "if CLIENT == None:\n",
    "    print(\"Failed to create CLIENT.\")"
   ]
  },
  {
   "cell_type": "code",
   "execution_count": 2,
   "metadata": {},
   "outputs": [
    {
     "data": {
      "application/json": {
       "data": {
        "Aggregate": {
         "Work": [
          {
           "meta": {
            "count": 108109
           }
          }
         ]
        }
       }
      },
      "text/plain": [
       "<IPython.core.display.JSON object>"
      ]
     },
     "execution_count": 2,
     "metadata": {
      "application/json": {
       "expanded": true,
       "root": "root"
      }
     },
     "output_type": "execute_result"
    }
   ],
   "source": [
    "class_name = \"Work\"\n",
    "count = CLIENT.query.aggregate(class_name).with_meta_count().do()\n",
    "jprint(count)"
   ]
  },
  {
   "cell_type": "code",
   "execution_count": null,
   "metadata": {},
   "outputs": [],
   "source": [
    "jprint(\n",
    "    CLIENT.schema.get()\n",
    ")"
   ]
  },
  {
   "cell_type": "code",
   "execution_count": 3,
   "metadata": {},
   "outputs": [
    {
     "name": "stdout",
     "output_type": "stream",
     "text": [
      "Equal: 222\n",
      "NotEqual: 107887\n"
     ]
    }
   ],
   "source": [
    "not_equal =(\n",
    "    CLIENT.query\n",
    "        .aggregate(class_name)\n",
    "        .with_where({\n",
    "            \"path\": [\"collection\"],\n",
    "            \"operator\": \"NotEqual\",\n",
    "            \"valueText\": \"Herskovits Library of African Studies Audiovisual Collection\"\n",
    "        })\n",
    "        .with_meta_count()\n",
    "        .do()\n",
    ")\n",
    "\n",
    "equal =(\n",
    "    CLIENT.query\n",
    "        .aggregate(class_name)\n",
    "        .with_where({\n",
    "            \"path\": [\"collection\"],\n",
    "            \"operator\": \"Equal\",\n",
    "            \"valueText\": \"Herskovits Library of African Studies Audiovisual Collection\"\n",
    "        })\n",
    "        .with_meta_count()\n",
    "        .do()\n",
    ")\n",
    "\n",
    "print(f\"Equal: {equal['data']['Aggregate']['Work'][0]['meta']['count']}\")\n",
    "print(f\"NotEqual: {not_equal['data']['Aggregate']['Work'][0]['meta']['count']}\")"
   ]
  },
  {
   "cell_type": "code",
   "execution_count": null,
   "metadata": {},
   "outputs": [],
   "source": [
    "where_filter = {\n",
    "  \"path\": [\"id\"],\n",
    "  \"operator\": \"Equal\",\n",
    "  \"valueText\": \"0e4ed566-a82e-443d-af9e-d475e7a3a90c\"\n",
    "}\n",
    "\n",
    "vector = (\n",
    "  CLIENT.query\n",
    "  .get(class_name, \"title\")\n",
    "  .with_where(where_filter)\n",
    "  .with_additional(\"vector\")\n",
    "  .do()\n",
    ")[\"data\"][\"Get\"][\"Work\"][0][\"_additional\"][\"vector\"]"
   ]
  }
 ],
 "metadata": {
  "kernelspec": {
   "display_name": "weaviate",
   "language": "python",
   "name": "python3"
  },
  "language_info": {
   "codemirror_mode": {
    "name": "ipython",
    "version": 3
   },
   "file_extension": ".py",
   "mimetype": "text/x-python",
   "name": "python",
   "nbconvert_exporter": "python",
   "pygments_lexer": "ipython3",
   "version": "3.9.16"
  },
  "orig_nbformat": 4
 },
 "nbformat": 4,
 "nbformat_minor": 2
}
