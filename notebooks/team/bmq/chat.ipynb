{
 "cells": [
  {
   "cell_type": "code",
   "execution_count": 1,
   "metadata": {},
   "outputs": [
    {
     "name": "stdout",
     "output_type": "stream",
     "text": [
      "Setup Complete. Use CLIENT to access Weaviate.\n"
     ]
    }
   ],
   "source": [
    "%run \"../../../setup.ipynb\"\n",
    "if CLIENT == None:\n",
    "    print(\"Failed to create CLIENT.\")"
   ]
  },
  {
   "cell_type": "code",
   "execution_count": 5,
   "metadata": {},
   "outputs": [
    {
     "data": {
      "application/json": {
       "data": {
        "Get": {
         "Work": null
        }
       },
       "errors": [
        {
         "locations": [
          {
           "column": 6,
           "line": 1
          }
         ],
         "message": "explorer: get class: extend: extend answer: send POST request: Post \"https://rdc-openai.openai.azure.com/openai/deployments/dc-gpt-35/completions?api-version=2022-12-01\": dial tcp 20.232.91.180:443: i/o timeout",
         "path": [
          "Get",
          "Work"
         ]
        }
       ]
      },
      "text/plain": [
       "<IPython.core.display.JSON object>"
      ]
     },
     "execution_count": 5,
     "metadata": {
      "application/json": {
       "expanded": true,
       "root": "root"
      }
     },
     "output_type": "execute_result"
    }
   ],
   "source": [
    "ask = {\n",
    "  \"question\": \"Any works related to East Africa?\",\n",
    "  \"properties\": [\"title\"]\n",
    "}\n",
    "\n",
    "ask_result = (\n",
    "  CLIENT.query\n",
    "  .get(\"Work\", [\"title\", \"_additional {answer {hasAnswer property result startPosition endPosition} }\"])\n",
    "  .with_ask(ask)\n",
    "  .with_limit(1)\n",
    "  .do()\n",
    ")\n",
    "\n",
    "\n",
    "jprint(ask_result)"
   ]
  },
  {
   "cell_type": "code",
   "execution_count": null,
   "metadata": {},
   "outputs": [],
   "source": [
    "# # instruction for the generative module\n",
    "# generatePrompt = \"Describe types of academic researchers that could be interested in this work: {title}\"\n",
    "\n",
    "# result = (\n",
    "#   CLIENT.query\n",
    "#   .get(class_name=\"Work\", properties=[\"title\"])\n",
    "#   .with_generate(single_prompt=generatePrompt)\n",
    "#   .with_near_text({\n",
    "#     \"concepts\": [\"african history\"]\n",
    "#   })\n",
    "#   .with_limit(1)\n",
    "# ).do()"
   ]
  }
 ],
 "metadata": {
  "kernelspec": {
   "display_name": "weaviate",
   "language": "python",
   "name": "python3"
  },
  "language_info": {
   "codemirror_mode": {
    "name": "ipython",
    "version": 3
   },
   "file_extension": ".py",
   "mimetype": "text/x-python",
   "name": "python",
   "nbconvert_exporter": "python",
   "pygments_lexer": "ipython3",
   "version": "3.9.16"
  },
  "orig_nbformat": 4
 },
 "nbformat": 4,
 "nbformat_minor": 2
}
