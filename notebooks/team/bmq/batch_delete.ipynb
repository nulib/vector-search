{
 "cells": [
  {
   "cell_type": "code",
   "execution_count": 13,
   "metadata": {},
   "outputs": [
    {
     "name": "stdout",
     "output_type": "stream",
     "text": [
      "Setup Complete. Use CLIENT to access Weaviate.\n"
     ]
    }
   ],
   "source": [
    "%run \"../../../setup.ipynb\"\n",
    "if CLIENT == None:\n",
    "    print(\"Failed to create CLIENT.\")"
   ]
  },
  {
   "cell_type": "code",
   "execution_count": 8,
   "metadata": {},
   "outputs": [
    {
     "data": {
      "application/json": {
       "dryRun": false,
       "match": {
        "class": "Work",
        "where": {
         "operands": null,
         "operator": "Like",
         "path": [
          "collection"
         ],
         "valueText": "Saskia*"
        }
       },
       "output": "verbose",
       "results": {
        "failed": 0,
        "limit": 10000,
        "matches": 0,
        "objects": null,
        "successful": 0
       }
      },
      "text/plain": [
       "<IPython.core.display.JSON object>"
      ]
     },
     "execution_count": 8,
     "metadata": {
      "application/json": {
       "expanded": true,
       "root": "root"
      }
     },
     "output_type": "execute_result"
    }
   ],
   "source": [
    "dry_run = True\n",
    "result = CLIENT.batch.delete_objects(\n",
    "  class_name=\"Work\",\n",
    "  where={\n",
    "    \"operator\": \"Like\",\n",
    "    \"path\": [\"collection\"],\n",
    "    \"valueText\": \"Saskia*\"\n",
    "  },\n",
    "  output=\"verbose\",\n",
    "  dry_run=dry_run\n",
    ")\n",
    "\n",
    "jprint(result)"
   ]
  },
  {
   "cell_type": "code",
   "execution_count": 22,
   "metadata": {},
   "outputs": [
    {
     "data": {
      "application/json": {
       "data": {
        "Aggregate": {
         "Work": [
          {
           "meta": {
            "count": 0
           }
          }
         ]
        }
       }
      },
      "text/plain": [
       "<IPython.core.display.JSON object>"
      ]
     },
     "execution_count": 22,
     "metadata": {
      "application/json": {
       "expanded": true,
       "root": "root"
      }
     },
     "output_type": "execute_result"
    }
   ],
   "source": [
    "result = CLIENT.query.aggregate(\n",
    "  \"Work\",\n",
    ").with_where({\n",
    "    \"operator\": \"Like\",\n",
    "    \"path\": [\"collection\"],\n",
    "    \"valueText\": \"Curtis\"\n",
    "}).with_meta_count().do()\n",
    "\n",
    "jprint(result)"
   ]
  },
  {
   "cell_type": "code",
   "execution_count": null,
   "metadata": {},
   "outputs": [],
   "source": []
  }
 ],
 "metadata": {
  "kernelspec": {
   "display_name": "weaviate",
   "language": "python",
   "name": "python3"
  },
  "language_info": {
   "codemirror_mode": {
    "name": "ipython",
    "version": 3
   },
   "file_extension": ".py",
   "mimetype": "text/x-python",
   "name": "python",
   "nbconvert_exporter": "python",
   "pygments_lexer": "ipython3",
   "version": "3.9.16"
  },
  "orig_nbformat": 4
 },
 "nbformat": 4,
 "nbformat_minor": 2
}
