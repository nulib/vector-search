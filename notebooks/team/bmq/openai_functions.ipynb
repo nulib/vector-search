{
 "cells": [
  {
   "cell_type": "code",
   "execution_count": 1,
   "id": "ffe45cb2-80f0-427a-a18a-0990ac5a9184",
   "metadata": {
    "tags": []
   },
   "outputs": [
    {
     "name": "stdout",
     "output_type": "stream",
     "text": [
      "Setup Complete. Use CLIENT to access Weaviate.\n"
     ]
    }
   ],
   "source": [
    "%run \"../setup.ipynb\"\n",
    "if CLIENT == None:\n",
    "    print(\"Failed to create CLIENT.\")"
   ]
  },
  {
   "cell_type": "code",
   "execution_count": 2,
   "id": "d9745ad4-0e18-424d-a96b-0d37f1713aa4",
   "metadata": {
    "tags": []
   },
   "outputs": [],
   "source": [
    "schema = {\n",
    "  \"type\": \"object\",\n",
    "  \"properties\": {\n",
    "    \"ingredients\": {\n",
    "      \"type\": \"array\",\n",
    "      \"items\": {\n",
    "        \"type\": \"object\",\n",
    "        \"properties\": {\n",
    "          \"name\": { \"type\": \"string\" },\n",
    "          \"unit\": { \n",
    "            \"type\": \"string\",\n",
    "            \"enum\": [\"grams\", \"ml\", \"cups\", \"pieces\", \"teaspoons\"]\n",
    "          },\n",
    "          \"amount\": { \"type\": \"number\" }\n",
    "        },\n",
    "        \"required\": [\"name\", \"unit\", \"amount\"]\n",
    "      }\n",
    "    },\n",
    "    \"instructions\": {\n",
    "      \"type\": \"array\",\n",
    "      \"description\": \"Steps to prepare the recipe (no numbering)\",\n",
    "      \"items\": { \"type\": \"string\" }\n",
    "    },\n",
    "    \"time_to_cook\": {\n",
    "      \"type\": \"number\",\n",
    "      \"description\": \"Total time to prepare the recipe in minutes\"\n",
    "    }\n",
    "  },\n",
    "  \"required\": [\"ingredients\", \"instructions\", \"time_to_cook\"]\n",
    "}"
   ]
  },
  {
   "cell_type": "code",
   "execution_count": 4,
   "id": "102571ff-f321-4100-a484-ef2d1863d998",
   "metadata": {
    "tags": []
   },
   "outputs": [
    {
     "name": "stdout",
     "output_type": "stream",
     "text": [
      "{\n",
      "  \"ingredients\": [\n",
      "    {\n",
      "      \"name\": \"cooked rice\",\n",
      "      \"unit\": \"cups\",\n",
      "      \"amount\": 2\n",
      "    },\n",
      "    {\n",
      "      \"name\": \"spinach\",\n",
      "      \"unit\": \"grams\",\n",
      "      \"amount\": 200\n",
      "    },\n",
      "    {\n",
      "      \"name\": \"carrot\",\n",
      "      \"unit\": \"pieces\",\n",
      "      \"amount\": 1\n",
      "    },\n",
      "    {\n",
      "      \"name\": \"zucchini\",\n",
      "      \"unit\": \"pieces\",\n",
      "      \"amount\": 1\n",
      "    },\n",
      "    {\n",
      "      \"name\": \"shiitake mushrooms\",\n",
      "      \"unit\": \"grams\",\n",
      "      \"amount\": 100\n",
      "    },\n",
      "    {\n",
      "      \"name\": \"ground beef\",\n",
      "      \"unit\": \"grams\",\n",
      "      \"amount\": 150\n",
      "    },\n",
      "    {\n",
      "      \"name\": \"soy sauce\",\n",
      "      \"unit\": \"ml\",\n",
      "      \"amount\": 30\n",
      "    },\n",
      "    {\n",
      "      \"name\": \"sesame oil\",\n",
      "      \"unit\": \"ml\",\n",
      "      \"amount\": 30\n",
      "    },\n",
      "    {\n",
      "      \"name\": \"garlic\",\n",
      "      \"unit\": \"teaspoons\",\n",
      "      \"amount\": 2\n",
      "    },\n",
      "    {\n",
      "      \"name\": \"eggs\",\n",
      "      \"unit\": \"pieces\",\n",
      "      \"amount\": 2\n",
      "    },\n",
      "    {\n",
      "      \"name\": \"gochujang (Korean hot pepper paste)\",\n",
      "      \"unit\": \"teaspoons\",\n",
      "      \"amount\": 2\n",
      "    }\n",
      "  ],\n",
      "  \"instructions\": [\n",
      "    \"Cook the rice according to the package instructions.\",\n",
      "    \"Blanch the spinach in boiling water, then rinse under cold water. Squeeze out excess water and set aside.\",\n",
      "    \"Julienne the carrot and zucchini. Sauté each separately in a pan with a little oil.\",\n",
      "    \"Slice the mushrooms and sauté in a pan with a little oil.\",\n",
      "    \"Cook the ground beef in a pan with the soy sauce and garlic.\",\n",
      "    \"Fry the eggs sunny-side up.\",\n",
      "    \"To serve, place a portion of rice in a bowl. Arrange the spinach, carrot, zucchini, mushrooms, and beef on top of the rice. Place the fried egg on top. Add a dollop of gochujang to taste.\",\n",
      "    \"Mix all the ingredients together in the bowl before eating.\"\n",
      "  ],\n",
      "  \"time_to_cook\": 60\n",
      "}\n"
     ]
    }
   ],
   "source": [
    "import os\n",
    "import openai\n",
    "\n",
    "openai.api_key = os.getenv(\"OPENAI_API_KEY\")\n",
    "\n",
    "completion = openai.ChatCompletion.create(\n",
    "  model=\"gpt-4-0613\",\n",
    "  messages=[\n",
    "    {\"role\": \"system\", \"content\": \"You are a helpful assistant.\"},\n",
    "    {\"role\": \"user\", \"content\": \"Provide a recipe for bibimbap\"}\n",
    "  ],\n",
    "  functions=[{\"name\": \"set_recipe\", \"parameters\": schema}],\n",
    "  function_call={\"name\": \"set_recipe\"},\n",
    "  temperature=0,\n",
    ")\n",
    "\n",
    "print(completion.choices[0].message.function_call.arguments)"
   ]
  },
  {
   "cell_type": "code",
   "execution_count": null,
   "id": "5aef47aa-1255-435d-ab35-4b66f93fb12e",
   "metadata": {
    "tags": []
   },
   "outputs": [],
   "source": [
    "%pip install scipy\n",
    "%pip install tenacity\n",
    "%pip install tiktoken==0.3.3\n",
    "%pip install termcolor \n",
    "%pip install openai\n",
    "%pip install requests\n",
    "%pip install arxiv\n",
    "%pip install pandas\n",
    "%pip install PyPDF2\n",
    "%pip install tqdm"
   ]
  },
  {
   "cell_type": "code",
   "execution_count": null,
   "id": "be439875-230b-4819-936d-163e2ab55f33",
   "metadata": {
    "tags": []
   },
   "outputs": [],
   "source": [
    "import arxiv\n",
    "import ast\n",
    "import concurrent\n",
    "from csv import writer\n",
    "from IPython.display import display, Markdown, Latex\n",
    "import json\n",
    "import os\n",
    "import pandas as pd\n",
    "from PyPDF2 import PdfReader\n",
    "import requests\n",
    "from scipy import spatial\n",
    "from tenacity import retry, wait_random_exponential, stop_after_attempt\n",
    "import tiktoken\n",
    "from tqdm import tqdm\n",
    "from termcolor import colored\n",
    "\n",
    "GPT_MODEL = \"gpt-3.5-turbo-0613\"\n",
    "EMBEDDING_MODEL = \"text-embedding-ada-002\""
   ]
  },
  {
   "cell_type": "code",
   "execution_count": null,
   "id": "6043333d-dc8b-4a08-a332-4b12b44d46e7",
   "metadata": {
    "tags": []
   },
   "outputs": [],
   "source": [
    "@retry(wait=wait_random_exponential(min=1, max=40), stop=stop_after_attempt(3))\n",
    "def chat_completion_request(messages, functions=None, model=GPT_MODEL):\n",
    "    headers = {\n",
    "        \"Content-Type\": \"application/json\",\n",
    "        \"Authorization\": \"Bearer \" + openai.api_key,\n",
    "    }\n",
    "    json_data = {\"model\": model, \"messages\": messages}\n",
    "    if functions is not None:\n",
    "        json_data.update({\"functions\": functions})\n",
    "    try:\n",
    "        response = requests.post(\n",
    "            \"https://api.openai.com/v1/chat/completions\",\n",
    "            headers=headers,\n",
    "            json=json_data,\n",
    "        )\n",
    "        return response\n",
    "    except Exception as e:\n",
    "        print(\"Unable to generate ChatCompletion response\")\n",
    "        print(f\"Exception: {e}\")\n",
    "        return e"
   ]
  },
  {
   "cell_type": "code",
   "execution_count": null,
   "id": "35c21127-f973-4fa9-8a0e-253f2c29671f",
   "metadata": {
    "tags": []
   },
   "outputs": [],
   "source": [
    "class Conversation:\n",
    "    def __init__(self):\n",
    "        self.conversation_history = []\n",
    "\n",
    "    def add_message(self, role, content):\n",
    "        message = {\"role\": role, \"content\": content}\n",
    "        self.conversation_history.append(message)\n",
    "\n",
    "    def display_conversation(self, detailed=False):\n",
    "        role_to_color = {\n",
    "            \"system\": \"red\",\n",
    "            \"user\": \"green\",\n",
    "            \"assistant\": \"blue\",\n",
    "            \"function\": \"magenta\",\n",
    "        }\n",
    "        for message in self.conversation_history:\n",
    "            print(\n",
    "                colored(\n",
    "                    f\"{message['role']}: {message['content']}\\n\\n\",\n",
    "                    role_to_color[message[\"role\"]],\n",
    "                )\n",
    "            )"
   ]
  },
  {
   "cell_type": "code",
   "execution_count": null,
   "id": "759ed347-5fa1-4230-b9b6-1858d247da4d",
   "metadata": {
    "tags": []
   },
   "outputs": [],
   "source": [
    "import requests\n",
    "\n",
    "def get_collections():\n",
    "    response = requests.get('https://api.dc.library.northwestern.edu/api/v2/collections?size=10000')\n",
    "\n",
    "    if response.status_code != 200:\n",
    "        print(f\"Failed to get data from the API. Status code: {response.status_code}\")\n",
    "        return None\n",
    "    \n",
    "    print(len(response.json()['data']))\n",
    "\n",
    "    for collection in response.json()['data']:\n",
    "        title = collection['title']\n",
    "        description = collection['description']\n",
    "        print(f'Title: {title}\\nDescription: {description}\\n')\n",
    "\n",
    "    # return collections['data']"
   ]
  },
  {
   "cell_type": "code",
   "execution_count": null,
   "id": "c9cfa360-ee57-44b8-bbb7-b008755e048d",
   "metadata": {
    "tags": []
   },
   "outputs": [],
   "source": [
    "get_collections()"
   ]
  },
  {
   "cell_type": "code",
   "execution_count": null,
   "id": "f9a04030-f80b-4106-8605-f8b1ca2f2f4c",
   "metadata": {},
   "outputs": [],
   "source": [
    "def search_collection(collection_name):\n",
    "    \"\"\"\n",
    "    Perform a search on DC API to get a collection based on the title.\n",
    "\n",
    "    :param collection_name: The name of the collection.\n",
    "    :return: The collection object or some representative data of the collection.\n",
    "    \"\"\"\n",
    "    # The actual implementation will depend on the specifics of your DC API.\n",
    "    # Replace this with appropriate API interaction logic.\n",
    "    api_response = your_dc_api.search_collection(collection_name)\n",
    "\n",
    "    return api_response\n"
   ]
  },
  {
   "cell_type": "code",
   "execution_count": null,
   "id": "eb5c4e1e-3a49-4ed0-8a27-61a0d48df8f3",
   "metadata": {},
   "outputs": [],
   "source": [
    "dc_functions = [\n",
    "    {\n",
    "        \"name\": \"search_collection\",\n",
    "        \"description\": \"Search for a collection in the DC API based on the title.\",\n",
    "        \"parameters\": {\n",
    "            \"type\": \"object\",\n",
    "            \"properties\": {\n",
    "                \"collection_name\": {\n",
    "                    \"type\": \"string\",\n",
    "                    \"description\": \"The name of the collection to search for.\",\n",
    "                },\n",
    "            },\n",
    "            \"required\": [\"collection_name\"],\n",
    "        },\n",
    "    },\n",
    "    {\n",
    "        \"name\": \"semantic_search\",\n",
    "        \"description\": \"Search for a collection in the DC API based on the title.\",\n",
    "        \"parameters\": {\n",
    "            \"type\": \"object\",\n",
    "            \"properties\": {\n",
    "                \"collection_name\": {\n",
    "                    \"type\": \"string\",\n",
    "                    \"description\": \"The name of the collection to search for.\",\n",
    "                },\n",
    "            },\n",
    "            \"required\": [\"collection_name\"],\n",
    "        },\n",
    "    },\n",
    "]\n",
    "]\n"
   ]
  },
  {
   "cell_type": "code",
   "execution_count": null,
   "id": "602353d4-eed0-415c-89c9-e79f0ab5cd93",
   "metadata": {},
   "outputs": [],
   "source": [
    "def call_function(messages, full_message):\n",
    "    \"\"\"Function calling function which executes function calls when the model believes it is necessary.\n",
    "    Currently extended by adding clauses to this if statement.\"\"\"\n",
    "\n",
    "    function_name = full_message[\"message\"][\"function_call\"][\"name\"]\n",
    "    parsed_output = json.loads(full_message[\"message\"][\"function_call\"][\"arguments\"])\n",
    "\n",
    "    if function_name == \"search_collection\":\n",
    "        print(\"Searching for collection\")\n",
    "        content = search_collection(parsed_output[\"collection_name\"])\n",
    "    elif function_name == \"semantic_search\":\n",
    "        print(\"Query the vector database\")\n",
    "        content = summarize_text(parsed_output[\"query\"])\n",
    "    else:\n",
    "        raise Exception(\"Function does not exist and cannot be called\")\n",
    "\n",
    "    messages.append({\n",
    "        \"role\": \"function\",\n",
    "        \"name\": function_name,\n",
    "        \"content\": content,\n",
    "    })\n",
    "\n",
    "    try:\n",
    "        print(\"Processing results\")\n",
    "        response = chat_completion_request(messages)\n",
    "        return response.json()\n",
    "    except Exception as e:\n",
    "        print(type(e))\n",
    "        raise Exception(\"Function chat request failed\")\n"
   ]
  }
 ],
 "metadata": {
  "kernelspec": {
   "display_name": "weaviate:Python",
   "language": "python",
   "name": "conda-env-weaviate-py"
  },
  "language_info": {
   "codemirror_mode": {
    "name": "ipython",
    "version": 3
   },
   "file_extension": ".py",
   "mimetype": "text/x-python",
   "name": "python",
   "nbconvert_exporter": "python",
   "pygments_lexer": "ipython3",
   "version": "3.9.16"
  }
 },
 "nbformat": 4,
 "nbformat_minor": 5
}
