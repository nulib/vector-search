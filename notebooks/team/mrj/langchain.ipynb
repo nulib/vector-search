{
 "cells": [
  {
   "cell_type": "code",
   "execution_count": 3,
   "metadata": {},
   "outputs": [
    {
     "name": "stdout",
     "output_type": "stream",
     "text": [
      "Setup Complete. Use CLIENT to access Weaviate.\n"
     ]
    }
   ],
   "source": [
    "%run \"../../../setup.ipynb\"\n",
    "if CLIENT == None:\n",
    "    print(\"Failed to create CLIENT.\")"
   ]
  },
  {
   "cell_type": "code",
   "execution_count": 4,
   "metadata": {},
   "outputs": [],
   "source": [
    "from langchain.chat_models import AzureChatOpenAI\n",
    "from langchain.vectorstores import Weaviate\n",
    "from typing import List\n",
    "import os\n",
    "import weaviate\n",
    "\n",
    "def openai_chat_client():\n",
    "  deployment = os.getenv(\"AZURE_OPENAI_LLM_DEPLOYMENT_ID\")\n",
    "  key = os.getenv(\"AZURE_OPENAI_API_KEY\")\n",
    "  resource = os.getenv(\"AZURE_OPENAI_RESOURCE_NAME\")\n",
    "\n",
    "  return AzureChatOpenAI(deployment_name=deployment, \n",
    "                         openai_api_key=key, \n",
    "                         openai_api_base=f\"https://{resource}.openai.azure.com/\",\n",
    "                         openai_api_version=\"2023-03-15-preview\")\n",
    "\n",
    "\n",
    "def weaviate_vector_store(index_name: str, text_key: str, attributes: List[str] = []):\n",
    "  weaviate_url = os.environ['WEAVIATE_URL']\n",
    "  weaviate_api_key = os.environ['WEAVIATE_API_KEY']\n",
    "  openai_api_key = os.environ['AZURE_OPENAI_API_KEY']\n",
    "\n",
    "  auth_config = weaviate.AuthApiKey(api_key=weaviate_api_key)\n",
    "\n",
    "  client = weaviate.Client(\n",
    "      url=weaviate_url,\n",
    "      auth_client_secret=auth_config,\n",
    "      additional_headers={\n",
    "          \"X-OpenAI-Api-Key\": openai_api_key\n",
    "      }\n",
    "  )\n",
    "  return Weaviate(client=client, \n",
    "                  index_name=index_name, \n",
    "                  text_key=text_key, \n",
    "                  attributes=attributes)"
   ]
  },
  {
   "cell_type": "code",
   "execution_count": 5,
   "metadata": {},
   "outputs": [],
   "source": [
    "import base64\n",
    "import json\n",
    "import os\n",
    "from langchain.chains import RetrievalQAWithSourcesChain\n",
    "\n",
    "\n",
    "from langchain.agents.agent_toolkits import (\n",
    "    create_vectorstore_agent,\n",
    "    VectorStoreToolkit,\n",
    "    VectorStoreInfo,\n",
    ")\n",
    "\n",
    "\n",
    "def ask(question):\n",
    "  index_name = \"Work\"\n",
    "  text_key = \"title\"\n",
    "  attributes = [\"identifier\", \"title\", \"source\", \"alternate_title\", \"contributor\", \"create_date\", \"creator\", \"date_created\", \"description\", \"genre\", \"keywords\", \"language\", \"location\", \"physical_description_material\", \"physical_description_size\", \"scope_and_contents\", \"style_period\", \"subject\", \"table_of_contents\", \"technique\"]\n",
    "\n",
    "  weaviate = weaviate_vector_store(\n",
    "    index_name=index_name, \n",
    "    text_key=text_key, \n",
    "    attributes=attributes\n",
    "  )\n",
    "  \n",
    "  client = openai_chat_client()\n",
    "  chain = RetrievalQAWithSourcesChain.from_chain_type(\n",
    "    client, \n",
    "    chain_type=\"stuff\", \n",
    "    retriever=weaviate.as_retriever()\n",
    "  )\n",
    "\n",
    "  return chain({\"question\": question})"
   ]
  },
  {
   "cell_type": "code",
   "execution_count": 19,
   "metadata": {},
   "outputs": [
    {
     "data": {
      "text/plain": [
       "{'question': 'Where is Northwestern University located?',\n",
       " 'answer': 'Northwestern University is located in Evanston, Illinois.\\n',\n",
       " 'sources': 'https://dc.library.northwestern.edu/items/e353efcd-8664-4ede-9f0b-1f8d35aaefa0, https://dc.library.northwestern.edu/items/52de7487-eb47-4b22-bf57-59a049e7fc09, https://dc.library.northwestern.edu/items/f08996ed-9125-430f-a1c2-6c21c7527772, https://dc.library.northwestern.edu/items/aa23199b-782b-41c3-9cb3-ac14da315686'}"
      ]
     },
     "execution_count": 19,
     "metadata": {},
     "output_type": "execute_result"
    }
   ],
   "source": [
    "ask(\"Where is Northwestern University located?\")"
   ]
  },
  {
   "cell_type": "code",
   "execution_count": 20,
   "metadata": {},
   "outputs": [
    {
     "data": {
      "text/plain": [
       "{'question': 'Is Northwestern near Lake Michigan?',\n",
       " 'answer': 'Yes, Northwestern is near Lake Michigan. \\n',\n",
       " 'sources': 'Pictures in links provided show views of Lake Michigan from Northwestern University and locations near it.'}"
      ]
     },
     "execution_count": 20,
     "metadata": {},
     "output_type": "execute_result"
    }
   ],
   "source": [
    "ask(\"Is Northwestern near Lake Michigan?\")"
   ]
  },
  {
   "cell_type": "code",
   "execution_count": 24,
   "metadata": {},
   "outputs": [
    {
     "data": {
      "text/plain": [
       "{'question': 'Does the collection have any images of lions in the wild?',\n",
       " 'answer': 'Yes, the collection has at least one image of lions in the wild in East Africa.\\n',\n",
       " 'sources': 'https://dc.library.northwestern.edu/items/625c6477-93b9-4ada-bc4f-8a3f0b63dee0'}"
      ]
     },
     "execution_count": 24,
     "metadata": {},
     "output_type": "execute_result"
    }
   ],
   "source": [
    "ask(\"Does the collection have any images of lions in the wild?\")"
   ]
  },
  {
   "cell_type": "code",
   "execution_count": 21,
   "metadata": {},
   "outputs": [
    {
     "data": {
      "text/plain": [
       "{'question': 'Can you show me examples of war propaganda?',\n",
       " 'answer': 'Examples of war propaganda include \"I\\'m counting on you! : don\\'t discuss troop movements, ship sailings, war equipment,\" \"United : the United Nations fight for freedom,\" and \"Bombers\\' guardians : your planes carry the fight to the Axis.\" \\n',\n",
       " 'sources': 'https://dc.library.northwestern.edu/items/5bdea09c-0fd2-4297-b58c-3ff2df3ba73f, https://dc.library.northwestern.edu/items/c52a9fea-3bf8-4edd-a7f9-5c090e092b9b, https://dc.library.northwestern.edu/items/a8d6c689-7ae9-4942-9b71-5bad6fe1095f, https://dc.library.northwestern.edu/items/3f3edf71-f9d2-4361-88a3-3de082ebdcd9'}"
      ]
     },
     "execution_count": 21,
     "metadata": {},
     "output_type": "execute_result"
    }
   ],
   "source": [
    "ask(\"Can you show me examples of war propaganda?\")"
   ]
  },
  {
   "cell_type": "code",
   "execution_count": 23,
   "metadata": {},
   "outputs": [
    {
     "data": {
      "text/plain": [
       "{'question': 'Can you show me historical Northwestern football matches?',\n",
       " 'answer': 'Yes, historical Northwestern football matches are available at the following links: \\n- https://dc.library.northwestern.edu/items/57dcb664-7878-490e-87b6-6c4283b1854e (Preparations, 1943)\\n- https://dc.library.northwestern.edu/items/0bd480f3-2503-4e0f-ae9e-9662592567fe (vs. Notre Dame, 1944)\\n- https://dc.library.northwestern.edu/items/b0ae1256-efa5-4dc7-b54e-71029b2c5495 (vs. Wisconsin, 1939)\\n- https://dc.library.northwestern.edu/items/c0ef3eba-d71b-4851-99c0-a65cf52c133d (vs. Wisconsin, 1940)\\n',\n",
       " 'sources': 'Provided links'}"
      ]
     },
     "execution_count": 23,
     "metadata": {},
     "output_type": "execute_result"
    }
   ],
   "source": [
    "ask(\"Can you show me historical Northwestern football matches?\")"
   ]
  },
  {
   "cell_type": "code",
   "execution_count": 22,
   "metadata": {},
   "outputs": [
    {
     "data": {
      "text/plain": [
       "{'question': 'Who did John Cage correspond with during his life?',\n",
       " 'answer': 'John Cage corresponded with H.M.L., Barbara Chandler, Marion Swartz, and George Avakian.\\n',\n",
       " 'sources': 'https://dc.library.northwestern.edu/items/e61667ee-0c20-418b-84ec-ec6200cca270, https://dc.library.northwestern.edu/items/33906799-3fc3-4f1b-834a-5c78c7ecea76, https://dc.library.northwestern.edu/items/0a2308e6-93a8-40a9-b5ed-77f8f2ad7697, https://dc.library.northwestern.edu/items/816c7d2f-72e5-425c-8bf2-5e96e629f866'}"
      ]
     },
     "execution_count": 22,
     "metadata": {},
     "output_type": "execute_result"
    }
   ],
   "source": [
    "ask(\"Who did John Cage correspond with during his life?\")"
   ]
  },
  {
   "cell_type": "code",
   "execution_count": 25,
   "metadata": {},
   "outputs": [
    {
     "data": {
      "text/plain": [
       "{'question': 'Clarinet is my favorite, any examples?',\n",
       " 'answer': 'There is an example of a Trio in B-flat Major Op. 11 for Clarinet, Cello and Piano.\\n',\n",
       " 'sources': 'https://dc.library.northwestern.edu/items/50043b3c-7e35-40b9-ac0b-2107da4287ce'}"
      ]
     },
     "execution_count": 25,
     "metadata": {},
     "output_type": "execute_result"
    }
   ],
   "source": [
    "ask(\"Clarinet is my favorite, any examples?\")"
   ]
  }
 ],
 "metadata": {
  "kernelspec": {
   "display_name": "weaviate",
   "language": "python",
   "name": "python3"
  },
  "language_info": {
   "codemirror_mode": {
    "name": "ipython",
    "version": 3
   },
   "file_extension": ".py",
   "mimetype": "text/x-python",
   "name": "python",
   "nbconvert_exporter": "python",
   "pygments_lexer": "ipython3",
   "version": "3.9.16"
  },
  "orig_nbformat": 4
 },
 "nbformat": 4,
 "nbformat_minor": 2
}
